{
 "cells": [
  {
   "cell_type": "markdown",
   "id": "d555f0e4-dba9-4eb3-b8c6-c52f266987f0",
   "metadata": {},
   "source": [
    "## **Intriduction to Python Script**"
   ]
  },
  {
   "cell_type": "markdown",
   "id": "f2a30dfc-20ed-4442-a144-7054f97fb03e",
   "metadata": {},
   "source": [
    "### Comment Line and Block Comment"
   ]
  },
  {
   "cell_type": "code",
   "execution_count": null,
   "id": "c87f7563-7438-43e4-a96e-c7a420930b8d",
   "metadata": {},
   "outputs": [],
   "source": [
    "# This is a comment line\n",
    "# This is another comment line\n",
    "# this is the last comment line"
   ]
  },
  {
   "cell_type": "markdown",
   "id": "bce1fcbe-868c-4e32-bb2b-48b260754b36",
   "metadata": {},
   "source": [
    "### Input and Output in Python"
   ]
  },
  {
   "cell_type": "code",
   "execution_count": 2,
   "id": "546da56b-7798-44fb-824a-70cda53bcf36",
   "metadata": {},
   "outputs": [
    {
     "name": "stdin",
     "output_type": "stream",
     "text": [
      "Please enter the first number:  111\n",
      "Please enter the second number:  222\n"
     ]
    },
    {
     "name": "stdout",
     "output_type": "stream",
     "text": [
      "Input numbers are 111 and 222\n"
     ]
    }
   ],
   "source": [
    "num1 = input(\"Please enter the first number: \")\n",
    "num2 = input(\"Please enter the second number: \")\n",
    "print (\"Input numbers are\", num1, \"and\", num2)"
   ]
  },
  {
   "cell_type": "code",
   "execution_count": 10,
   "id": "7d50a524-bb20-4e0c-b547-56abd1efa43d",
   "metadata": {},
   "outputs": [
    {
     "name": "stdin",
     "output_type": "stream",
     "text": [
      "Please enter the first number:  200\n",
      "Please enter the second number:  300\n"
     ]
    },
    {
     "name": "stdout",
     "output_type": "stream",
     "text": [
      "200 <class 'str'> 300 <class 'str'>\n",
      "200300\n"
     ]
    }
   ],
   "source": [
    "num1 = input(\"Please enter the first number: \")\n",
    "num2 = input(\"Please enter the second number: \")\n",
    "print (num1, type(num1), num2, type(num2))\n",
    "total = num1 + num2    # string concatenation\n",
    "print (total)"
   ]
  },
  {
   "cell_type": "code",
   "execution_count": 12,
   "id": "063f8f3a-c837-4af0-a305-78442f20e65f",
   "metadata": {},
   "outputs": [
    {
     "name": "stdin",
     "output_type": "stream",
     "text": [
      "Please enter the first number:  200\n",
      "Please enter the second number:  300\n"
     ]
    },
    {
     "name": "stdout",
     "output_type": "stream",
     "text": [
      "200 <class 'int'> 300 <class 'int'>\n",
      "500\n"
     ]
    }
   ],
   "source": [
    "num1 = int(input(\"Please enter the first number: \"))\n",
    "num2 = int(input(\"Please enter the second number: \"))\n",
    "print (num1, type(num1), num2, type(num2))\n",
    "total = num1 + num2    # algebraic addition\n",
    "print (total)"
   ]
  },
  {
   "cell_type": "code",
   "execution_count": 24,
   "id": "646d1c82-b1bf-4384-93f5-d914c3099059",
   "metadata": {},
   "outputs": [
    {
     "name": "stdout",
     "output_type": "stream",
     "text": [
      "So 200 + 300 = 500\n",
      "So 200 + 300 = 500\n",
      "So 200 + 300 = 500\n",
      "So 200 + 300 = 500\n",
      "So 200 + 300 = 500\n",
      "So 200 + 300 = 500\n",
      "So 200 + 300 = 500\n",
      "So 200 + 300 = 500\n",
      "So 200 + 300.000000 = 500\n",
      "So 200 +   300.00 = 500\n",
      "So 200 + 300 = 500\n"
     ]
    }
   ],
   "source": [
    "print (\"So\", num1, \"+\", num2, \"=\", total)\n",
    "print (\"So \" + str(num1) + \" + \" + str(num2) + \" = \" + str(total))\n",
    "print (\"So {} + {} = {}\".format(num1, num2, total))   # {} stands for statement placeholder\n",
    "print (\"So {0} + {1} = {2}\".format(num1, num2, total))    # variable placeholder\n",
    "print (\"So {2} + {1} = {0}\".format(total, num2, num1))    # indexed placeholder\n",
    "print (\"So {fnum} + {snum} = {tot}\".format(fnum = num1, snum = num2, tot = total))    # labelled placeholder\n",
    "print (\"So {fnum} + {snum} = {tot}\".format(tot = total, fnum = num1, snum = num2))    # labelled placeholder\n",
    "print (\"So %d + %d = %d\"%(num1, num2, total))\n",
    "print (\"So %d + %f = %d\"%(num1, num2, total))\n",
    "print (\"So %d + %8.2f = %d\"%(num1, num2, total))\n",
    "print (f\"So {num1} + {num2} = {total}\")   # f stands for smart formatting"
   ]
  },
  {
   "cell_type": "markdown",
   "id": "e73253e0-8e92-477e-a6f4-88f86c2bfea7",
   "metadata": {},
   "source": [
    "### Python Operators"
   ]
  },
  {
   "cell_type": "code",
   "execution_count": 25,
   "id": "98c2baed-fdd9-478f-8a41-3e8ede9bfc1b",
   "metadata": {},
   "outputs": [
    {
     "name": "stdout",
     "output_type": "stream",
     "text": [
      "140\n",
      "60\n",
      "4000\n",
      "2.5\n",
      "2\n",
      "20\n",
      "100000000\n"
     ]
    }
   ],
   "source": [
    "# arithmetic operators: + - * / // % **\n",
    "print (100 + 40)\n",
    "print (100 - 40)\n",
    "print (100 * 40)\n",
    "print (100 / 40)   # float division\n",
    "print (100 // 40)  # integer division\n",
    "print (100 % 40)   # remainder of the division\n",
    "print (100 ** 4)   # exponentiation"
   ]
  },
  {
   "cell_type": "code",
   "execution_count": 27,
   "id": "3a3b5ce3-41d3-431f-8b53-c10bdd4c7e8c",
   "metadata": {},
   "outputs": [
    {
     "name": "stdout",
     "output_type": "stream",
     "text": [
      "True True False True\n",
      "False False\n"
     ]
    }
   ],
   "source": [
    "# relational operators: > >= < <= == !=\n",
    "print (100 > 20, 100 >= 20, 100 == 20, 100 != 20)\n",
    "print (100 < 20, 100 <= 20)"
   ]
  },
  {
   "cell_type": "code",
   "execution_count": 30,
   "id": "92a6462d-7746-4091-9194-c2a2c83775f1",
   "metadata": {},
   "outputs": [
    {
     "name": "stdout",
     "output_type": "stream",
     "text": [
      "True True True False\n",
      "True False False False\n",
      "False True\n"
     ]
    }
   ],
   "source": [
    "# logical operators: and or not\n",
    "print (True or True, True or False, False or True, False or False)\n",
    "print (True and True, True and False, False and True, False and False)\n",
    "print (not True, not False)"
   ]
  },
  {
   "cell_type": "code",
   "execution_count": 32,
   "id": "932eeaf2-8d98-4388-a0fc-b9149d7a204a",
   "metadata": {},
   "outputs": [
    {
     "name": "stdout",
     "output_type": "stream",
     "text": [
      "So 100 is an EVEN number...\n",
      "So 105 is an ODD number...\n"
     ]
    }
   ],
   "source": [
    "# operators can be divided in three categories:\n",
    "# category - 1: Unary operator (operator operand), -10, +10\n",
    "# category - 2: Binary operator (operand operator operand), 100 + 40, 100 - 40, 100 % 40\n",
    "# category - 3: Ternary operator (operator and three operands)\n",
    "num1 = 100\n",
    "result = \"EVEN\" if (num1 % 2 == 0) else \"ODD\"\n",
    "print (f\"So {num1} is an {result} number...\")\n",
    "\n",
    "num1 = 105\n",
    "result = \"EVEN\" if (num1 % 2 == 0) else \"ODD\"\n",
    "print (f\"So {num1} is an {result} number...\")"
   ]
  },
  {
   "cell_type": "code",
   "execution_count": 50,
   "id": "61a1db15-d5f7-4a0e-8df3-2eabf448ae2e",
   "metadata": {},
   "outputs": [
    {
     "name": "stdout",
     "output_type": "stream",
     "text": [
      "100\n",
      "150\n",
      "140\n",
      "1400\n"
     ]
    }
   ],
   "source": [
    "# assignment and sepcial assignment operators\n",
    "var1 = 100\n",
    "print (var1)\n",
    "var1 += 50\n",
    "print (var1)\n",
    "var1 -= 10\n",
    "print (var1)\n",
    "var1 *= 10\n",
    "print (var1)"
   ]
  },
  {
   "cell_type": "markdown",
   "id": "6267c571-1bdc-4901-a042-11510384e755",
   "metadata": {},
   "source": [
    "### Conditional Statement"
   ]
  },
  {
   "cell_type": "code",
   "execution_count": 42,
   "id": "c27cbbc4-741c-4cbb-9bd9-b94bef841df6",
   "metadata": {},
   "outputs": [
    {
     "name": "stdin",
     "output_type": "stream",
     "text": [
      "Please enter the first integer number:  300\n",
      "Please enter the second integer number:  100\n",
      "Please enter the third integer number:  200\n"
     ]
    },
    {
     "name": "stdout",
     "output_type": "stream",
     "text": [
      "So the FIRST Number is the Maximum number...\n",
      "So the Maximum Number is 300...\n",
      "End of the program...\n"
     ]
    }
   ],
   "source": [
    "# find the maximum of three user given integer numbers\n",
    "num1 = int(input(\"Please enter the first integer number: \"))\n",
    "num2 = int(input(\"Please enter the second integer number: \"))\n",
    "num3 = int(input(\"Please enter the third integer number: \"))\n",
    "if (num1 > num2):\n",
    "    if (num1 > num3):\n",
    "        print (\"So the FIRST Number is the Maximum number...\")\n",
    "        print (f\"So the Maximum Number is {num1}...\")\n",
    "    else:\n",
    "        print (\"So the THIRD Number is the Maximum number...\")\n",
    "        print (f\"So the Maximum Number is {num3}...\")\n",
    "elif (num2 > num3):\n",
    "    print (\"So the SECOND Number is the Maximum number...\")\n",
    "    print (f\"So the Maximum Number is {num2}...\")\n",
    "else:\n",
    "    print (\"So the THIRD Number is the Maximum number...\")\n",
    "    print (f\"So the Maximum Number is {num3}...\")\n",
    "print (\"End of the program...\")"
   ]
  },
  {
   "cell_type": "code",
   "execution_count": 46,
   "id": "fee7deb1-bee3-490d-8178-8342276d3a7c",
   "metadata": {},
   "outputs": [
    {
     "name": "stdin",
     "output_type": "stream",
     "text": [
      "Please enter the first integer number:  200\n",
      "Please enter the second integer number:  100\n",
      "Please enter the third integer number:  300\n"
     ]
    },
    {
     "name": "stdout",
     "output_type": "stream",
     "text": [
      "So the THIRD Number is the Maximum number...\n",
      "So the Maximum Number is 300...\n",
      "End of the program...\n"
     ]
    }
   ],
   "source": [
    "# find the maximum of three user given integer numbers\n",
    "num1 = int(input(\"Please enter the first integer number: \"))\n",
    "num2 = int(input(\"Please enter the second integer number: \"))\n",
    "num3 = int(input(\"Please enter the third integer number: \"))\n",
    "if (num1 > num2 and num1 > num3):\n",
    "    print (\"So the FIRST Number is the Maximum number...\")\n",
    "    print (f\"So the Maximum Number is {num1}...\")\n",
    "elif (num2 > num3):\n",
    "    print (\"So the SECOND Number is the Maximum number...\")\n",
    "    print (f\"So the Maximum Number is {num2}...\")\n",
    "else:\n",
    "    print (\"So the THIRD Number is the Maximum number...\")\n",
    "    print (f\"So the Maximum Number is {num3}...\")\n",
    "print (\"End of the program...\")"
   ]
  },
  {
   "cell_type": "code",
   "execution_count": 48,
   "id": "d42a5353-c6d8-4070-b98e-c8aae4a258ba",
   "metadata": {},
   "outputs": [
    {
     "name": "stdout",
     "output_type": "stream",
     "text": [
      "100 <class 'int'>\n",
      "100.5 <class 'float'>\n",
      "USA <class 'str'>\n",
      "True <class 'bool'>\n",
      "I <class 'str'>\n",
      "False <class 'bool'>\n"
     ]
    }
   ],
   "source": [
    "# python supports dynamic type variables\n",
    "var = 100\n",
    "print (var, type(var))\n",
    "var = 100.50\n",
    "print (var, type(var))\n",
    "var = 'USA'\n",
    "print (var, type(var))\n",
    "var = True\n",
    "print (var, type(var))\n",
    "var = \"I\"\n",
    "print (var, type(var))\n",
    "var = False\n",
    "print (var, type(var))"
   ]
  },
  {
   "cell_type": "markdown",
   "id": "2ae24c7c-f139-4932-ae70-9f94c9b4438a",
   "metadata": {},
   "source": [
    "### Python Loop Constructs"
   ]
  },
  {
   "cell_type": "code",
   "execution_count": null,
   "id": "8c7eed61-1503-4910-a90a-91e5ed3581df",
   "metadata": {},
   "outputs": [],
   "source": []
  },
  {
   "cell_type": "code",
   "execution_count": null,
   "id": "5ece1c02-0f6d-453a-82bf-623085bd33fa",
   "metadata": {},
   "outputs": [],
   "source": []
  },
  {
   "cell_type": "code",
   "execution_count": null,
   "id": "fae96bb4-4fcb-4ca6-8dbe-bbcbdeb9ffa3",
   "metadata": {},
   "outputs": [],
   "source": []
  },
  {
   "cell_type": "code",
   "execution_count": null,
   "id": "aef59b5c-9180-455c-a501-e67ede32a005",
   "metadata": {},
   "outputs": [],
   "source": []
  },
  {
   "cell_type": "code",
   "execution_count": null,
   "id": "77196d3a-197c-4302-81ef-34de753f468e",
   "metadata": {},
   "outputs": [],
   "source": []
  },
  {
   "cell_type": "code",
   "execution_count": null,
   "id": "0729936d-945d-48fe-bbc8-7f6067ba0614",
   "metadata": {},
   "outputs": [],
   "source": []
  },
  {
   "cell_type": "code",
   "execution_count": null,
   "id": "423226ca-ff7f-4852-a624-99b1fccb2258",
   "metadata": {},
   "outputs": [],
   "source": []
  },
  {
   "cell_type": "code",
   "execution_count": null,
   "id": "5e11eafa-9892-4393-8755-bb157fe9472d",
   "metadata": {},
   "outputs": [],
   "source": []
  },
  {
   "cell_type": "code",
   "execution_count": null,
   "id": "520135b2-a967-42b2-b406-37e1a98da031",
   "metadata": {},
   "outputs": [],
   "source": []
  },
  {
   "cell_type": "code",
   "execution_count": null,
   "id": "a9e409ca-9ffe-478c-b7b9-f1d438760198",
   "metadata": {},
   "outputs": [],
   "source": []
  },
  {
   "cell_type": "code",
   "execution_count": null,
   "id": "9453289e-9ef1-4182-9a39-667b3d46b575",
   "metadata": {},
   "outputs": [],
   "source": []
  },
  {
   "cell_type": "code",
   "execution_count": null,
   "id": "adb1fcf4-ba78-4e93-b729-f117c1762e64",
   "metadata": {},
   "outputs": [],
   "source": []
  },
  {
   "cell_type": "code",
   "execution_count": null,
   "id": "e1e05fe7-46c0-4ea6-86d5-a685d78e5ee3",
   "metadata": {},
   "outputs": [],
   "source": []
  },
  {
   "cell_type": "code",
   "execution_count": null,
   "id": "261fec9e-14cd-4bbd-8b6a-381591204c4d",
   "metadata": {},
   "outputs": [],
   "source": []
  },
  {
   "cell_type": "code",
   "execution_count": null,
   "id": "029bd3ad-e481-4fa4-a6b8-f24f0acd322a",
   "metadata": {},
   "outputs": [],
   "source": []
  },
  {
   "cell_type": "code",
   "execution_count": null,
   "id": "e3d11911-5de2-4df7-b732-807297a15f8c",
   "metadata": {},
   "outputs": [],
   "source": []
  },
  {
   "cell_type": "code",
   "execution_count": null,
   "id": "c5e89a13-e186-4b2d-abcd-1253866fb680",
   "metadata": {},
   "outputs": [],
   "source": []
  }
 ],
 "metadata": {
  "kernelspec": {
   "display_name": "Python 3 (ipykernel)",
   "language": "python",
   "name": "python3"
  },
  "language_info": {
   "codemirror_mode": {
    "name": "ipython",
    "version": 3
   },
   "file_extension": ".py",
   "mimetype": "text/x-python",
   "name": "python",
   "nbconvert_exporter": "python",
   "pygments_lexer": "ipython3",
   "version": "3.10.9"
  }
 },
 "nbformat": 4,
 "nbformat_minor": 5
}
