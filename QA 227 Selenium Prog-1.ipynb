{
 "cells": [
  {
   "cell_type": "markdown",
   "id": "e47bb71e-729c-4f7e-88a5-2208af6d5465",
   "metadata": {},
   "source": [
    "## Start Chrome Driver using executable path and start any webpage with get() function"
   ]
  },
  {
   "cell_type": "code",
   "execution_count": 6,
   "id": "810a18b5-d78c-4d70-aa34-24239279c94a",
   "metadata": {},
   "outputs": [],
   "source": [
    "# importing all the required modules\n",
    "from selenium import webdriver\n",
    "from selenium.webdriver.chrome.service import Service"
   ]
  },
  {
   "cell_type": "code",
   "execution_count": 7,
   "id": "769a5a2b-3744-4c94-af74-f86759b06e64",
   "metadata": {},
   "outputs": [
    {
     "name": "stdout",
     "output_type": "stream",
     "text": [
      "4.10.0\n"
     ]
    }
   ],
   "source": [
    "# check the version of the Selenium\n",
    "print (webdriver.__version__)"
   ]
  },
  {
   "cell_type": "code",
   "execution_count": 8,
   "id": "15f2b4f3-d882-4b3e-8a29-e41ec39884f6",
   "metadata": {},
   "outputs": [],
   "source": [
    "# at first check whether the chrome driver is present in the present\n",
    "# directory or not, so we can access it without any path if it is in the\n",
    "# present folder, otherwise we shall have to provide valid or relative\n",
    "# path to access it.\n",
    "\n",
    "service = Service(executable_path=\"./chromedriver.exe\")\n",
    "options = webdriver.ChromeOptions()\n",
    "driver = webdriver.Chrome(service=service, options=options)"
   ]
  },
  {
   "cell_type": "code",
   "execution_count": 9,
   "id": "a7f7a1f8-7646-43cd-a580-dd2455e3c334",
   "metadata": {},
   "outputs": [],
   "source": [
    "# open the wikipedia page\n",
    "driver.get(\"https://en.wikipedia.org/wiki/Main_Page\")"
   ]
  },
  {
   "cell_type": "code",
   "execution_count": 10,
   "id": "64c8f65d-ad6f-438b-8537-616130dfae1f",
   "metadata": {},
   "outputs": [
    {
     "name": "stdout",
     "output_type": "stream",
     "text": [
      "https://en.wikipedia.org/wiki/Main_Page\n",
      "Wikipedia, the free encyclopedia\n"
     ]
    }
   ],
   "source": [
    "# get and print the current URL and current Title of the home page\n",
    "print (driver.current_url)\n",
    "print (driver.title)"
   ]
  },
  {
   "cell_type": "code",
   "execution_count": 11,
   "id": "690697d6-0c2a-4105-8af2-58b8a3297797",
   "metadata": {},
   "outputs": [],
   "source": [
    "# now let us open another portal, e.g. Google\n",
    "driver.get(\"https://www.google.co.in/\")"
   ]
  },
  {
   "cell_type": "code",
   "execution_count": 12,
   "id": "04e683c6-b349-4072-95eb-cf85f25dc4e0",
   "metadata": {},
   "outputs": [
    {
     "name": "stdout",
     "output_type": "stream",
     "text": [
      "https://www.google.co.in/\n",
      "Google\n"
     ]
    }
   ],
   "source": [
    "# get the current URL and web page Title of the home page\n",
    "print (driver.current_url)\n",
    "print (driver.title)"
   ]
  },
  {
   "cell_type": "code",
   "execution_count": 13,
   "id": "2246de7c-749f-41c9-a65a-bc513dc01895",
   "metadata": {},
   "outputs": [
    {
     "name": "stdout",
     "output_type": "stream",
     "text": [
      "https://en.wikipedia.org/wiki/Main_Page\n",
      "Wikipedia, the free encyclopedia\n"
     ]
    }
   ],
   "source": [
    "# now return to the previous page with the back() function\n",
    "driver.back()\n",
    "print (driver.current_url)\n",
    "print (driver.title)"
   ]
  },
  {
   "cell_type": "code",
   "execution_count": 14,
   "id": "96883106-60d4-49ac-aeb3-3e460e3bc29d",
   "metadata": {},
   "outputs": [
    {
     "name": "stdout",
     "output_type": "stream",
     "text": [
      "https://www.google.co.in/\n",
      "Google\n"
     ]
    }
   ],
   "source": [
    "# now go to the google page again once again by using forward() function\n",
    "driver.forward()\n",
    "print (driver.current_url)\n",
    "print (driver.title)"
   ]
  },
  {
   "cell_type": "code",
   "execution_count": 15,
   "id": "4e7941de-27f6-40a8-a8fd-e6f3ab550e5b",
   "metadata": {},
   "outputs": [],
   "source": [
    "# close all the windows which were opened by the driver\n",
    "driver.quit()"
   ]
  },
  {
   "cell_type": "code",
   "execution_count": null,
   "id": "9c18bd58-d4ab-4aa3-bcb4-86fd535358de",
   "metadata": {},
   "outputs": [],
   "source": []
  }
 ],
 "metadata": {
  "kernelspec": {
   "display_name": "Python 3 (ipykernel)",
   "language": "python",
   "name": "python3"
  },
  "language_info": {
   "codemirror_mode": {
    "name": "ipython",
    "version": 3
   },
   "file_extension": ".py",
   "mimetype": "text/x-python",
   "name": "python",
   "nbconvert_exporter": "python",
   "pygments_lexer": "ipython3",
   "version": "3.10.9"
  }
 },
 "nbformat": 4,
 "nbformat_minor": 5
}
