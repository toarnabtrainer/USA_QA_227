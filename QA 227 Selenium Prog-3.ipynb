{
 "cells": [
  {
   "cell_type": "markdown",
   "id": "83b85b3a-64d4-431b-9201-f3a7dfef51ec",
   "metadata": {},
   "source": [
    "## **Selenium control options to wite text, button press, dropdown list, checkbox and others**"
   ]
  },
  {
   "cell_type": "code",
   "execution_count": 3,
   "id": "60b9db72-babd-4430-96f2-1c57252cfbf2",
   "metadata": {},
   "outputs": [],
   "source": [
    "# importing all the required modules\n",
    "from selenium import webdriver\n",
    "from selenium.webdriver.chrome.service import Service"
   ]
  },
  {
   "cell_type": "code",
   "execution_count": 4,
   "id": "b35808f9-3b63-44ee-b6ee-ba4674cccb37",
   "metadata": {},
   "outputs": [
    {
     "name": "stdout",
     "output_type": "stream",
     "text": [
      "4.10.0\n"
     ]
    }
   ],
   "source": [
    "# checking the version of Selenium\n",
    "print (webdriver.__version__)"
   ]
  },
  {
   "cell_type": "code",
   "execution_count": 11,
   "id": "e57fd143-3e3f-4204-8416-51e6d20eef04",
   "metadata": {},
   "outputs": [],
   "source": [
    "# at first we shall check whether the chrome driver is present in the present\n",
    "# folder or not so we can access it without any path if it is in the present folder,\n",
    "# otherwise we shall have to provide valid or relative path to access it\n",
    "# service = Service(executable_path=\"C:/Users/Arnab/USA Batch/Batch 227/chromedriver.exe\")  # fully qualified path\n",
    "service = Service(executable_path=\"./chromedriver.exe\")   # relative path\n",
    "options = webdriver.ChromeOptions()\n",
    "driver = webdriver.Chrome(service=service, options=options)"
   ]
  },
  {
   "cell_type": "code",
   "execution_count": 12,
   "id": "6a656c8b-2e55-440c-8b70-24d4d3a0d0f4",
   "metadata": {},
   "outputs": [],
   "source": [
    "# now we shall go to another website for our currency conversion\n",
    "# https://www.calculator.net/currency-calculator.html -> Click on the \"All Calculators\" -> Click on \"Currency Calculator\"\n",
    "driver.get(\"https://www.calculator.net/currency-calculator.html\")"
   ]
  },
  {
   "cell_type": "code",
   "execution_count": 14,
   "id": "fe150295-07cc-486a-9c99-4d445e40f1fb",
   "metadata": {},
   "outputs": [],
   "source": [
    "# import Select and checkbox from Selenium library to get HTML select tags\n",
    "from selenium.webdriver.support.ui import Select"
   ]
  },
  {
   "cell_type": "code",
   "execution_count": 17,
   "id": "9d6420db-8e5b-4021-aa23-63223e3ccc83",
   "metadata": {},
   "outputs": [],
   "source": [
    "# now select the FROM currency as INR to currency TO currency as USD from the drop down list\n",
    "from_currency = Select(driver.find_element(\"id\", \"efrom\"))\n",
    "from_currency.select_by_visible_text(\"INR: Indian Rupee\")   # text visible to the user"
   ]
  },
  {
   "cell_type": "code",
   "execution_count": 18,
   "id": "0db1a36e-1508-47ce-a292-bdf64bfde1e5",
   "metadata": {},
   "outputs": [],
   "source": [
    "to_currency = Select(driver.find_element(\"id\", \"eto\"))\n",
    "to_currency.select_by_value(\"USD\")    # this value is given within the HTML code"
   ]
  },
  {
   "cell_type": "code",
   "execution_count": 20,
   "id": "3949d200-1492-4605-934f-0fd79c58ecc4",
   "metadata": {},
   "outputs": [],
   "source": [
    "# now put the amount as 500\n",
    "amount_textbox = driver.find_element(\"id\", \"eamount\")\n",
    "# clear the textbox to erase all the previous amounts\n",
    "amount_textbox.clear()\n",
    "amount_textbox.send_keys(\"500\")"
   ]
  },
  {
   "cell_type": "code",
   "execution_count": 22,
   "id": "4974016d-6648-4b29-b640-6e3c7d189297",
   "metadata": {},
   "outputs": [],
   "source": [
    "# now click on the calculate button\n",
    "calculate_button = driver.find_element(\"xpath\", '//*[@id=\"standard\"]/tbody/tr[5]/td[2]/input[2]')\n",
    "calculate_button.click()"
   ]
  },
  {
   "cell_type": "code",
   "execution_count": 23,
   "id": "739e4b55-7830-4815-b028-2419e32da55b",
   "metadata": {},
   "outputs": [],
   "source": [
    "check_box = driver.find_element('xpath', '//*[@id=\"ccmajorccsettingbox\"]')\n",
    "# if it is already checked then uncheck it by the help of java script\n",
    "if (check_box.is_selected()):\n",
    "    driver.execute_script(\"arguments[0].click()\", check_box)"
   ]
  },
  {
   "cell_type": "code",
   "execution_count": 24,
   "id": "8fa3da1b-8264-45dd-8c2a-071587dddfb8",
   "metadata": {},
   "outputs": [],
   "source": [
    "from_currency = Select(driver.find_element(\"id\", \"efrom\"))\n",
    "from_currency.select_by_value(\"ZWL\")   # this value is given within the HTML code"
   ]
  },
  {
   "cell_type": "code",
   "execution_count": 25,
   "id": "f068fc12-563c-4e89-b0ca-862964189602",
   "metadata": {},
   "outputs": [],
   "source": [
    "to_currency = Select(driver.find_element(\"id\", \"eto\"))\n",
    "to_currency.select_by_value(\"USD\")     # this value is given within the HTML code"
   ]
  },
  {
   "cell_type": "code",
   "execution_count": 26,
   "id": "e065fb57-c269-4624-bd45-965ee21dd031",
   "metadata": {},
   "outputs": [],
   "source": [
    "# now put the amount as 1500\n",
    "amount_textbox = driver.find_element(\"id\", \"eamount\")\n",
    "# clear the textbox to erase all the previous amounts\n",
    "amount_textbox.clear()\n",
    "amount_textbox.send_keys(\"1500\")"
   ]
  },
  {
   "cell_type": "code",
   "execution_count": 27,
   "id": "12200f9c-0c21-4bf5-a3ab-b06a31b334aa",
   "metadata": {},
   "outputs": [],
   "source": [
    "# now click on the calculate button\n",
    "calculate_button = driver.find_element(\"xpath\", '//*[@id=\"standard\"]/tbody/tr[5]/td[2]/input[2]')\n",
    "calculate_button.click()"
   ]
  },
  {
   "cell_type": "code",
   "execution_count": 28,
   "id": "d5a52ff9-4c17-452d-9481-47a475774d78",
   "metadata": {},
   "outputs": [],
   "source": [
    "# quitting from the project\n",
    "driver.quit()"
   ]
  },
  {
   "cell_type": "code",
   "execution_count": null,
   "id": "427b4b86-e957-4f9b-88fe-c5064d2274a8",
   "metadata": {},
   "outputs": [],
   "source": []
  }
 ],
 "metadata": {
  "kernelspec": {
   "display_name": "Python 3 (ipykernel)",
   "language": "python",
   "name": "python3"
  },
  "language_info": {
   "codemirror_mode": {
    "name": "ipython",
    "version": 3
   },
   "file_extension": ".py",
   "mimetype": "text/x-python",
   "name": "python",
   "nbconvert_exporter": "python",
   "pygments_lexer": "ipython3",
   "version": "3.10.9"
  }
 },
 "nbformat": 4,
 "nbformat_minor": 5
}
