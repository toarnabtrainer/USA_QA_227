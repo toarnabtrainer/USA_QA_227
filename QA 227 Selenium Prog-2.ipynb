{
 "cells": [
  {
   "cell_type": "markdown",
   "id": "9ce8560b-08a9-4846-9287-58e083825bf1",
   "metadata": {},
   "source": [
    "## Selenium control options to write text, button press, select menu and others"
   ]
  },
  {
   "cell_type": "code",
   "execution_count": 24,
   "id": "2cbffec1-61c5-4a2c-97bc-e8d3068fa624",
   "metadata": {},
   "outputs": [],
   "source": [
    "# importing all the required modules\n",
    "from selenium import webdriver\n",
    "from selenium.webdriver.chrome.service import Service"
   ]
  },
  {
   "cell_type": "code",
   "execution_count": 25,
   "id": "e3e68230-40f1-4cda-9c46-1037a1b881fa",
   "metadata": {},
   "outputs": [
    {
     "name": "stdout",
     "output_type": "stream",
     "text": [
      "4.10.0\n"
     ]
    }
   ],
   "source": [
    "# now chcking the current version of Selenium\n",
    "print (webdriver.__version__)"
   ]
  },
  {
   "cell_type": "code",
   "execution_count": 26,
   "id": "94857fba-ab26-439b-9d7a-e76f48b68035",
   "metadata": {},
   "outputs": [],
   "source": [
    "# now accessing the chrome driver if it is present in the current folder\n",
    "service = Service(executable_path=\"./chromedriver.exe\")\n",
    "options = webdriver.ChromeOptions()\n",
    "driver = webdriver.Chrome(service=service, options=options)"
   ]
  },
  {
   "cell_type": "code",
   "execution_count": 27,
   "id": "0f92b3f7-2f62-4195-abf0-47901022e7c5",
   "metadata": {},
   "outputs": [],
   "source": [
    "# open the webportal to calculate nCr operations\n",
    "# The URL is: https://www.calculatorsoup.com/calculators/discretemathematics/combinations.php\n",
    "URL = \"https://www.calculatorsoup.com/calculators/discretemathematics/combinations.php\"\n",
    "driver.get(URL)"
   ]
  },
  {
   "cell_type": "code",
   "execution_count": 28,
   "id": "5808b902-34ed-483e-affc-501f0c552ac2",
   "metadata": {},
   "outputs": [],
   "source": [
    "n = 10\n",
    "n_input = driver.find_element(\"id\", \"n\")\n",
    "n_input.clear()\n",
    "n_input.send_keys(n)"
   ]
  },
  {
   "cell_type": "code",
   "execution_count": 29,
   "id": "b67ad316-2fa8-488d-bc9a-90db5d460b88",
   "metadata": {},
   "outputs": [],
   "source": [
    "r = 8\n",
    "# r_input = driver.find_element(\"id\", \"r\")\n",
    "# r_input.clear()\n",
    "# r_input.send_keys(r)"
   ]
  },
  {
   "cell_type": "code",
   "execution_count": 30,
   "id": "182fe7db-5839-4c39-b9bb-4d61b128d9d7",
   "metadata": {},
   "outputs": [],
   "source": [
    "# to press keys, we can use the following library\n",
    "from selenium.webdriver.common.keys import Keys\n",
    "\n",
    "# press Tab to go to the next input area\n",
    "n_input.send_keys(Keys.TAB)\n",
    "\n",
    "# select currently selected input area\n",
    "r_input = driver.switch_to.active_element\n",
    "\n",
    "# put the r value inside the respective text box\n",
    "r_input.send_keys(r)"
   ]
  },
  {
   "cell_type": "code",
   "execution_count": 31,
   "id": "b717682b-48f9-4209-b46c-7baf6f034862",
   "metadata": {},
   "outputs": [],
   "source": [
    "# now go to the calculate button and click on it\n",
    "calculate_button = driver.find_element(\"id\", \"calculateButton\")\n",
    "calculate_button.click()"
   ]
  },
  {
   "cell_type": "code",
   "execution_count": 32,
   "id": "9c1afd89-997c-42a6-8df4-60a18c31122d",
   "metadata": {},
   "outputs": [
    {
     "name": "stdout",
     "output_type": "stream",
     "text": [
      "Retrieved answers is: 45 <class 'int'>\n"
     ]
    }
   ],
   "source": [
    "# read the answer from the result area\n",
    "result_area = driver.find_element(\"id\", \"answer\")\n",
    "result = result_area.text\n",
    "result = int(result.split(\"\\n\")[0].split(\" \")[1])\n",
    "print (\"Retrieved answers is:\", result, type(result))"
   ]
  },
  {
   "cell_type": "code",
   "execution_count": 34,
   "id": "bb09e3e5-a420-4e0e-9be3-42a4224aea48",
   "metadata": {},
   "outputs": [
    {
     "name": "stdout",
     "output_type": "stream",
     "text": [
      "Results are: 45 45\n",
      "Test has PASSED...\n"
     ]
    }
   ],
   "source": [
    "import math\n",
    "my_result = math.comb(n, r)\n",
    "print (\"Results are:\", my_result, result)\n",
    "if (my_result == result): print (\"Test has PASSED...\")\n",
    "else: print (\"Test has FAILED...\")"
   ]
  },
  {
   "cell_type": "code",
   "execution_count": 23,
   "id": "599d20e4-1270-4766-8662-0b034f6702c6",
   "metadata": {},
   "outputs": [],
   "source": [
    "driver.quit()"
   ]
  },
  {
   "cell_type": "code",
   "execution_count": null,
   "id": "5f126c90-548e-4f24-8473-592cd65d6dbf",
   "metadata": {},
   "outputs": [],
   "source": []
  },
  {
   "cell_type": "code",
   "execution_count": null,
   "id": "c75fe7b3-26a2-4cfe-8f1b-6d2f40a69884",
   "metadata": {},
   "outputs": [],
   "source": []
  }
 ],
 "metadata": {
  "kernelspec": {
   "display_name": "Python 3 (ipykernel)",
   "language": "python",
   "name": "python3"
  },
  "language_info": {
   "codemirror_mode": {
    "name": "ipython",
    "version": 3
   },
   "file_extension": ".py",
   "mimetype": "text/x-python",
   "name": "python",
   "nbconvert_exporter": "python",
   "pygments_lexer": "ipython3",
   "version": "3.10.9"
  }
 },
 "nbformat": 4,
 "nbformat_minor": 5
}
