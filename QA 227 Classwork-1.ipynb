{
 "cells": [
  {
   "cell_type": "markdown",
   "id": "d555f0e4-dba9-4eb3-b8c6-c52f266987f0",
   "metadata": {},
   "source": [
    "## **Intriduction to Python Script**"
   ]
  },
  {
   "cell_type": "markdown",
   "id": "f2a30dfc-20ed-4442-a144-7054f97fb03e",
   "metadata": {},
   "source": [
    "### Comment Line and Block Comment"
   ]
  },
  {
   "cell_type": "code",
   "execution_count": null,
   "id": "c87f7563-7438-43e4-a96e-c7a420930b8d",
   "metadata": {},
   "outputs": [],
   "source": [
    "# This is a comment line\n",
    "# This is another comment line\n",
    "# this is the last comment line"
   ]
  },
  {
   "cell_type": "markdown",
   "id": "bce1fcbe-868c-4e32-bb2b-48b260754b36",
   "metadata": {},
   "source": [
    "### Input and Output in Python"
   ]
  },
  {
   "cell_type": "code",
   "execution_count": 2,
   "id": "546da56b-7798-44fb-824a-70cda53bcf36",
   "metadata": {},
   "outputs": [
    {
     "name": "stdin",
     "output_type": "stream",
     "text": [
      "Please enter the first number:  111\n",
      "Please enter the second number:  222\n"
     ]
    },
    {
     "name": "stdout",
     "output_type": "stream",
     "text": [
      "Input numbers are 111 and 222\n"
     ]
    }
   ],
   "source": [
    "num1 = input(\"Please enter the first number: \")\n",
    "num2 = input(\"Please enter the second number: \")\n",
    "print (\"Input numbers are\", num1, \"and\", num2)"
   ]
  },
  {
   "cell_type": "code",
   "execution_count": 10,
   "id": "7d50a524-bb20-4e0c-b547-56abd1efa43d",
   "metadata": {},
   "outputs": [
    {
     "name": "stdin",
     "output_type": "stream",
     "text": [
      "Please enter the first number:  200\n",
      "Please enter the second number:  300\n"
     ]
    },
    {
     "name": "stdout",
     "output_type": "stream",
     "text": [
      "200 <class 'str'> 300 <class 'str'>\n",
      "200300\n"
     ]
    }
   ],
   "source": [
    "num1 = input(\"Please enter the first number: \")\n",
    "num2 = input(\"Please enter the second number: \")\n",
    "print (num1, type(num1), num2, type(num2))\n",
    "total = num1 + num2    # string concatenation\n",
    "print (total)"
   ]
  },
  {
   "cell_type": "code",
   "execution_count": 12,
   "id": "063f8f3a-c837-4af0-a305-78442f20e65f",
   "metadata": {},
   "outputs": [
    {
     "name": "stdin",
     "output_type": "stream",
     "text": [
      "Please enter the first number:  200\n",
      "Please enter the second number:  300\n"
     ]
    },
    {
     "name": "stdout",
     "output_type": "stream",
     "text": [
      "200 <class 'int'> 300 <class 'int'>\n",
      "500\n"
     ]
    }
   ],
   "source": [
    "num1 = int(input(\"Please enter the first number: \"))\n",
    "num2 = int(input(\"Please enter the second number: \"))\n",
    "print (num1, type(num1), num2, type(num2))\n",
    "total = num1 + num2    # algebraic addition\n",
    "print (total)"
   ]
  },
  {
   "cell_type": "code",
   "execution_count": 24,
   "id": "646d1c82-b1bf-4384-93f5-d914c3099059",
   "metadata": {},
   "outputs": [
    {
     "name": "stdout",
     "output_type": "stream",
     "text": [
      "So 200 + 300 = 500\n",
      "So 200 + 300 = 500\n",
      "So 200 + 300 = 500\n",
      "So 200 + 300 = 500\n",
      "So 200 + 300 = 500\n",
      "So 200 + 300 = 500\n",
      "So 200 + 300 = 500\n",
      "So 200 + 300 = 500\n",
      "So 200 + 300.000000 = 500\n",
      "So 200 +   300.00 = 500\n",
      "So 200 + 300 = 500\n"
     ]
    }
   ],
   "source": [
    "print (\"So\", num1, \"+\", num2, \"=\", total)\n",
    "print (\"So \" + str(num1) + \" + \" + str(num2) + \" = \" + str(total))\n",
    "print (\"So {} + {} = {}\".format(num1, num2, total))   # {} stands for statement placeholder\n",
    "print (\"So {0} + {1} = {2}\".format(num1, num2, total))    # variable placeholder\n",
    "print (\"So {2} + {1} = {0}\".format(total, num2, num1))    # indexed placeholder\n",
    "print (\"So {fnum} + {snum} = {tot}\".format(fnum = num1, snum = num2, tot = total))    # labelled placeholder\n",
    "print (\"So {fnum} + {snum} = {tot}\".format(tot = total, fnum = num1, snum = num2))    # labelled placeholder\n",
    "print (\"So %d + %d = %d\"%(num1, num2, total))\n",
    "print (\"So %d + %f = %d\"%(num1, num2, total))\n",
    "print (\"So %d + %8.2f = %d\"%(num1, num2, total))\n",
    "print (f\"So {num1} + {num2} = {total}\")   # f stands for smart formatting"
   ]
  },
  {
   "cell_type": "markdown",
   "id": "e73253e0-8e92-477e-a6f4-88f86c2bfea7",
   "metadata": {},
   "source": [
    "### Python Operators"
   ]
  },
  {
   "cell_type": "code",
   "execution_count": 25,
   "id": "98c2baed-fdd9-478f-8a41-3e8ede9bfc1b",
   "metadata": {},
   "outputs": [
    {
     "name": "stdout",
     "output_type": "stream",
     "text": [
      "140\n",
      "60\n",
      "4000\n",
      "2.5\n",
      "2\n",
      "20\n",
      "100000000\n"
     ]
    }
   ],
   "source": [
    "# arithmetic operators: + - * / // % **\n",
    "print (100 + 40)\n",
    "print (100 - 40)\n",
    "print (100 * 40)\n",
    "print (100 / 40)   # float division\n",
    "print (100 // 40)  # integer division\n",
    "print (100 % 40)   # remainder of the division\n",
    "print (100 ** 4)   # exponentiation"
   ]
  },
  {
   "cell_type": "code",
   "execution_count": 27,
   "id": "3a3b5ce3-41d3-431f-8b53-c10bdd4c7e8c",
   "metadata": {},
   "outputs": [
    {
     "name": "stdout",
     "output_type": "stream",
     "text": [
      "True True False True\n",
      "False False\n"
     ]
    }
   ],
   "source": [
    "# relational operators: > >= < <= == !=\n",
    "print (100 > 20, 100 >= 20, 100 == 20, 100 != 20)\n",
    "print (100 < 20, 100 <= 20)"
   ]
  },
  {
   "cell_type": "code",
   "execution_count": 30,
   "id": "92a6462d-7746-4091-9194-c2a2c83775f1",
   "metadata": {},
   "outputs": [
    {
     "name": "stdout",
     "output_type": "stream",
     "text": [
      "True True True False\n",
      "True False False False\n",
      "False True\n"
     ]
    }
   ],
   "source": [
    "# logical operators: and or not\n",
    "print (True or True, True or False, False or True, False or False)\n",
    "print (True and True, True and False, False and True, False and False)\n",
    "print (not True, not False)"
   ]
  },
  {
   "cell_type": "code",
   "execution_count": 32,
   "id": "932eeaf2-8d98-4388-a0fc-b9149d7a204a",
   "metadata": {},
   "outputs": [
    {
     "name": "stdout",
     "output_type": "stream",
     "text": [
      "So 100 is an EVEN number...\n",
      "So 105 is an ODD number...\n"
     ]
    }
   ],
   "source": [
    "# operators can be divided in three categories:\n",
    "# category - 1: Unary operator (operator operand), -10, +10\n",
    "# category - 2: Binary operator (operand operator operand), 100 + 40, 100 - 40, 100 % 40\n",
    "# category - 3: Ternary operator (operator and three operands)\n",
    "num1 = 100\n",
    "result = \"EVEN\" if (num1 % 2 == 0) else \"ODD\"\n",
    "print (f\"So {num1} is an {result} number...\")\n",
    "\n",
    "num1 = 105\n",
    "result = \"EVEN\" if (num1 % 2 == 0) else \"ODD\"\n",
    "print (f\"So {num1} is an {result} number...\")"
   ]
  },
  {
   "cell_type": "code",
   "execution_count": 50,
   "id": "61a1db15-d5f7-4a0e-8df3-2eabf448ae2e",
   "metadata": {},
   "outputs": [
    {
     "name": "stdout",
     "output_type": "stream",
     "text": [
      "100\n",
      "150\n",
      "140\n",
      "1400\n"
     ]
    }
   ],
   "source": [
    "# assignment and sepcial assignment operators\n",
    "var1 = 100\n",
    "print (var1)\n",
    "var1 += 50\n",
    "print (var1)\n",
    "var1 -= 10\n",
    "print (var1)\n",
    "var1 *= 10\n",
    "print (var1)"
   ]
  },
  {
   "cell_type": "markdown",
   "id": "6267c571-1bdc-4901-a042-11510384e755",
   "metadata": {},
   "source": [
    "### Conditional Statement"
   ]
  },
  {
   "cell_type": "code",
   "execution_count": 42,
   "id": "c27cbbc4-741c-4cbb-9bd9-b94bef841df6",
   "metadata": {},
   "outputs": [
    {
     "name": "stdin",
     "output_type": "stream",
     "text": [
      "Please enter the first integer number:  300\n",
      "Please enter the second integer number:  100\n",
      "Please enter the third integer number:  200\n"
     ]
    },
    {
     "name": "stdout",
     "output_type": "stream",
     "text": [
      "So the FIRST Number is the Maximum number...\n",
      "So the Maximum Number is 300...\n",
      "End of the program...\n"
     ]
    }
   ],
   "source": [
    "# find the maximum of three user given integer numbers\n",
    "num1 = int(input(\"Please enter the first integer number: \"))\n",
    "num2 = int(input(\"Please enter the second integer number: \"))\n",
    "num3 = int(input(\"Please enter the third integer number: \"))\n",
    "if (num1 > num2):\n",
    "    if (num1 > num3):\n",
    "        print (\"So the FIRST Number is the Maximum number...\")\n",
    "        print (f\"So the Maximum Number is {num1}...\")\n",
    "    else:\n",
    "        print (\"So the THIRD Number is the Maximum number...\")\n",
    "        print (f\"So the Maximum Number is {num3}...\")\n",
    "elif (num2 > num3):\n",
    "    print (\"So the SECOND Number is the Maximum number...\")\n",
    "    print (f\"So the Maximum Number is {num2}...\")\n",
    "else:\n",
    "    print (\"So the THIRD Number is the Maximum number...\")\n",
    "    print (f\"So the Maximum Number is {num3}...\")\n",
    "print (\"End of the program...\")"
   ]
  },
  {
   "cell_type": "code",
   "execution_count": 46,
   "id": "fee7deb1-bee3-490d-8178-8342276d3a7c",
   "metadata": {},
   "outputs": [
    {
     "name": "stdin",
     "output_type": "stream",
     "text": [
      "Please enter the first integer number:  200\n",
      "Please enter the second integer number:  100\n",
      "Please enter the third integer number:  300\n"
     ]
    },
    {
     "name": "stdout",
     "output_type": "stream",
     "text": [
      "So the THIRD Number is the Maximum number...\n",
      "So the Maximum Number is 300...\n",
      "End of the program...\n"
     ]
    }
   ],
   "source": [
    "# find the maximum of three user given integer numbers\n",
    "num1 = int(input(\"Please enter the first integer number: \"))\n",
    "num2 = int(input(\"Please enter the second integer number: \"))\n",
    "num3 = int(input(\"Please enter the third integer number: \"))\n",
    "if (num1 > num2 and num1 > num3):\n",
    "    print (\"So the FIRST Number is the Maximum number...\")\n",
    "    print (f\"So the Maximum Number is {num1}...\")\n",
    "elif (num2 > num3):\n",
    "    print (\"So the SECOND Number is the Maximum number...\")\n",
    "    print (f\"So the Maximum Number is {num2}...\")\n",
    "else:\n",
    "    print (\"So the THIRD Number is the Maximum number...\")\n",
    "    print (f\"So the Maximum Number is {num3}...\")\n",
    "print (\"End of the program...\")"
   ]
  },
  {
   "cell_type": "code",
   "execution_count": 48,
   "id": "d42a5353-c6d8-4070-b98e-c8aae4a258ba",
   "metadata": {},
   "outputs": [
    {
     "name": "stdout",
     "output_type": "stream",
     "text": [
      "100 <class 'int'>\n",
      "100.5 <class 'float'>\n",
      "USA <class 'str'>\n",
      "True <class 'bool'>\n",
      "I <class 'str'>\n",
      "False <class 'bool'>\n"
     ]
    }
   ],
   "source": [
    "# python supports dynamic type variables\n",
    "var = 100\n",
    "print (var, type(var))\n",
    "var = 100.50\n",
    "print (var, type(var))\n",
    "var = 'USA'\n",
    "print (var, type(var))\n",
    "var = True\n",
    "print (var, type(var))\n",
    "var = \"I\"\n",
    "print (var, type(var))\n",
    "var = False\n",
    "print (var, type(var))"
   ]
  },
  {
   "cell_type": "markdown",
   "id": "2ae24c7c-f139-4932-ae70-9f94c9b4438a",
   "metadata": {},
   "source": [
    "### Python Loop Constructs"
   ]
  },
  {
   "cell_type": "code",
   "execution_count": 1,
   "id": "8c7eed61-1503-4910-a90a-91e5ed3581df",
   "metadata": {},
   "outputs": [
    {
     "name": "stdout",
     "output_type": "stream",
     "text": [
      "i = 0...\n",
      "i = 1...\n",
      "i = 2...\n",
      "i = 3...\n",
      "i = 4...\n",
      "i = 5...\n",
      "i = 6...\n",
      "i = 7...\n",
      "i = 8...\n",
      "i = 9...\n",
      "End of the program...\n"
     ]
    }
   ],
   "source": [
    "for i in range(10):\n",
    "    print (f\"i = {i}...\")\n",
    "print (\"End of the program...\")"
   ]
  },
  {
   "cell_type": "code",
   "execution_count": 2,
   "id": "5ece1c02-0f6d-453a-82bf-623085bd33fa",
   "metadata": {},
   "outputs": [
    {
     "name": "stdout",
     "output_type": "stream",
     "text": [
      "[0, 1, 2, 3, 4, 5, 6, 7, 8, 9] 10\n"
     ]
    }
   ],
   "source": [
    "list1 = list(range(10))\n",
    "print (list1, len(list1))"
   ]
  },
  {
   "cell_type": "code",
   "execution_count": 3,
   "id": "fae96bb4-4fcb-4ca6-8dbe-bbcbdeb9ffa3",
   "metadata": {},
   "outputs": [
    {
     "name": "stdout",
     "output_type": "stream",
     "text": [
      "i = 0...\n",
      "i = 1...\n",
      "i = 2...\n",
      "i = 3...\n",
      "i = 4...\n",
      "i = 5...\n",
      "i = 6...\n",
      "i = 7...\n",
      "i = 8...\n",
      "i = 9...\n",
      "End of the program...\n"
     ]
    }
   ],
   "source": [
    "for i in range(0, 10):\n",
    "    print (f\"i = {i}...\")\n",
    "print (\"End of the program...\")"
   ]
  },
  {
   "cell_type": "code",
   "execution_count": 5,
   "id": "aef59b5c-9180-455c-a501-e67ede32a005",
   "metadata": {},
   "outputs": [
    {
     "name": "stdout",
     "output_type": "stream",
     "text": [
      "i = 0...\n",
      "i = 1...\n",
      "i = 2...\n",
      "i = 3...\n",
      "i = 4...\n",
      "i = 5...\n",
      "i = 6...\n",
      "i = 7...\n",
      "i = 8...\n",
      "i = 9...\n",
      "End of the program...\n"
     ]
    }
   ],
   "source": [
    "for i in range(0, 10, 1):   # range(10) = range(0, 10) = range(0, 0, 1)\n",
    "    print (f\"i = {i}...\")\n",
    "print (\"End of the program...\")"
   ]
  },
  {
   "cell_type": "code",
   "execution_count": 6,
   "id": "77196d3a-197c-4302-81ef-34de753f468e",
   "metadata": {},
   "outputs": [
    {
     "name": "stdout",
     "output_type": "stream",
     "text": [
      "i = 0...\n",
      "i = 2...\n",
      "i = 4...\n",
      "i = 6...\n",
      "i = 8...\n",
      "End of the program...\n"
     ]
    }
   ],
   "source": [
    "for i in range(0, 10, 2):\n",
    "    print (f\"i = {i}...\")\n",
    "print (\"End of the program...\")"
   ]
  },
  {
   "cell_type": "code",
   "execution_count": 8,
   "id": "0729936d-945d-48fe-bbc8-7f6067ba0614",
   "metadata": {},
   "outputs": [
    {
     "name": "stdout",
     "output_type": "stream",
     "text": [
      "i = 10...\n",
      "i = 8...\n",
      "i = 6...\n",
      "i = 4...\n",
      "i = 2...\n",
      "i = 0...\n",
      "i = -2...\n",
      "i = -4...\n",
      "i = -6...\n",
      "i = -8...\n",
      "Loop executed for 10 number of times...\n",
      "End of the program...\n"
     ]
    }
   ],
   "source": [
    "count = 0\n",
    "for i in range(10, -10, -2):\n",
    "    print (f\"i = {i}...\")\n",
    "    count += 1\n",
    "print (f\"Loop executed for {count} number of times...\")\n",
    "print (\"End of the program...\")"
   ]
  },
  {
   "cell_type": "code",
   "execution_count": 9,
   "id": "423226ca-ff7f-4852-a624-99b1fccb2258",
   "metadata": {},
   "outputs": [
    {
     "name": "stdout",
     "output_type": "stream",
     "text": [
      "i = -10...\n",
      "i = -9...\n",
      "i = -8...\n",
      "i = -7...\n",
      "i = -6...\n",
      "i = -5...\n",
      "i = -4...\n",
      "i = -3...\n",
      "i = -2...\n",
      "i = -1...\n",
      "i = 0...\n",
      "i = 1...\n",
      "i = 2...\n",
      "i = 3...\n",
      "i = 4...\n",
      "i = 5...\n",
      "i = 6...\n",
      "i = 7...\n",
      "i = 8...\n",
      "i = 9...\n",
      "Loop executed for 20 number of times...\n",
      "End of the program...\n"
     ]
    }
   ],
   "source": [
    "count = 0\n",
    "for i in range(-10, 10, 1):\n",
    "    print (f\"i = {i}...\")\n",
    "    count += 1\n",
    "print (f\"Loop executed for {count} number of times...\")\n",
    "print (\"End of the program...\")"
   ]
  },
  {
   "cell_type": "code",
   "execution_count": 12,
   "id": "5e11eafa-9892-4393-8755-bb157fe9472d",
   "metadata": {},
   "outputs": [
    {
     "name": "stdout",
     "output_type": "stream",
     "text": [
      "Looping for i = 0...\n",
      "Looping for i = 1...\n",
      "Looping for i = 2...\n",
      "Looping for i = 3...\n",
      "Looping for i = 4...\n",
      "Looping for i = 5...\n",
      "Looping for i = 6...\n",
      "Looping for i = 7...\n",
      "Looping for i = 8...\n",
      "Looping for i = 9...\n",
      "Had a smooth iteration...\n",
      "End of the looping...\n"
     ]
    }
   ],
   "source": [
    "for i in range(10):\n",
    "    print (f\"Looping for i = {i}...\")\n",
    "else:\n",
    "    print (\"Had a smooth iteration...\")\n",
    "print (\"End of the looping...\")"
   ]
  },
  {
   "cell_type": "code",
   "execution_count": 16,
   "id": "520135b2-a967-42b2-b406-37e1a98da031",
   "metadata": {},
   "outputs": [
    {
     "name": "stdout",
     "output_type": "stream",
     "text": [
      "Looping for i = 0...\n",
      "Looping for i = 1...\n",
      "Looping for i = 2...\n",
      "Looping for i = 3...\n",
      "Looping for i = 4...\n",
      "Looping for i = 5...\n",
      "Looping for i = 6...\n",
      "End of the looping...\n"
     ]
    }
   ],
   "source": [
    "for i in range(10):\n",
    "    print (f\"Looping for i = {i}...\")\n",
    "    if (i == 6): break\n",
    "else:\n",
    "    print (\"Had a smooth iteration...\")\n",
    "print (\"End of the looping...\")"
   ]
  },
  {
   "cell_type": "code",
   "execution_count": 20,
   "id": "a9e409ca-9ffe-478c-b7b9-f1d438760198",
   "metadata": {},
   "outputs": [
    {
     "name": "stdin",
     "output_type": "stream",
     "text": [
      "Please enter one integer number: 101\n"
     ]
    },
    {
     "name": "stdout",
     "output_type": "stream",
     "text": [
      "101 is a PRIME Number...\n",
      "End of the execution...\n"
     ]
    }
   ],
   "source": [
    "num = int(input(\"Please enter one integer number:\"))\n",
    "for i in range(2, num):\n",
    "    if (num % i == 0):\n",
    "        print (f\"{num} is NOT a PRIME Number...\")\n",
    "        break\n",
    "else:\n",
    "    print (f\"{num} is a PRIME Number...\")\n",
    "print (\"End of the execution...\")"
   ]
  },
  {
   "cell_type": "code",
   "execution_count": 24,
   "id": "9453289e-9ef1-4182-9a39-667b3d46b575",
   "metadata": {},
   "outputs": [
    {
     "name": "stdin",
     "output_type": "stream",
     "text": [
      "Please enter one integer number: 100\n"
     ]
    },
    {
     "name": "stdout",
     "output_type": "stream",
     "text": [
      "100 is NOT a PRIME Number...\n",
      "End of the execution...\n"
     ]
    }
   ],
   "source": [
    "num = int(input(\"Please enter one integer number:\"))\n",
    "i = 2\n",
    "while (i < num):\n",
    "    if (num % i == 0):\n",
    "        print (f\"{num} is NOT a PRIME Number...\")\n",
    "        break\n",
    "    i += 1\n",
    "else:\n",
    "    print (f\"{num} is a PRIME Number...\")\n",
    "print (\"End of the execution...\")"
   ]
  },
  {
   "cell_type": "code",
   "execution_count": 3,
   "id": "d8b38e50-376e-4a7c-8cad-3a1550bbc056",
   "metadata": {},
   "outputs": [
    {
     "name": "stdout",
     "output_type": "stream",
     "text": [
      "Looping for i = 1...\n",
      "Looping for i = 2...\n",
      "Continue again with i = 3...\n",
      "Looping for i = 4...\n",
      "Looping for i = 5...\n",
      "Continue again with i = 6...\n",
      "Looping for i = 7...\n",
      "Looping for i = 8...\n",
      "Looping for i = 9...\n",
      "Else block is executing...\n",
      "End of the execution...\n"
     ]
    }
   ],
   "source": [
    "for i in range(1, 10):\n",
    "    if (i == 3 or i == 6):\n",
    "        print (f\"Continue again with i = {i}...\")\n",
    "        continue\n",
    "    print (f\"Looping for i = {i}...\")\n",
    "else:\n",
    "    print (f\"Else block is executing...\")\n",
    "print (\"End of the execution...\")"
   ]
  },
  {
   "cell_type": "code",
   "execution_count": 2,
   "id": "adb1fcf4-ba78-4e93-b729-f117c1762e64",
   "metadata": {},
   "outputs": [
    {
     "name": "stdout",
     "output_type": "stream",
     "text": [
      "Looping for i = 1...\n",
      "Looping for i = 2...\n",
      "Continue again with i = 3...\n",
      "Looping for i = 4...\n",
      "Looping for i = 5...\n",
      "Continue again with i = 6...\n",
      "Looping for i = 7...\n",
      "Looping for i = 8...\n",
      "Looping for i = 9...\n",
      "Else block is executing...\n",
      "End of the execution...\n"
     ]
    }
   ],
   "source": [
    "i = 1\n",
    "while (i < 10):\n",
    "    if (i == 3 or i == 6):\n",
    "        print (f\"Continue again with i = {i}...\")\n",
    "        i += 1\n",
    "        continue\n",
    "    print (f\"Looping for i = {i}...\")\n",
    "    i += 1\n",
    "else:\n",
    "    print (f\"Else block is executing...\")\n",
    "print (\"End of the execution...\")"
   ]
  },
  {
   "cell_type": "code",
   "execution_count": 7,
   "id": "e1e05fe7-46c0-4ea6-86d5-a685d78e5ee3",
   "metadata": {},
   "outputs": [
    {
     "name": "stdout",
     "output_type": "stream",
     "text": [
      "Looping for i = 1...\n",
      "Looping for i = 2...\n",
      "Continue again with i = 3...\n",
      "Looping for i = 4...\n",
      "Looping for i = 5...\n",
      "Continue again with i = 6...\n",
      "Looping for i = 7...\n",
      "Looping for i = 8...\n",
      "Looping for i = 9...\n",
      "Else block is executing...\n",
      "End of the execution...\n"
     ]
    }
   ],
   "source": [
    "i = 1\n",
    "while (i < 10):\n",
    "    if (i == 3 or i == 6):\n",
    "        print (f\"Continue again with i = {i}...\")\n",
    "        i += 1\n",
    "        continue\n",
    "    else:\n",
    "        pass   # pass is a statement placeholder\n",
    "    print (f\"Looping for i = {i}...\")\n",
    "    i += 1\n",
    "else:\n",
    "    print (f\"Else block is executing...\")\n",
    "print (\"End of the execution...\")"
   ]
  },
  {
   "cell_type": "code",
   "execution_count": 10,
   "id": "261fec9e-14cd-4bbd-8b6a-381591204c4d",
   "metadata": {},
   "outputs": [
    {
     "name": "stdout",
     "output_type": "stream",
     "text": [
      "Visit DOCTOR...\n",
      "Good Morning...\n",
      "Day Number = 1 and Medicine Number = 1...\n",
      "Day Number = 1 and Medicine Number = 2...\n",
      "Day Number = 1 and Medicine Number = 3...\n",
      "Good Night...\n",
      "----------------------------------------------------------\n",
      "Good Morning...\n",
      "Day Number = 2 and Medicine Number = 1...\n",
      "Day Number = 2 and Medicine Number = 2...\n",
      "Day Number = 2 and Medicine Number = 3...\n",
      "Good Night...\n",
      "----------------------------------------------------------\n",
      "Good Morning...\n",
      "Day Number = 3 and Medicine Number = 1...\n",
      "Day Number = 3 and Medicine Number = 2...\n",
      "Day Number = 3 and Medicine Number = 3...\n",
      "Good Night...\n",
      "----------------------------------------------------------\n",
      "Good Morning...\n",
      "Day Number = 4 and Medicine Number = 1...\n",
      "Day Number = 4 and Medicine Number = 2...\n",
      "Day Number = 4 and Medicine Number = 3...\n",
      "Good Night...\n",
      "----------------------------------------------------------\n",
      "Good Morning...\n",
      "Day Number = 5 and Medicine Number = 1...\n",
      "Day Number = 5 and Medicine Number = 2...\n",
      "Day Number = 5 and Medicine Number = 3...\n",
      "Good Night...\n",
      "----------------------------------------------------------\n",
      "So total number of medicines consumed is 15...\n",
      "Thanks to DOCTOR...\n"
     ]
    }
   ],
   "source": [
    "# nested for loops\n",
    "print (\"Visit DOCTOR...\")   # 1 time\n",
    "medicount = 0\n",
    "for day in range(1, 6):\n",
    "    print (\"Good Morning...\")   # 5 times\n",
    "    for medi in range(1, 4):\n",
    "        print (f\"Day Number = {day} and Medicine Number = {medi}...\")   # 15 times\n",
    "        medicount += 1\n",
    "    print (\"Good Night...\")   # 5 times\n",
    "    print (\"----------------------------------------------------------\")   # 5 times\n",
    "print (f\"So total number of medicines consumed is {medicount}...\")\n",
    "print (\"Thanks to DOCTOR...\")   # 1 time"
   ]
  },
  {
   "cell_type": "code",
   "execution_count": 13,
   "id": "029bd3ad-e481-4fa4-a6b8-f24f0acd322a",
   "metadata": {},
   "outputs": [
    {
     "name": "stdout",
     "output_type": "stream",
     "text": [
      "Visit DOCTOR...\n",
      "Good Morning...\n",
      "Day Number = 1 and Medicine Number = 1...\n",
      "Day Number = 1 and Medicine Number = 2...\n",
      "Day Number = 1 and Medicine Number = 3...\n",
      "Good Night...\n",
      "----------------------------------------------------------\n",
      "Good Morning...\n",
      "Day Number = 2 and Medicine Number = 1...\n",
      "Day Number = 2 and Medicine Number = 2...\n",
      "Day Number = 2 and Medicine Number = 3...\n",
      "Good Night...\n",
      "----------------------------------------------------------\n",
      "Good Morning...\n",
      "Day Number = 3 and Medicine Number = 1...\n",
      "Day Number = 3 and Medicine Number = 2...\n",
      "Day Number = 3 and Medicine Number = 3...\n",
      "Good Night...\n",
      "----------------------------------------------------------\n",
      "Good Morning...\n",
      "Day Number = 4 and Medicine Number = 1...\n",
      "Day Number = 4 and Medicine Number = 2...\n",
      "Day Number = 4 and Medicine Number = 3...\n",
      "Good Night...\n",
      "----------------------------------------------------------\n",
      "Good Morning...\n",
      "Day Number = 5 and Medicine Number = 1...\n",
      "Day Number = 5 and Medicine Number = 2...\n",
      "Day Number = 5 and Medicine Number = 3...\n",
      "Good Night...\n",
      "----------------------------------------------------------\n",
      "So total number of medicines consumed is 15...\n",
      "Thanks to DOCTOR...\n"
     ]
    }
   ],
   "source": [
    "# nested while loops\n",
    "print (\"Visit DOCTOR...\")   # 1 time\n",
    "medicount = 0\n",
    "day = 1\n",
    "while day < 6:\n",
    "    print (\"Good Morning...\")   # 5 times\n",
    "    medi = 1\n",
    "    while medi <= 3:\n",
    "        print (f\"Day Number = {day} and Medicine Number = {medi}...\")   # 15 times\n",
    "        medicount += 1\n",
    "        medi += 1\n",
    "    print (\"Good Night...\")   # 5 times\n",
    "    print (\"----------------------------------------------------------\")   # 5 times\n",
    "    day += 1\n",
    "print (f\"So total number of medicines consumed is {medicount}...\")\n",
    "print (\"Thanks to DOCTOR...\")   # 1 time"
   ]
  },
  {
   "cell_type": "code",
   "execution_count": 15,
   "id": "e3d11911-5de2-4df7-b732-807297a15f8c",
   "metadata": {},
   "outputs": [
    {
     "name": "stdout",
     "output_type": "stream",
     "text": [
      "Hello Hello Hello Hello Hello \n",
      "Welcome Welcome Welcome Welcome Welcome Welcome \n"
     ]
    }
   ],
   "source": [
    "print (\"Hello \" * 5)\n",
    "print (\"Welcome \" * 6)"
   ]
  },
  {
   "cell_type": "code",
   "execution_count": null,
   "id": "5da56dde-d836-4526-b1a4-cd9407b13b19",
   "metadata": {},
   "outputs": [],
   "source": [
    "n = 6 (user given number)\n",
    "               i    .    *\n",
    "             ---------------\n",
    ".....*         1    5    1         (i, n)\n",
    "....***        2    4    3    . => (n - i)\n",
    "...*****       3    3    5\n",
    "..*******      4    2    7    * => (2 * i - 1)\n",
    ".*********     5    1    9\n",
    "***********    6    0   11\n",
    "             ---------------\n",
    "             Tracing Table"
   ]
  },
  {
   "cell_type": "code",
   "execution_count": 18,
   "id": "6ebcccc8-9663-4145-8b16-b0cea5d9fd1a",
   "metadata": {},
   "outputs": [
    {
     "name": "stdin",
     "output_type": "stream",
     "text": [
      "Please enter the number of terms:  9\n"
     ]
    },
    {
     "name": "stdout",
     "output_type": "stream",
     "text": [
      "........*\n",
      ".......***\n",
      "......*****\n",
      ".....*******\n",
      "....*********\n",
      "...***********\n",
      "..*************\n",
      ".***************\n",
      "*****************\n",
      "End of the pattern printing...\n"
     ]
    }
   ],
   "source": [
    "n = int(input(\"Please enter the number of terms: \"))\n",
    "for i in range(1, n + 1):\n",
    "    print (\".\" * (n - i) + \"*\" * (2 * i - 1))\n",
    "print (\"End of the pattern printing...\")"
   ]
  },
  {
   "cell_type": "code",
   "execution_count": null,
   "id": "59f799d9-60ad-4220-83cd-613de0a79b3c",
   "metadata": {},
   "outputs": [],
   "source": [
    "n = 11 (user given ODD number)\n",
    "               i    .    *\n",
    "             ---------------  m = (n + 1) // 2 = 6\n",
    "***********    1    0   11         (i, n, m)\n",
    ".*********     2    1    9    . => (i - 1)\n",
    "..*******      3    2    7\n",
    "...*****       4    3    5    * => (2 * (m - i) + 1)\n",
    "....***        5    4    3\n",
    ".....*       __6____5____1__\n",
    "....***        7    4    3\n",
    "...*****       8    3    5    . => (n - i)\n",
    "..*******      9    2    7\n",
    ".*********    10    1    9    * => (2 * (i - m) + 1)\n",
    "***********   11    0   11\n",
    "             ---------------\n",
    "             Tracing Table"
   ]
  },
  {
   "cell_type": "code",
   "execution_count": 22,
   "id": "9fce7d42-da18-459d-b2b2-aaa5a6da03ca",
   "metadata": {},
   "outputs": [
    {
     "name": "stdin",
     "output_type": "stream",
     "text": [
      "Please enter the ODD number of terms:  6\n",
      "Please enter the ODD number of terms:  12\n",
      "Please enter the ODD number of terms:  10\n",
      "Please enter the ODD number of terms:  18\n",
      "Please enter the ODD number of terms:  11\n"
     ]
    },
    {
     "name": "stdout",
     "output_type": "stream",
     "text": [
      "***********\n",
      ".*********\n",
      "..*******\n",
      "...*****\n",
      "....***\n",
      ".....*\n",
      "....***\n",
      "...*****\n",
      "..*******\n",
      ".*********\n",
      "***********\n",
      "End of the pattern printing...\n"
     ]
    }
   ],
   "source": [
    "while(True):\n",
    "    n = int(input(\"Please enter the ODD number of terms: \"))\n",
    "    if (n % 2 == 1): break\n",
    "m = (n + 1) // 2\n",
    "for i in range(1, n + 1):\n",
    "    if (i > m): b = (n - i); s = (2 * (i - m) + 1)\n",
    "    else: b = (i - 1); s = (2 * (m - i) + 1)\n",
    "    print (\".\" * b + \"*\" * s)\n",
    "print (\"End of the pattern printing...\")"
   ]
  },
  {
   "cell_type": "markdown",
   "id": "02a90b2d-175c-466a-ad16-eb7fd4c60135",
   "metadata": {},
   "source": [
    "### **User Defined Function (UDF)**"
   ]
  },
  {
   "cell_type": "code",
   "execution_count": 1,
   "id": "4e614b58-8b93-4da5-beb3-fce5f9114fca",
   "metadata": {},
   "outputs": [
    {
     "name": "stdout",
     "output_type": "stream",
     "text": [
      "<class 'function'> 2245806317648\n",
      "Welcome Welcome Welcome Welcome Welcome \n",
      "Welcome Welcome Welcome Welcome Welcome \n",
      "Welcome Welcome Welcome Welcome Welcome \n"
     ]
    }
   ],
   "source": [
    "def funct1():\n",
    "    print (\"Welcome \" * 5)\n",
    "    \n",
    "print (type(funct1), id(funct1))\n",
    "funct1()\n",
    "funct1()\n",
    "funct1()"
   ]
  },
  {
   "cell_type": "code",
   "execution_count": 2,
   "id": "6edcfdd8-d00c-4af5-aeaa-708f284c353d",
   "metadata": {},
   "outputs": [
    {
     "name": "stdout",
     "output_type": "stream",
     "text": [
      "Hello Hello Hello Hello Hello Hello Hello Hello Hello Hello \n",
      "Welcome Welcome Welcome Welcome Welcome \n"
     ]
    }
   ],
   "source": [
    "def funct2(msg, times):   # msg and times are called as positional parameters\n",
    "    print (msg * times)\n",
    "    \n",
    "funct2 (\"Hello \", 10)     # \"Hello \" and 10 are called as positional arguments\n",
    "funct2 (\"Welcome \", 5) "
   ]
  },
  {
   "cell_type": "code",
   "execution_count": 4,
   "id": "535cf761-562e-40fd-bf98-9f9d79c7856d",
   "metadata": {},
   "outputs": [
    {
     "name": "stdout",
     "output_type": "stream",
     "text": [
      "Hello Hello Hello \n",
      "Hi !!!  Hi !!!  Hi !!!  Hi !!!  Hi !!!  \n",
      "Hi !!!  Hi !!!  Hi !!!  Hi !!!  Hi !!!  \n"
     ]
    }
   ],
   "source": [
    "def funct3(msg, times):\n",
    "    return msg * times\n",
    "\n",
    "result = funct3(\"Hello \", 3)\n",
    "print (result)\n",
    "result = funct3(\"Hi !!!  \", 5)\n",
    "print (result)\n",
    "print (funct3(\"Hi !!!  \", 5))"
   ]
  },
  {
   "cell_type": "code",
   "execution_count": 13,
   "id": "017b2422-667c-4b05-a9f1-6e6a00988d35",
   "metadata": {},
   "outputs": [
    {
     "name": "stdout",
     "output_type": "stream",
     "text": [
      "par1 = 100, par2 = 200 and par3 = 300...\n",
      "par1 = 100, par2 = 200 and par3 = 333...\n",
      "par1 = 100, par2 = 222 and par3 = 333...\n",
      "par1 = 111, par2 = 222 and par3 = 333...\n",
      "par1 = 100, par2 = 222 and par3 = 300...\n",
      "par1 = 111, par2 = 200 and par3 = 300...\n"
     ]
    }
   ],
   "source": [
    "# function with default arguments\n",
    "def funct4(par1 = 111, par2 = 222, par3 = 333):\n",
    "    print (f\"par1 = {par1}, par2 = {par2} and par3 = {par3}...\")\n",
    "    \n",
    "funct4(100, 200, 300)\n",
    "funct4(100, 200)\n",
    "funct4(100)\n",
    "funct4()\n",
    "funct4(par1 = 100, par3 = 300)\n",
    "funct4(par3 = 300, par2 = 200)"
   ]
  },
  {
   "cell_type": "code",
   "execution_count": 14,
   "id": "d7169ec5-307f-43b5-b153-d7ce3a096878",
   "metadata": {},
   "outputs": [
    {
     "name": "stdout",
     "output_type": "stream",
     "text": [
      "500\n",
      "200\n"
     ]
    }
   ],
   "source": [
    "def funct5(num1, num2 = None):\n",
    "    # if (num2 == None):\n",
    "    if (num2 is None):\n",
    "        return 2 * num1\n",
    "    else:\n",
    "        return num1 + num2\n",
    "    \n",
    "print (funct5(100, 400))\n",
    "print (funct5(100))"
   ]
  },
  {
   "cell_type": "code",
   "execution_count": 16,
   "id": "764cd1bf-ae7e-46e4-b7a0-da7bb1b44204",
   "metadata": {},
   "outputs": [
    {
     "name": "stdout",
     "output_type": "stream",
     "text": [
      "Total = 140, Difference = 60, Product = 4000 and Quotient = 2.5...\n",
      "(140, 60, 4000, 2.5) <class 'tuple'> 4\n",
      "Total = 140, Difference = 60, Product = 4000 and Quotient = 2.5...\n"
     ]
    }
   ],
   "source": [
    "# function returning multiple arguments\n",
    "def funct6(num1, num2): \n",
    "    total = num1 + num2\n",
    "    difference = num1 - num2\n",
    "    product = num1 * num2\n",
    "    quotient = num1 / num2\n",
    "    return total, difference, product, quotient\n",
    "\n",
    "tt, dd, pp, qq = funct6(100, 40)\n",
    "print (f\"Total = {tt}, Difference = {dd}, Product = {pp} and Quotient = {qq}...\")\n",
    "\n",
    "result = funct6(100, 40)\n",
    "print (result, type(result), len(result))\n",
    "print (f\"Total = {result[0]}, Difference = {result[1]}, Product = {result[2]} and Quotient = {result[3]}...\")"
   ]
  },
  {
   "cell_type": "code",
   "execution_count": 17,
   "id": "83d3f55c-2f6d-4faf-8467-5c2b333a54da",
   "metadata": {},
   "outputs": [
    {
     "name": "stdout",
     "output_type": "stream",
     "text": [
      "('Amitava', 'Developer', 65000) 3 <class 'tuple'> 2245835330816\n",
      "('Amitava', 'Developer', 65000, 'Pune') 4 <class 'tuple'> 2245835268688\n",
      "('Amitava', 'Developer', 65000, 'Pune', 'Masters') 5 <class 'tuple'> 2245835266608\n"
     ]
    }
   ],
   "source": [
    "# function with variable number of arguments\n",
    "def funct7(*arg):    # *arg means forcefully defining arg as a tuple type collection object\n",
    "    print (arg, len(arg), type(arg), id(arg))\n",
    "    \n",
    "funct7(\"Amitava\", \"Developer\", 65000)\n",
    "funct7(\"Amitava\", \"Developer\", 65000, \"Pune\")\n",
    "funct7(\"Amitava\", \"Developer\", 65000, \"Pune\", \"Masters\")"
   ]
  },
  {
   "cell_type": "code",
   "execution_count": 18,
   "id": "095d3465-65af-451d-aeaf-9c97e7b28a21",
   "metadata": {},
   "outputs": [
    {
     "name": "stdout",
     "output_type": "stream",
     "text": [
      "{'name': 'Amitava', 'job': 'Developer', 'salary': 65000, 'location': 'Pune'} 4 <class 'dict'> 2245835218880\n",
      "{'name': 'Amitava', 'job': 'Developer', 'salary': 65000, 'location': 'Pune', 'qualification': 'ME'} 5 <class 'dict'> 2245835219072\n"
     ]
    }
   ],
   "source": [
    "# function with variable number of arguments\n",
    "def funct8(**kwarg):     # **kwarg means forcefully defining kwarg as a dictionary type key-word argument\n",
    "    print (kwarg, len(kwarg), type(kwarg), id(kwarg))\n",
    "    \n",
    "funct8(name = \"Amitava\", job = \"Developer\", salary = 65000, location = \"Pune\")\n",
    "funct8(name = \"Amitava\", job = \"Developer\", salary = 65000, location = \"Pune\", qualification = \"ME\")"
   ]
  },
  {
   "cell_type": "code",
   "execution_count": 19,
   "id": "c877fb79-8dd7-401d-bae4-8c1e296c309e",
   "metadata": {},
   "outputs": [
    {
     "name": "stdout",
     "output_type": "stream",
     "text": [
      "('Amitava', 'Developer', 65000) 3 <class 'tuple'> 2245835030784\n",
      "{'location': 'Pune', 'qualification': 'Masters', 'hobby': 'drawing'} 3 <class 'dict'> 2245835215744\n",
      "\n",
      "('Amitava', 'Developer', 65000) 3 <class 'tuple'> 2245835331328\n",
      "{} 0 <class 'dict'> 2245835214208\n",
      "\n",
      "() 0 <class 'tuple'> 2245719703664\n",
      "{'location': 'Pune', 'qualification': 'Masters', 'hobby': 'drawing'} 3 <class 'dict'> 2245833883520\n"
     ]
    }
   ],
   "source": [
    "# function with variable number of arguments\n",
    "def funct9(*arg, **kwarg):\n",
    "    print (arg, len(arg), type(arg), id(arg))\n",
    "    print (kwarg, len(kwarg), type(kwarg), id(kwarg))\n",
    "    \n",
    "funct9(\"Amitava\", \"Developer\", 65000, location = \"Pune\", qualification = \"Masters\", hobby='drawing')\n",
    "print ()\n",
    "funct9(\"Amitava\", \"Developer\", 65000)\n",
    "print ()\n",
    "funct9(location = \"Pune\", qualification = \"Masters\", hobby = 'drawing')"
   ]
  },
  {
   "cell_type": "code",
   "execution_count": 20,
   "id": "4a1b710e-0a61-4e4f-b6e9-980e3b6c3dfb",
   "metadata": {},
   "outputs": [
    {
     "name": "stdout",
     "output_type": "stream",
     "text": [
      "Executing for i = 2...\n",
      "Executing for i = 3...\n",
      "Executing for i = 4...\n",
      "So factorial of 5 is 120...\n"
     ]
    }
   ],
   "source": [
    "# non-recursive factorial calculating function\n",
    "# 5! = 1 * 2 * 3 * 4 * 5 = 5 * 4 * 3 * 2 * 1 = 120\n",
    "def factorial_nr(num):\n",
    "    if (num == 0 or num == 1): return 1\n",
    "    fact = num\n",
    "    for i in range(2, num):\n",
    "        print (f\"Executing for i = {i}...\")\n",
    "        fact *= i\n",
    "    return fact\n",
    "\n",
    "n = 5\n",
    "result = factorial_nr(n)\n",
    "print (f\"So factorial of {n} is {result}...\")"
   ]
  },
  {
   "cell_type": "code",
   "execution_count": 21,
   "id": "3fd1685f-49ca-4944-b68a-9af6bf4f69b8",
   "metadata": {},
   "outputs": [
    {
     "name": "stdout",
     "output_type": "stream",
     "text": [
      "So factorial of 5 is 120...\n"
     ]
    }
   ],
   "source": [
    "# recursive factorial calculating function\n",
    "# 5! = 1 * 2 * 3 * 4 * 5 = 5 * 4 * 3 * 2 * 1 = 120\n",
    "def factorial_r(num):\n",
    "    if (num == 0 or num == 1): return 1  # base case: for certain input values outputs are pre-known, and where recursion terminates\n",
    "    return num * factorial_r(num - 1)    # reursive case: the function will call itself, n! = n * (n - 1)!\n",
    "\n",
    "n = 5\n",
    "result = factorial_r(n)\n",
    "print (f\"So factorial of {n} is {result}...\")"
   ]
  },
  {
   "cell_type": "code",
   "execution_count": null,
   "id": "8b60a2fd-37f4-4573-bb10-c01cb22e1f39",
   "metadata": {},
   "outputs": [],
   "source": [
    "5! = 5 * 4!\n",
    "         4 * 3!\n",
    "             3 * 2!\n",
    "                 2 * 1!\n",
    "                     1\n",
    "                 2\n",
    "             6\n",
    "         24\n",
    "     120"
   ]
  },
  {
   "cell_type": "markdown",
   "id": "c2c8e6ac-ff29-46f2-8a70-9fd37861ce92",
   "metadata": {},
   "source": [
    "#### Lambda Function\n",
    "> In Python programming, a lambda function is a small anonymous function that can have any number of arguments, but can only have one expression. The expression is evaluated and returned as the function result. Lambda functions are commonly used in combination with higher-order functions such as map(), filter(), and reduce().\n",
    "\n",
    "Some of the properties of lambda functions in Python programming include:\n",
    "* **Anonymous:** Lambda functions are anonymous, meaning they do not have a name like regular functions. They are defined using the keyword \"lambda\" followed by the arguments and the expression.\n",
    "* **Single Expression:** A lambda function can only contain a single expression that is evaluated and returned as the function result. This means that it cannot contain multiple statements or control flow structures.\n",
    "* **Concise:** Lambda functions are concise and can be defined in a single line of code. This makes them useful for defining simple functions on-the-fly.\n",
    "* **Immutable:** Lambda functions are immutable, meaning they cannot be modified once defined. This means that you cannot change the behavior of a lambda function after it has been defined.\n",
    "* **Higher-order Functions:** Lambda functions are often used in combination with higher-order functions such as map(), filter(), and reduce(). These functions take other functions as arguments and return new functions as results.\n",
    "* **Memory-efficient:** Lambda functions are memory-efficient since they are defined on-the-fly and do not require a separate function definition. This can be useful when working with large data sets or when memory usage is a concern."
   ]
  },
  {
   "cell_type": "code",
   "execution_count": 22,
   "id": "a5ac680c-1087-460d-aaff-5d21b99c2129",
   "metadata": {},
   "outputs": [
    {
     "name": "stdout",
     "output_type": "stream",
     "text": [
      "25 <function <lambda> at 0x0000020AE61C3640> <class 'function'> 2245833537088\n",
      "36\n"
     ]
    }
   ],
   "source": [
    "# lambda function\n",
    "my_square = lambda num: num * num\n",
    "\n",
    "print (my_square(5), my_square, type(my_square), id(my_square))\n",
    "result = my_square(6)\n",
    "print (result)"
   ]
  },
  {
   "cell_type": "code",
   "execution_count": 23,
   "id": "a1267af1-dc0c-47ec-a1b0-fdb747afeb03",
   "metadata": {},
   "outputs": [
    {
     "name": "stdout",
     "output_type": "stream",
     "text": [
      "900 <function <lambda> at 0x0000020AE61C1FC0> <class 'function'> 2245833531328\n",
      "800\n"
     ]
    }
   ],
   "source": [
    "my_addition = lambda num1, num2: num1 + num2\n",
    "\n",
    "print (my_addition(500, 400), my_addition, type(my_addition), id(my_addition))\n",
    "result = my_addition(300, 500)\n",
    "print (result)"
   ]
  },
  {
   "cell_type": "code",
   "execution_count": 24,
   "id": "091d4319-76b2-481c-bb1d-6833435d649e",
   "metadata": {},
   "outputs": [
    {
     "name": "stdout",
     "output_type": "stream",
     "text": [
      "120 <function <lambda> at 0x0000020AE61C27A0> <class 'function'> 2245833533344\n",
      "720\n"
     ]
    }
   ],
   "source": [
    "# recursive factorial calculation with lambda function\n",
    "my_factorial = lambda num1: 1 if (num1 == 0 or num1 == 1) else num1 * my_factorial(num1 - 1)\n",
    "print (my_factorial(5), my_factorial, type(my_factorial), id(my_factorial))\n",
    "result = my_factorial(6)\n",
    "print (result)"
   ]
  },
  {
   "cell_type": "code",
   "execution_count": 25,
   "id": "fe0b840a-e637-4ac0-8ccb-2341fc2a4e95",
   "metadata": {},
   "outputs": [
    {
     "name": "stdout",
     "output_type": "stream",
     "text": [
      "30\n",
      "80\n",
      "150\n"
     ]
    }
   ],
   "source": [
    "def funct10(num):\n",
    "    myproduct = lambda n: n * num\n",
    "    return myproduct\n",
    "\n",
    "var10 = funct10(10)\n",
    "var20 = funct10(20)\n",
    "print (var10(3))\n",
    "print (var20(4))\n",
    "print (funct10(30)(5))"
   ]
  },
  {
   "cell_type": "code",
   "execution_count": 27,
   "id": "28e2bc70-ad17-4bb7-a328-73aaea58770c",
   "metadata": {},
   "outputs": [
    {
     "name": "stdout",
     "output_type": "stream",
     "text": [
      "500 2245833845808\n",
      "100 2245719690576\n",
      "500 2245833845808\n"
     ]
    }
   ],
   "source": [
    "# using the 'global' keyword\n",
    "def funct11():\n",
    "    i = 100\n",
    "    print (i, id(i))\n",
    "    \n",
    "i = 500\n",
    "print (i, id(i))\n",
    "funct11()\n",
    "print (i, id(i))"
   ]
  },
  {
   "cell_type": "code",
   "execution_count": 28,
   "id": "ecff0ec0-cf5e-4c7d-a411-525cb350a640",
   "metadata": {},
   "outputs": [
    {
     "name": "stdout",
     "output_type": "stream",
     "text": [
      "500 2245833848656\n",
      "100 2245719690576\n",
      "100 2245719690576\n"
     ]
    }
   ],
   "source": [
    "# using the 'global' keyword\n",
    "def funct11():\n",
    "    global i\n",
    "    i = 100\n",
    "    print (i, id(i))\n",
    "    \n",
    "i = 500\n",
    "print (i, id(i))\n",
    "funct11()\n",
    "print (i, id(i))"
   ]
  },
  {
   "cell_type": "markdown",
   "id": "3efb408f-382f-4e4e-9ee9-b1ce1b51ebeb",
   "metadata": {},
   "source": [
    "### Importing Modules: Math Module"
   ]
  },
  {
   "cell_type": "code",
   "execution_count": 1,
   "id": "bc1d81c3-fffa-40e2-8d78-38b9a3440695",
   "metadata": {},
   "outputs": [],
   "source": [
    "# importing required modules\n",
    "import math"
   ]
  },
  {
   "cell_type": "code",
   "execution_count": 3,
   "id": "61d8694d-903d-47bf-ba79-62b35d39f57a",
   "metadata": {},
   "outputs": [
    {
     "name": "stdout",
     "output_type": "stream",
     "text": [
      "0.0 1.0 0.0 0.0 1.0 0.0\n",
      "10.0 10.0 31.622776601683793 31.622776601683793\n",
      "3.141592653589793 2.718281828459045 6.283185307179586\n",
      "5 5 40 18000.0 18000\n",
      "4.605170185988092 4.605170185988092 10.0 10.0 2.9999999999999996 3.0\n"
     ]
    }
   ],
   "source": [
    "print (math.sin(0), math.cos(0), math.tan(0), math.sinh(0), math.cosh(0), math.asin(0))\n",
    "print (math.sqrt(100), 100 ** 0.5, math.sqrt(1000), 1000 ** 0.5)\n",
    "print (math.pi, math.e, math.tau)\n",
    "print (math.gcd(100, 5), math.gcd(100, 45), math.gcd(1000, 720),(1000*720)/math.gcd(1000,720), math.lcm(1000, 720))\n",
    "print (math.log(100), math.log(100, math.e), math.log(1024, 2), math.log2(1024),\n",
    "       math.log(1000, 10), math.log10(1000))"
   ]
  },
  {
   "cell_type": "code",
   "execution_count": 4,
   "id": "d0fe92ed-f168-468b-b5fc-5f793e20a62f",
   "metadata": {},
   "outputs": [
    {
     "name": "stdout",
     "output_type": "stream",
     "text": [
      "120 720\n",
      "10000.0 10000 10000.0\n",
      "10 10 11 11\n"
     ]
    }
   ],
   "source": [
    "print (math.factorial(5), math.factorial(6))\n",
    "print (math.pow(100, 2), 100 ** 2, 100.0 ** 2)\n",
    "print (math.floor(10.1), math.floor(10.9), math.ceil(10.1), math.ceil(10.9))"
   ]
  },
  {
   "cell_type": "code",
   "execution_count": 5,
   "id": "95ea2288-b43d-475a-8974-7c0d5f80cf10",
   "metadata": {},
   "outputs": [
    {
     "name": "stdout",
     "output_type": "stream",
     "text": [
      "Help on built-in function pow in module math:\n",
      "\n",
      "pow(x, y, /)\n",
      "    Return x**y (x to the power of y).\n",
      "\n"
     ]
    }
   ],
   "source": [
    "help(math.pow)"
   ]
  },
  {
   "cell_type": "code",
   "execution_count": null,
   "id": "9f05670a-b5eb-421e-80e8-010e2edbb9ef",
   "metadata": {},
   "outputs": [],
   "source": [
    "help(math)"
   ]
  },
  {
   "cell_type": "code",
   "execution_count": 7,
   "id": "e7410147-1177-4bd8-aabf-b038af80b3c8",
   "metadata": {},
   "outputs": [
    {
     "name": "stdout",
     "output_type": "stream",
     "text": [
      "100.4987562112089\n",
      "100.4987562112089\n"
     ]
    }
   ],
   "source": [
    "print (math.dist((100, 30), (200, 40)))   # calculating Eucledian distance\n",
    "print (math.sqrt((100 - 200) ** 2 + (30 - 40) ** 2))"
   ]
  },
  {
   "cell_type": "code",
   "execution_count": 8,
   "id": "1a0f1b40-fe17-4064-bbb0-2ef2634d3ce7",
   "metadata": {},
   "outputs": [
    {
     "name": "stdout",
     "output_type": "stream",
     "text": [
      "                                  2023\n",
      "\n",
      "      January                   February                   March\n",
      "Mo Tu We Th Fr Sa Su      Mo Tu We Th Fr Sa Su      Mo Tu We Th Fr Sa Su\n",
      "                   1             1  2  3  4  5             1  2  3  4  5\n",
      " 2  3  4  5  6  7  8       6  7  8  9 10 11 12       6  7  8  9 10 11 12\n",
      " 9 10 11 12 13 14 15      13 14 15 16 17 18 19      13 14 15 16 17 18 19\n",
      "16 17 18 19 20 21 22      20 21 22 23 24 25 26      20 21 22 23 24 25 26\n",
      "23 24 25 26 27 28 29      27 28                     27 28 29 30 31\n",
      "30 31\n",
      "\n",
      "       April                      May                       June\n",
      "Mo Tu We Th Fr Sa Su      Mo Tu We Th Fr Sa Su      Mo Tu We Th Fr Sa Su\n",
      "                1  2       1  2  3  4  5  6  7                1  2  3  4\n",
      " 3  4  5  6  7  8  9       8  9 10 11 12 13 14       5  6  7  8  9 10 11\n",
      "10 11 12 13 14 15 16      15 16 17 18 19 20 21      12 13 14 15 16 17 18\n",
      "17 18 19 20 21 22 23      22 23 24 25 26 27 28      19 20 21 22 23 24 25\n",
      "24 25 26 27 28 29 30      29 30 31                  26 27 28 29 30\n",
      "\n",
      "        July                     August                  September\n",
      "Mo Tu We Th Fr Sa Su      Mo Tu We Th Fr Sa Su      Mo Tu We Th Fr Sa Su\n",
      "                1  2          1  2  3  4  5  6                   1  2  3\n",
      " 3  4  5  6  7  8  9       7  8  9 10 11 12 13       4  5  6  7  8  9 10\n",
      "10 11 12 13 14 15 16      14 15 16 17 18 19 20      11 12 13 14 15 16 17\n",
      "17 18 19 20 21 22 23      21 22 23 24 25 26 27      18 19 20 21 22 23 24\n",
      "24 25 26 27 28 29 30      28 29 30 31               25 26 27 28 29 30\n",
      "31\n",
      "\n",
      "      October                   November                  December\n",
      "Mo Tu We Th Fr Sa Su      Mo Tu We Th Fr Sa Su      Mo Tu We Th Fr Sa Su\n",
      "                   1             1  2  3  4  5                   1  2  3\n",
      " 2  3  4  5  6  7  8       6  7  8  9 10 11 12       4  5  6  7  8  9 10\n",
      " 9 10 11 12 13 14 15      13 14 15 16 17 18 19      11 12 13 14 15 16 17\n",
      "16 17 18 19 20 21 22      20 21 22 23 24 25 26      18 19 20 21 22 23 24\n",
      "23 24 25 26 27 28 29      27 28 29 30               25 26 27 28 29 30 31\n",
      "30 31\n"
     ]
    }
   ],
   "source": [
    "import calendar\n",
    "calendar.prcal(2023)"
   ]
  },
  {
   "cell_type": "markdown",
   "id": "f688f2f3-34ec-44c0-801b-98f3d92ae2d8",
   "metadata": {},
   "source": [
    "### String Processing"
   ]
  },
  {
   "cell_type": "code",
   "execution_count": null,
   "id": "c703909d-e81f-45e6-adff-e474b37a3b3d",
   "metadata": {},
   "outputs": [],
   "source": [
    "index left to right ->  0   1   2   3   4   5   6   7   8   9\n",
    "               mystr =  u   n   i   v   e   r   s   i   t   y\n",
    "index right to left ->-10  -9  -8  -7  -6  -5  -4  -3  -2  -1 "
   ]
  },
  {
   "cell_type": "code",
   "execution_count": 12,
   "id": "b1a99c58-c7b1-40c0-ab04-00170687b09d",
   "metadata": {},
   "outputs": [
    {
     "name": "stdout",
     "output_type": "stream",
     "text": [
      "university 10 <class 'str'> 1673040282864\n",
      "v v i i r r\n",
      "niversi niversi niversi niversi ytisrevinu\n"
     ]
    }
   ],
   "source": [
    "mystr = \"university\"\n",
    "print (mystr, len(mystr), type(mystr), id(mystr))\n",
    "print (mystr[3], mystr[-7], mystr[7], mystr[-3], mystr[5], mystr[-5]) # indexing\n",
    "print (mystr[1:8], mystr[-9:-2], mystr[1:-2], mystr[-9:8], mystr[::-1]) # slicing or sub-string retrieval"
   ]
  },
  {
   "cell_type": "code",
   "execution_count": 13,
   "id": "d12d1390-78ad-4d48-90d7-cb069ab00517",
   "metadata": {},
   "outputs": [
    {
     "name": "stdout",
     "output_type": "stream",
     "text": [
      "caLCuTTa unIVerSitY 19 <class 'str'> 1673040867168\n",
      "CALCUTTA UNIVERSITY calcutta university Calcutta University Calcutta university CAlcUttA UNivERsITy           caLCuTTa unIVerSitY           \n",
      "               CALCUTTA UNIVERSITY                \n"
     ]
    }
   ],
   "source": [
    "mystr = \"caLCuTTa unIVerSitY\"\n",
    "print (mystr, len(mystr), type(mystr), id(mystr))\n",
    "print (mystr.upper(), mystr.lower(), mystr.title(), mystr.capitalize(),\n",
    "       mystr.swapcase(), mystr.center(40))\n",
    "print (mystr.upper().center(50))"
   ]
  },
  {
   "cell_type": "code",
   "execution_count": 15,
   "id": "42ea777c-7b87-41af-9f88-457f252d5bc7",
   "metadata": {},
   "outputs": [
    {
     "name": "stdout",
     "output_type": "stream",
     "text": [
      "4 4 11 -1 11\n"
     ]
    }
   ],
   "source": [
    "mystr = \"charity begins at home\"\n",
    "print (mystr.find(\"ity\"), mystr.find(\"i\", 3), mystr.find(\"i\", 5), mystr.find(\"ins\", 11, 13), mystr.find(\"ins\", 11, 14))"
   ]
  },
  {
   "cell_type": "code",
   "execution_count": 19,
   "id": "becc9d0e-1467-4b39-942d-023c2b1a576b",
   "metadata": {},
   "outputs": [
    {
     "name": "stdout",
     "output_type": "stream",
     "text": [
      "4 4 11\n"
     ]
    },
    {
     "ename": "ValueError",
     "evalue": "substring not found",
     "output_type": "error",
     "traceback": [
      "\u001b[1;31m---------------------------------------------------------------------------\u001b[0m",
      "\u001b[1;31mValueError\u001b[0m                                Traceback (most recent call last)",
      "Cell \u001b[1;32mIn[19], line 3\u001b[0m\n\u001b[0;32m      1\u001b[0m mystr \u001b[38;5;241m=\u001b[39m \u001b[38;5;124m\"\u001b[39m\u001b[38;5;124mcharity begins at home\u001b[39m\u001b[38;5;124m\"\u001b[39m\n\u001b[0;32m      2\u001b[0m \u001b[38;5;28mprint\u001b[39m (mystr\u001b[38;5;241m.\u001b[39mindex(\u001b[38;5;124m\"\u001b[39m\u001b[38;5;124mity\u001b[39m\u001b[38;5;124m\"\u001b[39m), mystr\u001b[38;5;241m.\u001b[39mindex(\u001b[38;5;124m\"\u001b[39m\u001b[38;5;124mi\u001b[39m\u001b[38;5;124m\"\u001b[39m, \u001b[38;5;241m3\u001b[39m), mystr\u001b[38;5;241m.\u001b[39mindex(\u001b[38;5;124m\"\u001b[39m\u001b[38;5;124mi\u001b[39m\u001b[38;5;124m\"\u001b[39m, \u001b[38;5;241m5\u001b[39m))\n\u001b[1;32m----> 3\u001b[0m \u001b[38;5;28mprint\u001b[39m (\u001b[43mmystr\u001b[49m\u001b[38;5;241;43m.\u001b[39;49m\u001b[43mindex\u001b[49m\u001b[43m(\u001b[49m\u001b[38;5;124;43m\"\u001b[39;49m\u001b[38;5;124;43mins\u001b[39;49m\u001b[38;5;124;43m\"\u001b[39;49m\u001b[43m,\u001b[49m\u001b[43m \u001b[49m\u001b[38;5;241;43m11\u001b[39;49m\u001b[43m,\u001b[49m\u001b[43m \u001b[49m\u001b[38;5;241;43m13\u001b[39;49m\u001b[43m)\u001b[49m)\n\u001b[0;32m      4\u001b[0m \u001b[38;5;28mprint\u001b[39m (\u001b[38;5;124m\"\u001b[39m\u001b[38;5;124mEnd of the program...\u001b[39m\u001b[38;5;124m\"\u001b[39m)\n",
      "\u001b[1;31mValueError\u001b[0m: substring not found"
     ]
    }
   ],
   "source": [
    "mystr = \"charity begins at home\"\n",
    "print (mystr.index(\"ity\"), mystr.index(\"i\", 3), mystr.index(\"i\", 5))\n",
    "print (mystr.index(\"ins\", 11, 13))\n",
    "print (\"End of the program...\")"
   ]
  },
  {
   "cell_type": "code",
   "execution_count": 17,
   "id": "af754770-d159-409d-bc1e-b2509aeea687",
   "metadata": {},
   "outputs": [
    {
     "name": "stdout",
     "output_type": "stream",
     "text": [
      "4 4 11\n",
      "Unsuccessful searching has taken place...\n",
      "End of the program...\n"
     ]
    }
   ],
   "source": [
    "try:\n",
    "    mystr = \"charity begins at home\"\n",
    "    print (mystr.index(\"ity\"), mystr.index(\"i\", 3), mystr.index(\"i\", 5))\n",
    "    print (mystr.index(\"ins\", 11, 13))\n",
    "except ValueError as ve:\n",
    "    print (\"Unsuccessful searching has taken place...\")\n",
    "print (\"End of the program...\")"
   ]
  },
  {
   "cell_type": "code",
   "execution_count": 20,
   "id": "4c8a65ac-365e-48c9-9ce2-abef73ae756c",
   "metadata": {},
   "outputs": [
    {
     "name": "stdout",
     "output_type": "stream",
     "text": [
      "    calcutta    university      31 <class 'str'> 1673040870768\n",
      "calcutta    university 22 calcutta    university      27     calcutta    university 26\n",
      "calcutta    university calcutta    university      27\n"
     ]
    }
   ],
   "source": [
    "mystr = \"    calcutta    university     \"\n",
    "print (mystr, len(mystr), type(mystr), id(mystr))\n",
    "print (mystr.strip(), len(mystr.strip()), mystr.lstrip(), len(mystr.lstrip()), mystr.rstrip(),\n",
    "       len(mystr.rstrip()))\n",
    "print (mystr.strip(\" \"), mystr.lstrip(\" \"), len(mystr.lstrip(\" \")))"
   ]
  },
  {
   "cell_type": "code",
   "execution_count": 21,
   "id": "f5b6e156-7551-458d-87a5-5c03f06fdd59",
   "metadata": {},
   "outputs": [
    {
     "name": "stdout",
     "output_type": "stream",
     "text": [
      "calcutta#@#@university 22 calcutta#@#@university#@@@# ##@@calcutta#@#@university 26\n"
     ]
    }
   ],
   "source": [
    "mystr = \"##@@calcutta#@#@university#@@@#\"\n",
    "print (mystr.strip(\"@#\"), len(mystr.strip(\"@#\")), mystr.lstrip(\"@#\"), mystr.rstrip(\"@#\"),\n",
    "       len(mystr.rstrip(\"@#\")))"
   ]
  },
  {
   "cell_type": "code",
   "execution_count": 22,
   "id": "be5ce355-4d83-4eba-8130-c8618ece6862",
   "metadata": {},
   "outputs": [
    {
     "name": "stdout",
     "output_type": "stream",
     "text": [
      "True False True True\n",
      "True False True\n"
     ]
    }
   ],
   "source": [
    "mystr = \"charity begins at home\"\n",
    "print (mystr.startswith(\"cha\"), mystr.startswith(\"beg\"), mystr.startswith(\"beg\", 8),\n",
    "       mystr.startswith(\"beg\", 8, 20))\n",
    "print (mystr.endswith(\"ome\"), mystr.endswith(\"gins\"), mystr.endswith(\"gins\", 0, 14))"
   ]
  },
  {
   "cell_type": "code",
   "execution_count": 24,
   "id": "600ed9f6-d7ab-46f1-852b-50286cc46e55",
   "metadata": {},
   "outputs": [
    {
     "name": "stdout",
     "output_type": "stream",
     "text": [
      "W\n",
      "e\n",
      "l\n",
      "c\n",
      "o\n",
      "m\n",
      "e\n"
     ]
    }
   ],
   "source": [
    "mystr = \"Welcome\"    # Reading character by character from a string\n",
    "for ch in mystr:\n",
    "    print (ch)"
   ]
  },
  {
   "cell_type": "code",
   "execution_count": 25,
   "id": "e27596f8-de53-48c1-8daa-5580c7901b7a",
   "metadata": {},
   "outputs": [
    {
     "name": "stdout",
     "output_type": "stream",
     "text": [
      "W\n",
      "e\n",
      "l\n",
      "c\n",
      "o\n",
      "m\n",
      "e\n"
     ]
    }
   ],
   "source": [
    "mystr = \"Welcome\"    # Reading character by character from a string\n",
    "for i in range(len(mystr)):\n",
    "    print (mystr[i])"
   ]
  },
  {
   "cell_type": "code",
   "execution_count": 27,
   "id": "efad7c6b-5c20-4987-942b-c622cd9f723d",
   "metadata": {},
   "outputs": [
    {
     "name": "stdout",
     "output_type": "stream",
     "text": [
      "charity begins at home 22 <class 'str'> 1673040862688\n",
      "['charity', 'begins', 'at', 'home']\n",
      "['charity', 'begins', 'at', 'home']\n",
      "['char', 'ty beg', 'ns at home']\n"
     ]
    }
   ],
   "source": [
    "mystr = \"charity begins at home\"\n",
    "print (mystr, len(mystr), type(mystr), id(mystr))\n",
    "list1 = mystr.split()\n",
    "print (list1)\n",
    "list1 = mystr.split(\" \")\n",
    "print (list1)\n",
    "list1 = mystr.split(\"i\")\n",
    "print (list1)"
   ]
  },
  {
   "cell_type": "code",
   "execution_count": 29,
   "id": "26c6e910-8f42-4472-b252-07f7f345fff0",
   "metadata": {},
   "outputs": [
    {
     "name": "stdout",
     "output_type": "stream",
     "text": [
      "['charity', 'begins', 'at', 'home'] 4 <class 'list'> 1673069678400\n",
      "charity begins at home\n",
      "charity - begins - at - home\n",
      "charity, begins, at, home\n"
     ]
    }
   ],
   "source": [
    "list1 = ['charity', 'begins', 'at', 'home']\n",
    "print (list1, len(list1), type(list1), id(list1))\n",
    "mystr = \" \".join(list1)\n",
    "print (mystr)\n",
    "mystr = \" - \".join(list1)\n",
    "print (mystr)\n",
    "mystr = \", \".join(list1)\n",
    "print (mystr)"
   ]
  },
  {
   "cell_type": "code",
   "execution_count": 34,
   "id": "71f00b4f-0e72-4491-845f-f0b61ab495b6",
   "metadata": {},
   "outputs": [
    {
     "name": "stdout",
     "output_type": "stream",
     "text": [
      "False False False False False\n"
     ]
    }
   ],
   "source": [
    "# mystr = \"university\"\n",
    "# mystr = \"1234\"    # isdecimal() subset of isdigit() subset of isnumeric()\n",
    "# mystr = \"0xab\"\n",
    "# mystr = \"university1234\"\n",
    "mystr = \"university@1234\"\n",
    "print (mystr.isalpha(), mystr.isalnum(), mystr.isnumeric(), mystr.isdigit(), mystr.isdecimal())"
   ]
  },
  {
   "cell_type": "code",
   "execution_count": 37,
   "id": "9307147e-f418-4907-a7ec-213be440075d",
   "metadata": {},
   "outputs": [
    {
     "name": "stdout",
     "output_type": "stream",
     "text": [
      "2 1 0\n",
      "unxversxty\n",
      "university\n",
      "unxversxty\n"
     ]
    }
   ],
   "source": [
    "mystr = \"university\"\n",
    "print (mystr.count(\"i\"), mystr.count(\"v\"), mystr.count(\"I\"))\n",
    "print (mystr.replace(\"i\", \"x\"))\n",
    "print (mystr)\n",
    "mystr = mystr.replace(\"i\", \"x\")\n",
    "print (mystr)"
   ]
  },
  {
   "cell_type": "code",
   "execution_count": 38,
   "id": "d6f1a25c-b691-4002-9fc8-db0cdb1287bb",
   "metadata": {},
   "outputs": [
    {
     "name": "stdout",
     "output_type": "stream",
     "text": [
      "mississippi <class 'str'>\n",
      "['m', 'i', 's', 's', 'i', 's', 's', 'i', 'p', 'p', 'i']\n",
      "('m', 'i', 's', 's', 'i', 's', 's', 'i', 'p', 'p', 'i')\n",
      "{'i', 'p', 's', 'm'}\n",
      "frozenset({'i', 'p', 's', 'm'})\n"
     ]
    }
   ],
   "source": [
    "mystr = \"mississippi\"\n",
    "print (mystr, type(mystr))\n",
    "print (list(mystr))\n",
    "print (tuple(mystr))\n",
    "print (set(mystr))\n",
    "print (frozenset(mystr))"
   ]
  },
  {
   "cell_type": "markdown",
   "id": "e791b41f-4735-4817-bad2-6bb54cf7f0df",
   "metadata": {},
   "source": [
    "### List Processing"
   ]
  },
  {
   "cell_type": "code",
   "execution_count": 40,
   "id": "0b98d055-974d-4f47-8782-68cf444458ca",
   "metadata": {},
   "outputs": [
    {
     "name": "stdout",
     "output_type": "stream",
     "text": [
      "[100, 400, 300, 200, 700] 5 <class 'list'> 1673040222016\n",
      "700 100\n",
      "1700 340.0\n"
     ]
    }
   ],
   "source": [
    "list1 = [100, 400, 300, 200, 700]\n",
    "print (list1, len(list1), type(list1), id(list1))\n",
    "print (max(list1), min(list1))\n",
    "print (sum(list1), sum(list1) / len(list1))"
   ]
  },
  {
   "cell_type": "code",
   "execution_count": 41,
   "id": "80b13be5-b630-400e-aae0-fd152a54cb82",
   "metadata": {},
   "outputs": [
    {
     "name": "stdout",
     "output_type": "stream",
     "text": [
      "[100, 400, True, 300, 200, False, 700] 7 <class 'list'> 1673040294144\n",
      "700 False\n",
      "1701 243.0\n"
     ]
    }
   ],
   "source": [
    "list1 = [100, 400, True, 300, 200, False, 700]\n",
    "print (list1, len(list1), type(list1), id(list1))\n",
    "print (max(list1), min(list1))\n",
    "print (sum(list1), sum(list1) / len(list1))"
   ]
  },
  {
   "cell_type": "code",
   "execution_count": 44,
   "id": "891a1e6d-1465-434a-9b59-05cc81bdf283",
   "metadata": {},
   "outputs": [
    {
     "name": "stdout",
     "output_type": "stream",
     "text": [
      "['sunday', 'monday', 'friday', 'Saturday', 'tuesday'] 5 <class 'list'> 1673070609280\n",
      "tuesday Saturday\n"
     ]
    },
    {
     "ename": "TypeError",
     "evalue": "unsupported operand type(s) for +: 'int' and 'str'",
     "output_type": "error",
     "traceback": [
      "\u001b[1;31m---------------------------------------------------------------------------\u001b[0m",
      "\u001b[1;31mTypeError\u001b[0m                                 Traceback (most recent call last)",
      "Cell \u001b[1;32mIn[44], line 4\u001b[0m\n\u001b[0;32m      2\u001b[0m \u001b[38;5;28mprint\u001b[39m (list1, \u001b[38;5;28mlen\u001b[39m(list1), \u001b[38;5;28mtype\u001b[39m(list1), \u001b[38;5;28mid\u001b[39m(list1))\n\u001b[0;32m      3\u001b[0m \u001b[38;5;28mprint\u001b[39m (\u001b[38;5;28mmax\u001b[39m(list1), \u001b[38;5;28mmin\u001b[39m(list1))\n\u001b[1;32m----> 4\u001b[0m \u001b[38;5;28mprint\u001b[39m (\u001b[38;5;28;43msum\u001b[39;49m\u001b[43m(\u001b[49m\u001b[43mlist1\u001b[49m\u001b[43m)\u001b[49m, \u001b[38;5;28msum\u001b[39m(list1) \u001b[38;5;241m/\u001b[39m \u001b[38;5;28mlen\u001b[39m(list1))\n",
      "\u001b[1;31mTypeError\u001b[0m: unsupported operand type(s) for +: 'int' and 'str'"
     ]
    }
   ],
   "source": [
    "list1 = [\"sunday\", \"monday\", 'friday', 'Saturday', 'tuesday']\n",
    "print (list1, len(list1), type(list1), id(list1))\n",
    "print (max(list1), min(list1))\n",
    "print (sum(list1), sum(list1) / len(list1))"
   ]
  },
  {
   "cell_type": "code",
   "execution_count": 45,
   "id": "471858d6-6260-48df-a50c-3fb2e21e27c5",
   "metadata": {},
   "outputs": [
    {
     "name": "stdout",
     "output_type": "stream",
     "text": [
      "[100, 400, True, 'Tuesday', 300, 'Wednesday', 200, False, 700] 9 <class 'list'> 1673070901952\n"
     ]
    },
    {
     "ename": "TypeError",
     "evalue": "'>' not supported between instances of 'str' and 'int'",
     "output_type": "error",
     "traceback": [
      "\u001b[1;31m---------------------------------------------------------------------------\u001b[0m",
      "\u001b[1;31mTypeError\u001b[0m                                 Traceback (most recent call last)",
      "Cell \u001b[1;32mIn[45], line 3\u001b[0m\n\u001b[0;32m      1\u001b[0m list1 \u001b[38;5;241m=\u001b[39m [\u001b[38;5;241m100\u001b[39m, \u001b[38;5;241m400\u001b[39m, \u001b[38;5;28;01mTrue\u001b[39;00m, \u001b[38;5;124m\"\u001b[39m\u001b[38;5;124mTuesday\u001b[39m\u001b[38;5;124m\"\u001b[39m, \u001b[38;5;241m300\u001b[39m, \u001b[38;5;124m\"\u001b[39m\u001b[38;5;124mWednesday\u001b[39m\u001b[38;5;124m\"\u001b[39m, \u001b[38;5;241m200\u001b[39m, \u001b[38;5;28;01mFalse\u001b[39;00m, \u001b[38;5;241m700\u001b[39m]\n\u001b[0;32m      2\u001b[0m \u001b[38;5;28mprint\u001b[39m (list1, \u001b[38;5;28mlen\u001b[39m(list1), \u001b[38;5;28mtype\u001b[39m(list1), \u001b[38;5;28mid\u001b[39m(list1))\n\u001b[1;32m----> 3\u001b[0m \u001b[38;5;28mprint\u001b[39m (\u001b[38;5;28;43mmax\u001b[39;49m\u001b[43m(\u001b[49m\u001b[43mlist1\u001b[49m\u001b[43m)\u001b[49m, \u001b[38;5;28mmin\u001b[39m(list1))\n\u001b[0;32m      4\u001b[0m \u001b[38;5;28mprint\u001b[39m (\u001b[38;5;28msum\u001b[39m(list1), \u001b[38;5;28msum\u001b[39m(list1) \u001b[38;5;241m/\u001b[39m \u001b[38;5;28mlen\u001b[39m(list1))\n",
      "\u001b[1;31mTypeError\u001b[0m: '>' not supported between instances of 'str' and 'int'"
     ]
    }
   ],
   "source": [
    "list1 = [100, 400, True, \"Tuesday\", 300, \"Wednesday\", 200, False, 700]\n",
    "print (list1, len(list1), type(list1), id(list1))\n",
    "print (max(list1), min(list1))\n",
    "print (sum(list1), sum(list1) / len(list1))"
   ]
  },
  {
   "cell_type": "code",
   "execution_count": 46,
   "id": "568ca04b-3038-4e06-b0a5-d4aeeda9e97e",
   "metadata": {},
   "outputs": [
    {
     "name": "stdout",
     "output_type": "stream",
     "text": [
      "['Monday', 'Tuesday', 'Wednesday', 'Thursday', 'Friday'] 5 <class 'list'> 1673068901696\n",
      "Wednesday Wednesday Thursday Thursday\n",
      "nes nes\n"
     ]
    }
   ],
   "source": [
    "# Indexing and slicing\n",
    "# L ro R ->  0         1          2            3           4\n",
    "list1 =    [\"Monday\", \"Tuesday\", \"Wednesday\", \"Thursday\", \"Friday\"]\n",
    "# R to L -> -5        -4         -3           -2          -1\n",
    "print (list1, len(list1), type(list1), id(list1))\n",
    "print (list1[2], list1[-3], list1[3], list1[-2])\n",
    "print (list1[2][3:6], list1[-3][-6:-3])"
   ]
  },
  {
   "cell_type": "code",
   "execution_count": 48,
   "id": "3d461f31-27cd-4d50-b739-2dcd49b56026",
   "metadata": {},
   "outputs": [
    {
     "name": "stdout",
     "output_type": "stream",
     "text": [
      "['Monday', 'Tuesday', 'Wednesday', 'Thursday', 'Friday']\n",
      "['Mango', 'Pineapple', 'Guava', 'Lime']\n",
      "['Monday', 'Tuesday', 'Wednesday', 'Thursday', 'Friday', 'Mango', 'Pineapple', 'Guava', 'Lime']\n",
      "['Monday', 'Tuesday', 'Wednesday', 'Thursday', 'Friday', 'Mango', 'Pineapple', 'Guava', 'Lime']\n",
      "['Mango', 'Pineapple', 'Guava', 'Lime']\n"
     ]
    }
   ],
   "source": [
    "list1 = [\"Monday\", \"Tuesday\", \"Wednesday\", \"Thursday\", \"Friday\"]\n",
    "list2 = [\"Mango\", \"Pineapple\", \"Guava\", \"Lime\"]\n",
    "list3 = list1 + list2    # list concatenation\n",
    "print (list1)\n",
    "print (list2)\n",
    "print (list3)\n",
    "list1.extend(list2)      # list concatenation\n",
    "print (list1)\n",
    "print (list2)"
   ]
  },
  {
   "cell_type": "code",
   "execution_count": 50,
   "id": "5778a36d-fe2f-42a8-9f2f-daf2b436282f",
   "metadata": {},
   "outputs": [
    {
     "name": "stdout",
     "output_type": "stream",
     "text": [
      "[['Monday', 'Tuesday', 'Wednesday', 'Thursday', 'Friday'], ['Mango', 'Pineapple', 'Guava', 'Lime']]\n",
      "5 4\n",
      "['Pineapple', 'Guava'] ['Wednesday', 'Thursday'] nes\n"
     ]
    }
   ],
   "source": [
    "list1 = [\"Monday\", \"Tuesday\", \"Wednesday\", \"Thursday\", \"Friday\"]\n",
    "list2 = [\"Mango\", \"Pineapple\", \"Guava\", \"Lime\"]\n",
    "list3 = [list1, list2]      # list of lists\n",
    "print (list3)\n",
    "print (len(list3[0]), len(list3[1]))\n",
    "print (list3[1][1:3], list3[0][2:4], list3[0][2][3:6])"
   ]
  },
  {
   "cell_type": "code",
   "execution_count": 51,
   "id": "da1974b7-0655-47f5-bf9c-5422990699f3",
   "metadata": {},
   "outputs": [
    {
     "name": "stdout",
     "output_type": "stream",
     "text": [
      "['Mango', 'Pineapple', 'Coconut', 'Banana', 'Lime']\n",
      "['Mango', 'Pineapple', 'Coconut', 'Banana', 'Lime', 'Guava']\n",
      "['Mango', 'Lemon', 'Pineapple', 'Coconut', 'Banana', 'Lime', 'Guava']\n"
     ]
    }
   ],
   "source": [
    "# insert operation on list\n",
    "list1 = ['Mango', 'Pineapple', 'Coconut', 'Banana', 'Lime']\n",
    "print (list1)\n",
    "list1.append(\"Guava\")\n",
    "print (list1)\n",
    "list1.insert(1, \"Lemon\")\n",
    "print (list1)"
   ]
  },
  {
   "cell_type": "code",
   "execution_count": 52,
   "id": "7ce1d8c1-37a8-43de-97db-a2b6d3d269b5",
   "metadata": {},
   "outputs": [
    {
     "name": "stdout",
     "output_type": "stream",
     "text": [
      "['Mango', 'Pineapple', 'Coconut', 'Banana', 'Lime']\n",
      "['Himsagar', 'Pineapple', 'Coconut', 'Banana', 'Lime']\n"
     ]
    }
   ],
   "source": [
    "# update operation on list\n",
    "list1 = ['Mango', 'Pineapple', 'Coconut', 'Banana', 'Lime']\n",
    "print (list1)\n",
    "list1[0] = \"Himsagar\"\n",
    "print (list1)"
   ]
  },
  {
   "cell_type": "code",
   "execution_count": 56,
   "id": "e41a72da-b0cf-427f-ae18-8e10f9e565bb",
   "metadata": {},
   "outputs": [
    {
     "name": "stdout",
     "output_type": "stream",
     "text": [
      "['Mango', 'Pineapple', 'Coconut', 'Banana', 'Lime', 'Lemon', 'Coconut', 'Cherry', 'Apple']\n",
      "['Mango', 'Coconut', 'Banana', 'Lime', 'Lemon', 'Coconut', 'Cherry', 'Apple']\n",
      "Apple\n",
      "['Mango', 'Coconut', 'Banana', 'Lime', 'Lemon', 'Coconut', 'Cherry']\n",
      "Banana\n",
      "['Mango', 'Coconut', 'Lime', 'Lemon', 'Coconut', 'Cherry']\n",
      "['Mango', 'Coconut', 'Lemon', 'Coconut', 'Cherry']\n",
      "[]\n"
     ]
    },
    {
     "ename": "NameError",
     "evalue": "name 'list1' is not defined",
     "output_type": "error",
     "traceback": [
      "\u001b[1;31m---------------------------------------------------------------------------\u001b[0m",
      "\u001b[1;31mNameError\u001b[0m                                 Traceback (most recent call last)",
      "Cell \u001b[1;32mIn[56], line 15\u001b[0m\n\u001b[0;32m     13\u001b[0m \u001b[38;5;28mprint\u001b[39m (list1)\n\u001b[0;32m     14\u001b[0m \u001b[38;5;28;01mdel\u001b[39;00m list1\n\u001b[1;32m---> 15\u001b[0m \u001b[38;5;28mprint\u001b[39m (\u001b[43mlist1\u001b[49m)\n",
      "\u001b[1;31mNameError\u001b[0m: name 'list1' is not defined"
     ]
    }
   ],
   "source": [
    "# deletion operation on list\n",
    "list1 = ['Mango', 'Pineapple', 'Coconut', 'Banana', 'Lime', 'Lemon', 'Coconut', 'Cherry', 'Apple']\n",
    "print (list1)\n",
    "list1.remove(\"Pineapple\")\n",
    "print (list1)\n",
    "print (list1.pop())\n",
    "print (list1)\n",
    "print (list1.pop(2))\n",
    "print (list1)\n",
    "del list1[2]\n",
    "print (list1)\n",
    "list1.clear()\n",
    "print (list1)\n",
    "del list1\n",
    "print (list1)"
   ]
  },
  {
   "cell_type": "code",
   "execution_count": 57,
   "id": "7ba6dff4-d734-4d1a-969b-a722709d364a",
   "metadata": {},
   "outputs": [
    {
     "name": "stdout",
     "output_type": "stream",
     "text": [
      "['Mango', 'Pineapple', 'Coconut', 'Banana', 'Lime']\n",
      "['Lime', 'Banana', 'Coconut', 'Pineapple', 'Mango']\n"
     ]
    }
   ],
   "source": [
    "# reverse of a list\n",
    "list1 = ['Mango', 'Pineapple', 'Coconut', 'Banana', 'Lime']\n",
    "print (list1)\n",
    "list1.reverse()\n",
    "print (list1)"
   ]
  },
  {
   "cell_type": "code",
   "execution_count": 59,
   "id": "191a7714-784f-4991-8289-2846716a37da",
   "metadata": {},
   "outputs": [
    {
     "name": "stdout",
     "output_type": "stream",
     "text": [
      "['Mango', 'Pineapple', 'Coconut', 'Banana', 'Lime']\n",
      "['Banana', 'Coconut', 'Lime', 'Mango', 'Pineapple']\n",
      "['Pineapple', 'Mango', 'Lime', 'Coconut', 'Banana']\n"
     ]
    }
   ],
   "source": [
    "# sorting of a list\n",
    "list1 = ['Mango', 'Pineapple', 'Coconut', 'Banana', 'Lime']\n",
    "print (list1)\n",
    "list1.sort()\n",
    "print (list1)\n",
    "list1.sort(reverse = True)\n",
    "print (list1)"
   ]
  },
  {
   "cell_type": "code",
   "execution_count": 60,
   "id": "c5e89a13-e186-4b2d-abcd-1253866fb680",
   "metadata": {},
   "outputs": [
    {
     "name": "stdout",
     "output_type": "stream",
     "text": [
      "['Mango', 'Pineapple', 'Coconut', 'Banana', 'Lime']\n",
      "['Banana', 'Coconut', 'Lime', 'Mango', 'Pineapple']\n",
      "['Pineapple', 'Mango', 'Lime', 'Coconut', 'Banana']\n"
     ]
    }
   ],
   "source": [
    "list1 = ['Mango', 'Pineapple', 'Coconut', 'Banana', 'Lime']\n",
    "print (list1)\n",
    "list1 = sorted(list1)\n",
    "print (list1)\n",
    "list1 = sorted(list1, reverse = True)\n",
    "print (list1)"
   ]
  },
  {
   "cell_type": "code",
   "execution_count": 61,
   "id": "a9117db9-d378-46c1-9cad-0bf700e841f0",
   "metadata": {},
   "outputs": [
    {
     "name": "stdout",
     "output_type": "stream",
     "text": [
      "True False\n"
     ]
    }
   ],
   "source": [
    "list1 = [True, False, True, True]\n",
    "print (any(list1), all(list1))"
   ]
  },
  {
   "cell_type": "code",
   "execution_count": 77,
   "id": "d4e7bd59-bcc3-499d-a4af-aba59ca34932",
   "metadata": {},
   "outputs": [
    {
     "name": "stdout",
     "output_type": "stream",
     "text": [
      "True True\n"
     ]
    }
   ],
   "source": [
    "list1 = [True, True, True, True]\n",
    "print (any(list1), all(list1))"
   ]
  },
  {
   "cell_type": "code",
   "execution_count": 63,
   "id": "fa906865-06df-455e-80ce-d331f522d225",
   "metadata": {},
   "outputs": [
    {
     "name": "stdout",
     "output_type": "stream",
     "text": [
      "False False\n"
     ]
    }
   ],
   "source": [
    "list1 = [False, False, False, False]\n",
    "print (any(list1), all(list1))"
   ]
  },
  {
   "cell_type": "code",
   "execution_count": 64,
   "id": "89e991d6-b0b0-4760-a363-c4676eafdaf6",
   "metadata": {},
   "outputs": [
    {
     "name": "stdout",
     "output_type": "stream",
     "text": [
      "['Mango', 'Pineapple', 'Coconut', 'Banana', 'Pineapple', 'Coconut', 'Banana', 'Lime']\n",
      "2\n",
      "1\n",
      "4\n"
     ]
    }
   ],
   "source": [
    "list1 = ['Mango', 'Pineapple', 'Coconut', 'Banana', 'Pineapple', 'Coconut', 'Banana', 'Lime']\n",
    "print (list1)\n",
    "print (list1.count('Pineapple'))\n",
    "print (list1.index(\"Pineapple\"))\n",
    "print (list1.index(\"Pineapple\", 2))"
   ]
  },
  {
   "cell_type": "markdown",
   "id": "30056050-def0-4b59-94d7-c6e56bf36da0",
   "metadata": {},
   "source": [
    "### Tuple Processing"
   ]
  },
  {
   "cell_type": "code",
   "execution_count": 65,
   "id": "54a0f358-5c27-4a5c-b0c2-857f36421f7f",
   "metadata": {},
   "outputs": [
    {
     "name": "stdout",
     "output_type": "stream",
     "text": [
      "(100, 400, 300, 200, 700) 8 <class 'tuple'> 1673070939408\n",
      "700 100\n",
      "1700 340.0\n"
     ]
    }
   ],
   "source": [
    "tuple1 = (100, 400, 300, 200, 700)\n",
    "print (tuple1, len(list1), type(tuple1), id(tuple1))\n",
    "print (max(tuple1), min(tuple1))\n",
    "print (sum(tuple1), sum(tuple1) / len(tuple1))"
   ]
  },
  {
   "cell_type": "code",
   "execution_count": 66,
   "id": "a7c3019b-93a4-4923-a4d1-08d9a1bb70e0",
   "metadata": {},
   "outputs": [
    {
     "name": "stdout",
     "output_type": "stream",
     "text": [
      "(100, 400, True, 300, 200, False, 700) 8 <class 'tuple'> 1673070797120\n",
      "700 False\n",
      "1701 243.0\n"
     ]
    }
   ],
   "source": [
    "tuple1 = (100, 400, True, 300, 200, False, 700)\n",
    "print (tuple1, len(list1), type(tuple1), id(tuple1))\n",
    "print (max(tuple1), min(tuple1))\n",
    "print (sum(tuple1), sum(tuple1) / len(tuple1))"
   ]
  },
  {
   "cell_type": "code",
   "execution_count": 68,
   "id": "64c52dae-7ea4-451c-b8c7-65979b7ffb3d",
   "metadata": {},
   "outputs": [
    {
     "name": "stdout",
     "output_type": "stream",
     "text": [
      "('sunday', 'monday', 'friday', 'saturday', 'Tuesday') 8 <class 'tuple'> 1673070771104\n",
      "sunday Tuesday\n"
     ]
    },
    {
     "ename": "TypeError",
     "evalue": "unsupported operand type(s) for +: 'int' and 'str'",
     "output_type": "error",
     "traceback": [
      "\u001b[1;31m---------------------------------------------------------------------------\u001b[0m",
      "\u001b[1;31mTypeError\u001b[0m                                 Traceback (most recent call last)",
      "Cell \u001b[1;32mIn[68], line 4\u001b[0m\n\u001b[0;32m      2\u001b[0m \u001b[38;5;28mprint\u001b[39m (tuple1, \u001b[38;5;28mlen\u001b[39m(list1), \u001b[38;5;28mtype\u001b[39m(tuple1), \u001b[38;5;28mid\u001b[39m(tuple1))\n\u001b[0;32m      3\u001b[0m \u001b[38;5;28mprint\u001b[39m (\u001b[38;5;28mmax\u001b[39m(tuple1), \u001b[38;5;28mmin\u001b[39m(tuple1))\n\u001b[1;32m----> 4\u001b[0m \u001b[38;5;28mprint\u001b[39m (\u001b[38;5;28;43msum\u001b[39;49m\u001b[43m(\u001b[49m\u001b[43mtuple1\u001b[49m\u001b[43m)\u001b[49m, \u001b[38;5;28msum\u001b[39m(tuple1) \u001b[38;5;241m/\u001b[39m \u001b[38;5;28mlen\u001b[39m(tuple1))\n",
      "\u001b[1;31mTypeError\u001b[0m: unsupported operand type(s) for +: 'int' and 'str'"
     ]
    }
   ],
   "source": [
    "tuple1 = (\"sunday\", \"monday\", 'friday', 'saturday', 'Tuesday')\n",
    "print (tuple1, len(list1), type(tuple1), id(tuple1))\n",
    "print (max(tuple1), min(tuple1))\n",
    "print (sum(tuple1), sum(tuple1) / len(tuple1))"
   ]
  },
  {
   "cell_type": "code",
   "execution_count": 67,
   "id": "b362317b-0722-49fa-911f-495ac3eaebf2",
   "metadata": {},
   "outputs": [
    {
     "name": "stdout",
     "output_type": "stream",
     "text": [
      "(100, 400, True, 'Tuesday', 300, 'Wednesday', 200, False, 700) 8 <class 'tuple'> 1673070469568\n"
     ]
    },
    {
     "ename": "TypeError",
     "evalue": "'>' not supported between instances of 'str' and 'int'",
     "output_type": "error",
     "traceback": [
      "\u001b[1;31m---------------------------------------------------------------------------\u001b[0m",
      "\u001b[1;31mTypeError\u001b[0m                                 Traceback (most recent call last)",
      "Cell \u001b[1;32mIn[67], line 3\u001b[0m\n\u001b[0;32m      1\u001b[0m tuple1 \u001b[38;5;241m=\u001b[39m (\u001b[38;5;241m100\u001b[39m, \u001b[38;5;241m400\u001b[39m, \u001b[38;5;28;01mTrue\u001b[39;00m, \u001b[38;5;124m\"\u001b[39m\u001b[38;5;124mTuesday\u001b[39m\u001b[38;5;124m\"\u001b[39m, \u001b[38;5;241m300\u001b[39m, \u001b[38;5;124m\"\u001b[39m\u001b[38;5;124mWednesday\u001b[39m\u001b[38;5;124m\"\u001b[39m, \u001b[38;5;241m200\u001b[39m, \u001b[38;5;28;01mFalse\u001b[39;00m, \u001b[38;5;241m700\u001b[39m)\n\u001b[0;32m      2\u001b[0m \u001b[38;5;28mprint\u001b[39m (tuple1, \u001b[38;5;28mlen\u001b[39m(list1), \u001b[38;5;28mtype\u001b[39m(tuple1), \u001b[38;5;28mid\u001b[39m(tuple1))\n\u001b[1;32m----> 3\u001b[0m \u001b[38;5;28mprint\u001b[39m (\u001b[38;5;28;43mmax\u001b[39;49m\u001b[43m(\u001b[49m\u001b[43mtuple1\u001b[49m\u001b[43m)\u001b[49m, \u001b[38;5;28mmin\u001b[39m(tuple1))\n\u001b[0;32m      4\u001b[0m \u001b[38;5;28mprint\u001b[39m (\u001b[38;5;28msum\u001b[39m(tuple1), \u001b[38;5;28msum\u001b[39m(tuple1) \u001b[38;5;241m/\u001b[39m \u001b[38;5;28mlen\u001b[39m(tuple1))\n",
      "\u001b[1;31mTypeError\u001b[0m: '>' not supported between instances of 'str' and 'int'"
     ]
    }
   ],
   "source": [
    "tuple1 = (100, 400, True, \"Tuesday\", 300, \"Wednesday\", 200, False, 700)\n",
    "print (tuple1, len(list1), type(tuple1), id(tuple1))\n",
    "print (max(tuple1), min(tuple1))\n",
    "print (sum(tuple1), sum(tuple1) / len(tuple1))"
   ]
  },
  {
   "cell_type": "code",
   "execution_count": 69,
   "id": "07c80cac-dcd0-45c7-b29d-ab01288819c8",
   "metadata": {},
   "outputs": [
    {
     "name": "stdout",
     "output_type": "stream",
     "text": [
      "Wednesday Wednesday Thursday Thursday\n",
      "nes nes\n"
     ]
    }
   ],
   "source": [
    "# Indexing and slicing\n",
    "# L ro R ->   0         1          2            3           4\n",
    "tuple1 =    (\"Monday\", \"Tuesday\", \"Wednesday\", \"Thursday\", \"Friday\")\n",
    "# R to L ->  -5        -4         -3           -2          -1\n",
    "print (tuple1[2], tuple1[-3], tuple1[3], tuple1[-2])\n",
    "print (tuple1[2][3:6], tuple1[-3][-6:-3])"
   ]
  },
  {
   "cell_type": "code",
   "execution_count": 70,
   "id": "a7bdf26c-a95a-4db6-8189-fdb0c62c9b8d",
   "metadata": {},
   "outputs": [
    {
     "name": "stdout",
     "output_type": "stream",
     "text": [
      "('Monday', 'Tuesday', 'Wednesday', 'Thursday', 'Friday')\n",
      "('Mango', 'Pineapple', 'Guava', 'Lime')\n",
      "('Monday', 'Tuesday', 'Wednesday', 'Thursday', 'Friday', 'Mango', 'Pineapple', 'Guava', 'Lime')\n",
      "(('Monday', 'Tuesday', 'Wednesday', 'Thursday', 'Friday'), ('Mango', 'Pineapple', 'Guava', 'Lime'))\n"
     ]
    }
   ],
   "source": [
    "tuple1 = (\"Monday\", \"Tuesday\", \"Wednesday\", \"Thursday\", \"Friday\")\n",
    "tuple2 = (\"Mango\", \"Pineapple\", \"Guava\", \"Lime\")\n",
    "print (tuple1)\n",
    "print (tuple2)\n",
    "tuple3 = tuple1 + tuple2      # tuple concatenation\n",
    "print (tuple3)\n",
    "tuple3 = (tuple1, tuple2)     # tuple of tuples\n",
    "print (tuple3)"
   ]
  },
  {
   "cell_type": "code",
   "execution_count": 71,
   "id": "9bb5344b-8767-4025-9289-b9f1ac0320ca",
   "metadata": {},
   "outputs": [
    {
     "name": "stdout",
     "output_type": "stream",
     "text": [
      "10 <class 'int'>\n",
      "(10,) <class 'tuple'>\n"
     ]
    }
   ],
   "source": [
    "var1 = (10)\n",
    "print (var1, type(var1))\n",
    "var1 = (10,)   # singleton representation of a tuple\n",
    "print (var1, type(var1))"
   ]
  },
  {
   "cell_type": "code",
   "execution_count": 73,
   "id": "350426e3-a1c6-419b-ad95-1cfc0e5b5f29",
   "metadata": {},
   "outputs": [
    {
     "name": "stdout",
     "output_type": "stream",
     "text": [
      "('Monday', 'Tuesday', 'Wednesday', 'Thursday', 'Friday') 1673070325856\n",
      "['Monday', 'Tuesday', 'Wednesday', 'Thursday', 'Friday'] 1673071242048\n",
      "['Monday', 'Saturday', 'Wednesday', 'Thursday', 'Friday'] 1673071242048\n",
      "('Monday', 'Saturday', 'Wednesday', 'Thursday', 'Friday') 1673070604944\n"
     ]
    }
   ],
   "source": [
    "# update operation on a tuple\n",
    "tuple1 = (\"Monday\", \"Tuesday\", \"Wednesday\", \"Thursday\", \"Friday\")\n",
    "print (tuple1, id(tuple1))\n",
    "# tuple1[1] = 'Saturday'\n",
    "list1 = list(tuple1)\n",
    "print (list1, id(list1))\n",
    "list1[1] = 'Saturday'\n",
    "print (list1, id(list1))\n",
    "tuple1 = tuple(list1)\n",
    "print (tuple1, id(tuple1))"
   ]
  },
  {
   "cell_type": "code",
   "execution_count": 74,
   "id": "e318c1b1-70bb-4b01-90d5-23a995561ea7",
   "metadata": {},
   "outputs": [
    {
     "name": "stdout",
     "output_type": "stream",
     "text": [
      "('Monday', 'Tuesday', 'Wednesday', 'Thursday', 'Friday') 1673070325856\n",
      "('Friday', 'Monday', 'Thursday', 'Tuesday', 'Wednesday') 1673070604944\n"
     ]
    }
   ],
   "source": [
    "# sorting on a tuple\n",
    "tuple1 = (\"Monday\", \"Tuesday\", \"Wednesday\", \"Thursday\", \"Friday\")\n",
    "print (tuple1, id(tuple1))\n",
    "tuple2 = tuple(sorted(tuple1))\n",
    "print (tuple2, id(tuple2))"
   ]
  },
  {
   "cell_type": "code",
   "execution_count": 75,
   "id": "91ebc332-7ed8-4b48-9d62-23100ac5bd5a",
   "metadata": {},
   "outputs": [
    {
     "name": "stdout",
     "output_type": "stream",
     "text": [
      "True False\n",
      "True True\n",
      "False False\n"
     ]
    }
   ],
   "source": [
    "tuple1 = (True, False, True, True);\n",
    "print (any(tuple1), all(tuple1))\n",
    "\n",
    "tuple1 = (True, True, True, True);\n",
    "print (any(tuple1), all(tuple1))\n",
    "\n",
    "tuple1 = (False, False, False, False);\n",
    "print (any(tuple1), all(tuple1))"
   ]
  },
  {
   "cell_type": "code",
   "execution_count": 78,
   "id": "e6cc77b3-3ba2-4830-9b2f-373f4f68e1b0",
   "metadata": {},
   "outputs": [
    {
     "name": "stdout",
     "output_type": "stream",
     "text": [
      "2\n",
      "0\n"
     ]
    }
   ],
   "source": [
    "tuple1 = ('Mango', 'Pineapple', 'Coconut', 'Banana', 'Pineapple', 'Coconut', 'Banana', 'Lime')\n",
    "print (tuple1.count('Pineapple'))\n",
    "print (tuple1.count('Lemon'))"
   ]
  },
  {
   "cell_type": "code",
   "execution_count": 82,
   "id": "a44c04cc-d83e-4bf1-b3e3-72f287586e2a",
   "metadata": {},
   "outputs": [
    {
     "name": "stdout",
     "output_type": "stream",
     "text": [
      "1\n",
      "1\n",
      "4\n"
     ]
    },
    {
     "ename": "ValueError",
     "evalue": "tuple.index(x): x not in tuple",
     "output_type": "error",
     "traceback": [
      "\u001b[1;31m---------------------------------------------------------------------------\u001b[0m",
      "\u001b[1;31mValueError\u001b[0m                                Traceback (most recent call last)",
      "Cell \u001b[1;32mIn[82], line 5\u001b[0m\n\u001b[0;32m      3\u001b[0m \u001b[38;5;28mprint\u001b[39m (tuple1\u001b[38;5;241m.\u001b[39mindex(\u001b[38;5;124m\"\u001b[39m\u001b[38;5;124mPineapple\u001b[39m\u001b[38;5;124m\"\u001b[39m, \u001b[38;5;241m0\u001b[39m))\n\u001b[0;32m      4\u001b[0m \u001b[38;5;28mprint\u001b[39m (tuple1\u001b[38;5;241m.\u001b[39mindex(\u001b[38;5;124m\"\u001b[39m\u001b[38;5;124mPineapple\u001b[39m\u001b[38;5;124m\"\u001b[39m, \u001b[38;5;241m2\u001b[39m))\n\u001b[1;32m----> 5\u001b[0m \u001b[38;5;28mprint\u001b[39m (\u001b[43mtuple1\u001b[49m\u001b[38;5;241;43m.\u001b[39;49m\u001b[43mindex\u001b[49m\u001b[43m(\u001b[49m\u001b[38;5;124;43m\"\u001b[39;49m\u001b[38;5;124;43mPineapple\u001b[39;49m\u001b[38;5;124;43m\"\u001b[39;49m\u001b[43m,\u001b[49m\u001b[43m \u001b[49m\u001b[38;5;241;43m5\u001b[39;49m\u001b[43m)\u001b[49m)\n",
      "\u001b[1;31mValueError\u001b[0m: tuple.index(x): x not in tuple"
     ]
    }
   ],
   "source": [
    "tuple1 = ('Mango', 'Pineapple', 'Coconut', 'Banana', 'Pineapple', 'Coconut', 'Banana', 'Lime')\n",
    "print (tuple1.index(\"Pineapple\"))\n",
    "print (tuple1.index(\"Pineapple\", 0))\n",
    "print (tuple1.index(\"Pineapple\", 2))\n",
    "print (tuple1.index(\"Pineapple\", 5))"
   ]
  },
  {
   "cell_type": "markdown",
   "id": "5bc82a79-ab9c-4a2b-969c-441df702f37f",
   "metadata": {},
   "source": [
    "### Dictionary Processing"
   ]
  },
  {
   "cell_type": "code",
   "execution_count": 1,
   "id": "2c6cf491-8b56-41ee-8c24-af4cd5cf8d37",
   "metadata": {},
   "outputs": [
    {
     "name": "stdout",
     "output_type": "stream",
     "text": [
      "{'apple': 'red', 'pineapple': 'yellow', 'mango': 'green', 'orange': 'orange', 'lime': 'green'} 5 <class 'dict'> 2586408983360\n",
      "dict_keys(['apple', 'pineapple', 'mango', 'orange', 'lime'])\n",
      "dict_values(['red', 'yellow', 'green', 'orange', 'green'])\n",
      "dict_items([('apple', 'red'), ('pineapple', 'yellow'), ('mango', 'green'), ('orange', 'orange'), ('lime', 'green')])\n"
     ]
    }
   ],
   "source": [
    "dict1 = {\"apple\":\"red\", \"pineapple\":\"yellow\", \"mango\":\"green\", \"orange\":\"orange\", \"lime\":\"green\"}\n",
    "print (dict1, len(dict1), type(dict1), id(dict1))\n",
    "print (dict1.keys())     # returns list of keys\n",
    "print (dict1.values())   # returns list of values\n",
    "print (dict1.items())    # returns list of tuples"
   ]
  },
  {
   "cell_type": "code",
   "execution_count": 2,
   "id": "a55b3fb5-b998-492f-9fb2-a8b603327faf",
   "metadata": {},
   "outputs": [
    {
     "name": "stdout",
     "output_type": "stream",
     "text": [
      "{'apple': 'red', 'pineapple': 'yellow', 'mango': 'red', 'orange': 'orange', 'lime': 'green'} 5 <class 'dict'> 2586408985792\n",
      "dict_keys(['apple', 'pineapple', 'mango', 'orange', 'lime'])\n",
      "dict_values(['red', 'yellow', 'red', 'orange', 'green'])\n",
      "dict_items([('apple', 'red'), ('pineapple', 'yellow'), ('mango', 'red'), ('orange', 'orange'), ('lime', 'green')])\n"
     ]
    }
   ],
   "source": [
    "dict1 = {\"apple\":\"red\", \"pineapple\":\"yellow\", \"mango\":\"green\", \"orange\":\"orange\", \"lime\":\"green\", \"mango\":\"red\"}\n",
    "print (dict1, len(dict1), type(dict1), id(dict1))\n",
    "print (dict1.keys())   # returns list of keys\n",
    "print (dict1.values())   # returns list of values\n",
    "print (dict1.items())   # returns list of tuples"
   ]
  },
  {
   "cell_type": "code",
   "execution_count": 4,
   "id": "394b7883-9293-4e09-9d75-752feca0d0d8",
   "metadata": {},
   "outputs": [
    {
     "name": "stdout",
     "output_type": "stream",
     "text": [
      "green\n",
      "None\n",
      "green\n",
      "Not Available\n"
     ]
    }
   ],
   "source": [
    "dict1 = {\"apple\":\"red\", \"pineapple\":\"yellow\", \"mango\":\"green\", \"orange\":\"orange\"}\n",
    "print (dict1.get('mango'))\n",
    "print (dict1.get('banana'))\n",
    "print (dict1.get('mango', \"Not Available\"))\n",
    "print (dict1.get('banana', \"Not Available\"))"
   ]
  },
  {
   "cell_type": "code",
   "execution_count": 6,
   "id": "f88d7ce3-e570-4664-b6dd-ca5ffb7fc93b",
   "metadata": {},
   "outputs": [
    {
     "name": "stdout",
     "output_type": "stream",
     "text": [
      "red\n",
      "yellow\n"
     ]
    },
    {
     "ename": "KeyError",
     "evalue": "'banana'",
     "output_type": "error",
     "traceback": [
      "\u001b[1;31m---------------------------------------------------------------------------\u001b[0m",
      "\u001b[1;31mKeyError\u001b[0m                                  Traceback (most recent call last)",
      "Cell \u001b[1;32mIn[6], line 4\u001b[0m\n\u001b[0;32m      2\u001b[0m \u001b[38;5;28mprint\u001b[39m (dict1[\u001b[38;5;124m'\u001b[39m\u001b[38;5;124mapple\u001b[39m\u001b[38;5;124m'\u001b[39m])\n\u001b[0;32m      3\u001b[0m \u001b[38;5;28mprint\u001b[39m (dict1[\u001b[38;5;124m'\u001b[39m\u001b[38;5;124mpineapple\u001b[39m\u001b[38;5;124m'\u001b[39m])\n\u001b[1;32m----> 4\u001b[0m \u001b[38;5;28mprint\u001b[39m (\u001b[43mdict1\u001b[49m\u001b[43m[\u001b[49m\u001b[38;5;124;43m'\u001b[39;49m\u001b[38;5;124;43mbanana\u001b[39;49m\u001b[38;5;124;43m'\u001b[39;49m\u001b[43m]\u001b[49m)\n",
      "\u001b[1;31mKeyError\u001b[0m: 'banana'"
     ]
    }
   ],
   "source": [
    "dict1 = {\"apple\":\"red\", \"pineapple\":\"yellow\", \"mango\":\"green\", \"orange\":\"orange\"}\n",
    "print (dict1['apple'])\n",
    "print (dict1['pineapple'])\n",
    "print (dict1['banana'])"
   ]
  },
  {
   "cell_type": "code",
   "execution_count": 8,
   "id": "c22058cb-d6d8-4abc-bc3c-cd1359c4a7aa",
   "metadata": {},
   "outputs": [
    {
     "name": "stdout",
     "output_type": "stream",
     "text": [
      "{'apple': 'red', 'pineapple': 'yellow', 'mango': 'green', 'orange': 'orange'}\n",
      "{'apple': 'red', 'pineapple': 'yellow', 'mango': 'green', 'orange': 'orange', 'banana': 'yellow'}\n",
      "{'apple': 'red', 'pineapple': 'yellow', 'mango': 'green', 'orange': 'orange', 'banana': 'yellow', 'lime': 'green'}\n",
      "{'apple': 'red', 'pineapple': 'yellow', 'mango': 'red', 'orange': 'orange', 'banana': 'yellow', 'lime': 'green'}\n"
     ]
    }
   ],
   "source": [
    "# insert and update operations on a dictionary\n",
    "dict1 = {\"apple\":\"red\", \"pineapple\":\"yellow\", \"mango\":\"green\", \"orange\":\"orange\"}\n",
    "print (dict1)\n",
    "dict1['banana'] = 'yellow'    # insert operation\n",
    "print (dict1)\n",
    "dict1['lime'] = 'green'       # insert operation\n",
    "print (dict1)\n",
    "dict1['mango'] = 'red'        # update operation\n",
    "print (dict1)"
   ]
  },
  {
   "cell_type": "code",
   "execution_count": 10,
   "id": "a5018b7b-7f16-44d1-88cd-0109279473a0",
   "metadata": {},
   "outputs": [
    {
     "name": "stdout",
     "output_type": "stream",
     "text": [
      "{'apple': 'red', 'pineapple': 'yellow', 'mango': 'green', 'orange': 'orange'}\n",
      "{'apple': 'red', 'pineapple': 'yellow', 'mango': 'green', 'orange': 'orange'}\n",
      "{'apple': 'red', 'pineapple': 'yellow', 'mango': 'green', 'orange': 'orange'}\n",
      "{'apple': 'red', 'pineapple': 'yellow', 'mango': 'green', 'orange': 'orange', 'banana': 'yellow'}\n",
      "{'apple': 'red', 'pineapple': 'yellow', 'mango': 'green', 'orange': 'orange', 'banana': 'yellow', 'coconut': 'brown'}\n"
     ]
    }
   ],
   "source": [
    "dict1 = {\"apple\":\"red\", \"pineapple\":\"yellow\", \"mango\":\"green\", \"orange\":\"orange\"}\n",
    "print (dict1)\n",
    "dict1.setdefault(\"apple\", \"deep red\")\n",
    "print (dict1)\n",
    "dict1.setdefault(\"mango\", \"red\")\n",
    "print (dict1)\n",
    "dict1.setdefault(\"banana\", \"yellow\")\n",
    "print (dict1)\n",
    "dict1.setdefault(\"coconut\", \"brown\")\n",
    "print (dict1)"
   ]
  },
  {
   "cell_type": "code",
   "execution_count": 11,
   "id": "96241ddd-8365-473e-9188-64360267c574",
   "metadata": {},
   "outputs": [
    {
     "name": "stdout",
     "output_type": "stream",
     "text": [
      "{'apple': 'red', 'pineapple': 'yellow', 'mango': 'green', 'orange': 'orange'}\n",
      "yellow\n",
      "{'apple': 'red', 'mango': 'green', 'orange': 'orange'}\n",
      "green\n",
      "{'apple': 'red', 'orange': 'orange'}\n"
     ]
    },
    {
     "ename": "KeyError",
     "evalue": "'mango'",
     "output_type": "error",
     "traceback": [
      "\u001b[1;31m---------------------------------------------------------------------------\u001b[0m",
      "\u001b[1;31mKeyError\u001b[0m                                  Traceback (most recent call last)",
      "Cell \u001b[1;32mIn[11], line 8\u001b[0m\n\u001b[0;32m      6\u001b[0m \u001b[38;5;28mprint\u001b[39m (dict1\u001b[38;5;241m.\u001b[39mpop(\u001b[38;5;124m'\u001b[39m\u001b[38;5;124mmango\u001b[39m\u001b[38;5;124m'\u001b[39m))\n\u001b[0;32m      7\u001b[0m \u001b[38;5;28mprint\u001b[39m (dict1)\n\u001b[1;32m----> 8\u001b[0m \u001b[38;5;28mprint\u001b[39m (\u001b[43mdict1\u001b[49m\u001b[38;5;241;43m.\u001b[39;49m\u001b[43mpop\u001b[49m\u001b[43m(\u001b[49m\u001b[38;5;124;43m'\u001b[39;49m\u001b[38;5;124;43mmango\u001b[39;49m\u001b[38;5;124;43m'\u001b[39;49m\u001b[43m)\u001b[49m)\n\u001b[0;32m      9\u001b[0m \u001b[38;5;28mprint\u001b[39m (dict1)\n",
      "\u001b[1;31mKeyError\u001b[0m: 'mango'"
     ]
    }
   ],
   "source": [
    "# delete operation on dictionary\n",
    "dict1 = {\"apple\":\"red\", \"pineapple\":\"yellow\", \"mango\":\"green\", \"orange\":\"orange\"}\n",
    "print (dict1)\n",
    "print (dict1.pop('pineapple'))\n",
    "print (dict1)\n",
    "print (dict1.pop('mango'))\n",
    "print (dict1)\n",
    "print (dict1.pop('mango'))\n",
    "print (dict1)"
   ]
  },
  {
   "cell_type": "code",
   "execution_count": 12,
   "id": "c32d0e8c-0dcf-4c9f-a9fb-cb21c4bf99b1",
   "metadata": {},
   "outputs": [
    {
     "name": "stdout",
     "output_type": "stream",
     "text": [
      "{'apple': 'red', 'pineapple': 'yellow', 'mango': 'green', 'orange': 'orange'}\n",
      "('orange', 'orange')\n",
      "{'apple': 'red', 'pineapple': 'yellow', 'mango': 'green'}\n",
      "('mango', 'green')\n",
      "{'apple': 'red', 'pineapple': 'yellow'}\n",
      "('pineapple', 'yellow')\n",
      "{'apple': 'red'}\n",
      "('apple', 'red')\n",
      "{}\n"
     ]
    }
   ],
   "source": [
    "dict1 = {\"apple\":\"red\", \"pineapple\":\"yellow\", \"mango\":\"green\", \"orange\":\"orange\"}\n",
    "print (dict1)\n",
    "print (dict1.popitem())\n",
    "print (dict1)\n",
    "print (dict1.popitem())\n",
    "print (dict1)\n",
    "print (dict1.popitem())\n",
    "print (dict1)\n",
    "print (dict1.popitem())\n",
    "print (dict1)"
   ]
  },
  {
   "cell_type": "code",
   "execution_count": 13,
   "id": "fc0e3c7e-687b-423d-b9a3-cb941fd475ca",
   "metadata": {},
   "outputs": [
    {
     "name": "stdout",
     "output_type": "stream",
     "text": [
      "{'apple': 'red', 'pineapple': 'yellow', 'mango': 'green', 'orange': 'orange'}\n",
      "{}\n"
     ]
    }
   ],
   "source": [
    "dict1 = {\"apple\":\"red\", \"pineapple\":\"yellow\", \"mango\":\"green\", \"orange\":\"orange\"}\n",
    "print (dict1)\n",
    "dict1.clear()\n",
    "print (dict1)"
   ]
  },
  {
   "cell_type": "code",
   "execution_count": 21,
   "id": "4e7b0bea-1767-4d64-8a02-472d625676f8",
   "metadata": {},
   "outputs": [
    {
     "name": "stdout",
     "output_type": "stream",
     "text": [
      "{'apple': 'red', 'pineapple': 'yellow', 'mango': 'green', 'orange': 'orange'}\n"
     ]
    },
    {
     "ename": "NameError",
     "evalue": "name 'dict1' is not defined",
     "output_type": "error",
     "traceback": [
      "\u001b[1;31m---------------------------------------------------------------------------\u001b[0m",
      "\u001b[1;31mNameError\u001b[0m                                 Traceback (most recent call last)",
      "Cell \u001b[1;32mIn[21], line 4\u001b[0m\n\u001b[0;32m      2\u001b[0m \u001b[38;5;28mprint\u001b[39m (dict1)\n\u001b[0;32m      3\u001b[0m \u001b[38;5;28;01mdel\u001b[39;00m dict1\n\u001b[1;32m----> 4\u001b[0m \u001b[38;5;28mprint\u001b[39m (\u001b[43mdict1\u001b[49m)\n",
      "\u001b[1;31mNameError\u001b[0m: name 'dict1' is not defined"
     ]
    }
   ],
   "source": [
    "dict1 = {\"apple\":\"red\", \"pineapple\":\"yellow\", \"mango\":\"green\", \"orange\":\"orange\"}\n",
    "print (dict1)\n",
    "del dict1\n",
    "print (dict1)"
   ]
  },
  {
   "cell_type": "code",
   "execution_count": 20,
   "id": "e1491c58-e93f-4569-827d-2321f4f2c796",
   "metadata": {},
   "outputs": [
    {
     "name": "stdout",
     "output_type": "stream",
     "text": [
      "[] 0 <class 'list'> 2586440877696\n",
      "() 0 <class 'tuple'> 2586322092144\n",
      "{} 0 <class 'dict'> 2586437666624\n",
      "set() 0 <class 'set'> 2586437486400\n",
      "frozenset() 0 <class 'frozenset'> 2586439742880\n"
     ]
    }
   ],
   "source": [
    "# empty collections\n",
    "var1 = []\n",
    "print (var1, len(var1), type(var1), id(var1))\n",
    "var1 = ()\n",
    "print (var1, len(var1), type(var1), id(var1))\n",
    "var1 = {}\n",
    "print (var1, len(var1), type(var1), id(var1))\n",
    "var1 = set()\n",
    "print (var1, len(var1), type(var1), id(var1))\n",
    "var1 = frozenset()\n",
    "print (var1, len(var1), type(var1), id(var1))"
   ]
  },
  {
   "cell_type": "code",
   "execution_count": 22,
   "id": "6ccc9798-a0d4-4830-a636-188992597b8e",
   "metadata": {},
   "outputs": [
    {
     "name": "stdout",
     "output_type": "stream",
     "text": [
      "{'apple': 'red', 'pineapple': 'yellow'} 2\n",
      "{'mango': 'green', 'orange': 'orange', 'lime': 'green'} 3\n",
      "{'apple': 'red', 'pineapple': 'yellow', 'mango': 'green', 'orange': 'orange', 'lime': 'green'} 5\n",
      "{'mango': 'green', 'orange': 'orange', 'lime': 'green'} 3\n"
     ]
    }
   ],
   "source": [
    "# concatenation of dictionaries\n",
    "fruits1 = {\"apple\":\"red\", \"pineapple\":\"yellow\"}\n",
    "fruits2 = {\"mango\":\"green\", \"orange\":\"orange\", \"lime\":\"green\"}\n",
    "print (fruits1, len(fruits1))\n",
    "print (fruits2, len(fruits2))\n",
    "fruits1.update(fruits2)\n",
    "print (fruits1, len(fruits1))\n",
    "print (fruits2, len(fruits2))"
   ]
  },
  {
   "cell_type": "code",
   "execution_count": 24,
   "id": "621253b8-71b0-4ade-9cfd-15fcbc70ae48",
   "metadata": {},
   "outputs": [
    {
     "name": "stdout",
     "output_type": "stream",
     "text": [
      "{'mango': 900, 'pineapple': 900, 'cherry': 900, 'lime': 900} 4 <class 'dict'> 2586441504832\n"
     ]
    }
   ],
   "source": [
    "mykeys = [\"mango\", 'pineapple', \"cherry\", \"lime\"]\n",
    "price = 900\n",
    "dict1 = dict.fromkeys(mykeys, price)\n",
    "print (dict1, len(dict1), type(dict1), id(dict1))"
   ]
  },
  {
   "cell_type": "code",
   "execution_count": 25,
   "id": "83be15a1-c0a3-4c63-83e2-353901d79bb0",
   "metadata": {},
   "outputs": [
    {
     "name": "stdout",
     "output_type": "stream",
     "text": [
      "<zip object at 0x0000025A33F78E00>\n",
      "[('mango', 100), ('pineapple', 300), ('cherry', 500), ('lime', 200), ('banana', 700)]\n",
      "(('mango', 100), ('pineapple', 300), ('cherry', 500), ('lime', 200), ('banana', 700))\n",
      "{'mango': 100, 'pineapple': 300, 'cherry': 500, 'lime': 200, 'banana': 700}\n",
      "{'mango': 100, 'pineapple': 300, 'cherry': 500, 'lime': 200, 'banana': 700}\n",
      "{'mango': 100, 'pineapple': 300, 'cherry': 500, 'lime': 200, 'banana': 700}\n"
     ]
    }
   ],
   "source": [
    "fruits = [\"mango\", 'pineapple', \"cherry\", \"lime\", \"banana\"]\n",
    "prices = [100, 300, 500, 200, 700, 900]\n",
    "print (zip(fruits, prices))\n",
    "print (list(zip(fruits, prices)))\n",
    "print (tuple(zip(fruits, prices)))\n",
    "print (dict(zip(fruits, prices)))\n",
    "print (dict(list(zip(fruits, prices))))\n",
    "print (dict(tuple(zip(fruits, prices))))"
   ]
  },
  {
   "cell_type": "code",
   "execution_count": 28,
   "id": "3ce89e79-28ce-40cb-a9f2-c80369f158d6",
   "metadata": {},
   "outputs": [
    {
     "name": "stdout",
     "output_type": "stream",
     "text": [
      "March\n",
      "October\n",
      "December\n",
      "Invalid Month No.\n"
     ]
    }
   ],
   "source": [
    "def switch_case_demo(month_no):\n",
    "    switcher = {1:\"January\",\n",
    "                2:\"February\",\n",
    "                3:\"March\",\n",
    "                4:\"April\",\n",
    "                5:\"May\",\n",
    "                6:\"June\",\n",
    "                7:\"July\",\n",
    "                8:\"August\",\n",
    "                9:\"September\",\n",
    "                10:\"October\",\n",
    "                11:\"November\",\n",
    "                12:\"December\"}\n",
    "    return switcher.get(month_no, \"Invalid Month No.\")\n",
    "\n",
    "print (switch_case_demo(3))\n",
    "print (switch_case_demo(10))\n",
    "print (switch_case_demo(12))\n",
    "print (switch_case_demo(13))"
   ]
  },
  {
   "cell_type": "code",
   "execution_count": 31,
   "id": "9e972a13-c076-4dc7-ac5b-cc9afa2f7ee7",
   "metadata": {},
   "outputs": [
    {
     "name": "stdout",
     "output_type": "stream",
     "text": [
      "dict1: {'apple': 'red', 'pineapple': 'yellow', 'mango': 'green', 'orange': 'orange'} 2586442182656\n",
      "dict2: {'apple': 'red', 'pineapple': 'yellow', 'mango': 'green', 'orange': 'orange'} 2586442104384\n",
      "dict1: {'apple': 'red', 'pineapple': 'yellow', 'mango': 'red', 'orange': 'orange'} 2586442182656\n",
      "dict2: {'apple': 'red', 'pineapple': 'yellow', 'mango': 'green', 'orange': 'orange'} 2586442104384\n"
     ]
    }
   ],
   "source": [
    "dict1 = {\"apple\":\"red\", \"pineapple\":\"yellow\", \"mango\":\"green\", \"orange\":\"orange\"}\n",
    "print (\"dict1:\", dict1, id(dict1))\n",
    "dict2 = dict1.copy()\n",
    "print (\"dict2:\", dict2, id(dict2))\n",
    "dict1['mango'] = \"red\"\n",
    "print (\"dict1:\", dict1, id(dict1))\n",
    "print (\"dict2:\", dict2, id(dict2))"
   ]
  },
  {
   "cell_type": "markdown",
   "id": "e5a79613-526e-494f-824d-7ad74b92eea4",
   "metadata": {},
   "source": [
    "### Set Processing"
   ]
  },
  {
   "attachments": {
    "SetOperations.png": {
     "image/png": "[encoded data removed]"
    }
   },
   "cell_type": "markdown",
   "id": "57ff40d2",
   "metadata": {},
   "source": [
    "![SetOperations.png](attachment:SetOperations.png)"
   ]
  },
  {
   "cell_type": "code",
   "execution_count": 32,
   "id": "5c30f5e9-5596-443d-b0cf-0978845a05c1",
   "metadata": {},
   "outputs": [
    {
     "name": "stdout",
     "output_type": "stream",
     "text": [
      "['Amitava', True, 38.5, 70000, 'Chennai', True, 38.5, 70000, 'Chennai', True, 38.5, 70000, 'Chennai', True, 38.5]\n",
      "{True, 38.5, 70000, 'Amitava', 'Chennai'}\n",
      "('Amitava', True, 38.5, 70000, 'Chennai', True, 38.5, 70000, 'Chennai', True, 38.5, 70000, 'Chennai', True, 38.5)\n",
      "{True, 38.5, 70000, 'Amitava', 'Chennai'}\n",
      "{70000, True, 38.5, 'Amitava', 'Chennai'}\n"
     ]
    }
   ],
   "source": [
    "# forming a set from a list\n",
    "list1 = ['Amitava', True, 38.5, 70000, \"Chennai\", True, 38.5, 70000, \"Chennai\", True, 38.5,\n",
    "         70000, \"Chennai\", True, 38.5]\n",
    "print (list1)\n",
    "set1 = set(list1)\n",
    "print (set1)\n",
    "\n",
    "# forming a set from a tuple\n",
    "tuple1 = ('Amitava', True, 38.5, 70000, \"Chennai\", True, 38.5, 70000, \"Chennai\", True, 38.5,\n",
    "          70000, \"Chennai\", True, 38.5)\n",
    "print (tuple1)\n",
    "set1 = set(tuple1)\n",
    "print (set1)\n",
    "\n",
    "# forming a set directly\n",
    "set1 = {'Amitava', True, 38.5, 70000, \"Chennai\", True, 38.5, 70000, \"Chennai\", True, 38.5,\n",
    "        70000, \"Chennai\", True, 38.5}\n",
    "print (set1)"
   ]
  },
  {
   "cell_type": "code",
   "execution_count": 34,
   "id": "f7a6c974-eda6-41d0-8a4b-b0d0e52d82a7",
   "metadata": {},
   "outputs": [
    {
     "name": "stdout",
     "output_type": "stream",
     "text": [
      "{'python', 'cobra', 'viper'}\n",
      "{'python', 'c++', 'java'}\n",
      "{'c++', 'cobra', 'java', 'python', 'viper'}\n",
      "{'c++', 'cobra', 'java', 'python', 'viper'}\n"
     ]
    }
   ],
   "source": [
    "# set operations: union, intersection, set difference, symmetric difference\n",
    "snakes = {'viper', 'python', 'cobra'}\n",
    "languages = {'java', 'c++', 'python'}\n",
    "print (snakes)\n",
    "print (languages)\n",
    "result = snakes.union(languages)\n",
    "print (result)\n",
    "result = snakes | languages\n",
    "print (result)"
   ]
  },
  {
   "cell_type": "code",
   "execution_count": 35,
   "id": "92ee5f09-3111-45ad-8626-6b79d9ef8641",
   "metadata": {},
   "outputs": [
    {
     "name": "stdout",
     "output_type": "stream",
     "text": [
      "{'python', 'cobra', 'viper'}\n",
      "{'python', 'c++', 'java'}\n",
      "{'python'}\n",
      "{'python'}\n",
      "{'python'}\n",
      "{'python', 'c++', 'java'}\n"
     ]
    }
   ],
   "source": [
    "snakes = {'viper', 'python', 'cobra'}\n",
    "languages = {'java', 'c++', 'python'}\n",
    "print (snakes)\n",
    "print (languages)\n",
    "result = snakes.intersection(languages)\n",
    "print (result)\n",
    "result = snakes & languages\n",
    "print (result)\n",
    "snakes.intersection_update(languages)\n",
    "print (snakes)\n",
    "print (languages)"
   ]
  },
  {
   "cell_type": "code",
   "execution_count": 36,
   "id": "6860def9-62f1-4210-a7d1-5dda07e54fc3",
   "metadata": {},
   "outputs": [
    {
     "name": "stdout",
     "output_type": "stream",
     "text": [
      "{'python', 'cobra', 'viper'}\n",
      "{'python', 'c++', 'java'}\n",
      "{'viper', 'cobra'}\n",
      "{'viper', 'cobra'}\n",
      "{'cobra', 'viper'}\n",
      "{'python', 'c++', 'java'}\n"
     ]
    }
   ],
   "source": [
    "snakes = {'viper', 'python', 'cobra'}\n",
    "languages = {'java', 'c++', 'python'}\n",
    "print (snakes)\n",
    "print (languages)\n",
    "result = snakes.difference(languages)\n",
    "print (result)\n",
    "result = snakes - languages\n",
    "print (result)\n",
    "snakes.difference_update(languages)\n",
    "print (snakes)\n",
    "print (languages)"
   ]
  },
  {
   "cell_type": "code",
   "execution_count": 37,
   "id": "16c9c02b-ed7f-4b86-ae52-97b9b642325c",
   "metadata": {},
   "outputs": [
    {
     "name": "stdout",
     "output_type": "stream",
     "text": [
      "{'python', 'cobra', 'viper'}\n",
      "{'python', 'c++', 'java'}\n",
      "{'viper', 'c++', 'cobra', 'java'}\n",
      "{'viper', 'c++', 'cobra', 'java'}\n",
      "{'c++', 'cobra', 'java', 'viper'}\n",
      "{'python', 'c++', 'java'}\n"
     ]
    }
   ],
   "source": [
    "snakes = {'viper', 'python', 'cobra'}\n",
    "languages = {'java', 'c++', 'python'}\n",
    "print (snakes)\n",
    "print (languages)\n",
    "result = snakes.symmetric_difference(languages)\n",
    "print (result)\n",
    "result = snakes ^ languages\n",
    "print (result)\n",
    "snakes.symmetric_difference_update(languages)\n",
    "print (snakes)\n",
    "print (languages)"
   ]
  },
  {
   "cell_type": "code",
   "execution_count": 38,
   "id": "c9677ead-58b7-47f5-9c41-df0d8f9991f2",
   "metadata": {},
   "outputs": [
    {
     "name": "stdout",
     "output_type": "stream",
     "text": [
      "False True False\n",
      "False False True\n",
      "True False False\n"
     ]
    }
   ],
   "source": [
    "set1 = {100, 200, 300}\n",
    "set2 = {400, 500, 600, 700, 800}\n",
    "set3 = {600, 700, 800}\n",
    "print (set1.issuperset(set2), set2.issuperset(set3), set3.issuperset(set2))\n",
    "print (set1.issubset(set2), set2.issubset(set3), set3.issubset(set2))\n",
    "print (set1.isdisjoint(set2), set2.isdisjoint(set3), set3.isdisjoint(set2))"
   ]
  },
  {
   "cell_type": "code",
   "execution_count": 39,
   "id": "e6cf896f-8ce5-42b6-9f3e-d67567ccf243",
   "metadata": {},
   "outputs": [
    {
     "name": "stdout",
     "output_type": "stream",
     "text": [
      "{200, 100, 300} 2586444190816 {200, 100, 300} 2586444164768\n",
      "{200, 100, 300} 2586444190816 {100, 300} 2586444164768\n"
     ]
    }
   ],
   "source": [
    "set1 = {100, 200, 300}\n",
    "set2 = set1.copy()\n",
    "print (set1, id(set1), set2, id(set2))\n",
    "set2.pop()\n",
    "print (set1, id(set1), set2, id(set2))"
   ]
  },
  {
   "cell_type": "code",
   "execution_count": 40,
   "id": "372cbca7-2ddc-4f96-a9bc-ee627a6ca304",
   "metadata": {},
   "outputs": [
    {
     "name": "stdout",
     "output_type": "stream",
     "text": [
      "{200, 100, 300}\n",
      "{200, 100, 400, 300}\n"
     ]
    }
   ],
   "source": [
    "# insert operation on a set\n",
    "set1 = {100, 200, 300}\n",
    "print (set1)\n",
    "set1.add(400)\n",
    "print (set1)"
   ]
  },
  {
   "cell_type": "code",
   "execution_count": 43,
   "id": "b516553f-7342-4dd4-a97f-a29f3cab5657",
   "metadata": {},
   "outputs": [
    {
     "name": "stdout",
     "output_type": "stream",
     "text": [
      "{400, 700, 100, 500, 200, 600, 300}\n",
      "{400, 700, 100, 500, 200, 600}\n",
      "{400, 700, 100, 500, 200, 600}\n",
      "400\n",
      "{700, 100, 500, 200, 600}\n",
      "set()\n"
     ]
    },
    {
     "ename": "NameError",
     "evalue": "name 'set1' is not defined",
     "output_type": "error",
     "traceback": [
      "\u001b[1;31m---------------------------------------------------------------------------\u001b[0m",
      "\u001b[1;31mNameError\u001b[0m                                 Traceback (most recent call last)",
      "Cell \u001b[1;32mIn[43], line 13\u001b[0m\n\u001b[0;32m     11\u001b[0m \u001b[38;5;28mprint\u001b[39m (set1)\n\u001b[0;32m     12\u001b[0m \u001b[38;5;28;01mdel\u001b[39;00m set1\n\u001b[1;32m---> 13\u001b[0m \u001b[38;5;28mprint\u001b[39m (\u001b[43mset1\u001b[49m)\n",
      "\u001b[1;31mNameError\u001b[0m: name 'set1' is not defined"
     ]
    }
   ],
   "source": [
    "# delete operation on a set\n",
    "set1 = {100, 200, 300, 600, 700, 500, 400}\n",
    "print (set1)\n",
    "set1.remove(300)\n",
    "print (set1)\n",
    "set1.discard(300)\n",
    "print (set1)\n",
    "print (set1.pop())\n",
    "print (set1)\n",
    "set1.clear()\n",
    "print (set1)\n",
    "del set1\n",
    "print (set1)"
   ]
  },
  {
   "cell_type": "code",
   "execution_count": 44,
   "id": "d68e529e-72d7-4986-8255-ee1f4553bb76",
   "metadata": {},
   "outputs": [
    {
     "name": "stdout",
     "output_type": "stream",
     "text": [
      "{400, 700, 100, 500, 200, 600, 300}\n",
      "{400, 700, 100, 500, 200, 300}\n",
      "{400, 1600, 700, 100, 500, 200, 300}\n"
     ]
    }
   ],
   "source": [
    "# update operation on a set\n",
    "set1 = {100, 200, 300, 600, 700, 500, 400}\n",
    "print (set1)\n",
    "set1.remove(600)   # deleting the item\n",
    "print (set1)\n",
    "set1.add(1600)   # inserting the item\n",
    "print (set1)"
   ]
  },
  {
   "cell_type": "code",
   "execution_count": 45,
   "id": "312f1622-3017-47f2-a22b-1a9cd229c252",
   "metadata": {},
   "outputs": [
    {
     "name": "stdout",
     "output_type": "stream",
     "text": [
      "{200, 100, 300}\n",
      "{400, 700, 500, 600, 300}\n",
      "{100, 200, 300, 400, 500, 600, 700}\n",
      "{400, 700, 500, 600, 300}\n"
     ]
    }
   ],
   "source": [
    "# concatenating two sets\n",
    "set1 = {100, 200, 300}\n",
    "set2 = {300, 600, 700, 500, 400}\n",
    "print (set1)\n",
    "print (set2)\n",
    "set1.update(set2)\n",
    "print (set1)\n",
    "print (set2)"
   ]
  },
  {
   "cell_type": "markdown",
   "id": "d8fa8c6f-114a-4d0a-b6e9-bc1e69c974af",
   "metadata": {},
   "source": [
    "### Frozenset Processing"
   ]
  },
  {
   "cell_type": "code",
   "execution_count": 47,
   "id": "c6550ac9-99df-4f2d-8e52-85d369aa68b9",
   "metadata": {},
   "outputs": [
    {
     "name": "stdout",
     "output_type": "stream",
     "text": [
      "frozenset({True, 38.5, 70000, 'Amitava', 'Chennai'})\n",
      "frozenset({True, 38.5, 70000, 'Amitava', 'Chennai'})\n",
      "frozenset({70000, True, 38.5, 'Amitava', 'Chennai'})\n"
     ]
    }
   ],
   "source": [
    "# forming a frozen set from a list\n",
    "list1 = ['Amitava', True, 38.5, 70000, \"Chennai\", True, 38.5, 70000, \"Chennai\", True, 38.5,\n",
    "         70000, \"Chennai\", True, 38.5]\n",
    "set1 = frozenset(list1)\n",
    "print (set1)\n",
    "\n",
    "# forming a frozen set from a tuple\n",
    "tuple1 = ('Amitava', True, 38.5, 70000, \"Chennai\", True, 38.5, 70000, \"Chennai\", True, 38.5,\n",
    "          70000, \"Chennai\", True, 38.5)\n",
    "set1 = frozenset(tuple1)\n",
    "print (set1)\n",
    "\n",
    "# forming a frozen set from a set\n",
    "myset = {'Amitava', True, 38.5, 70000, \"Chennai\", True, 38.5, 70000, \"Chennai\", True, 38.5,\n",
    "         \"Chennai\", True, 38.5}\n",
    "set1 = frozenset(myset)\n",
    "print (set1)"
   ]
  },
  {
   "cell_type": "code",
   "execution_count": 48,
   "id": "7f339c5f-4a31-49b5-aff4-abe6fd27be48",
   "metadata": {},
   "outputs": [
    {
     "name": "stdout",
     "output_type": "stream",
     "text": [
      "frozenset({'c++', 'cobra', 'java', 'python', 'viper'})\n",
      "frozenset({'c++', 'cobra', 'java', 'python', 'viper'})\n",
      "frozenset({'python'})\n",
      "frozenset({'python'})\n",
      "frozenset({'viper', 'cobra'})\n",
      "frozenset({'viper', 'cobra'})\n",
      "frozenset({'viper', 'c++', 'cobra', 'java'})\n",
      "frozenset({'viper', 'c++', 'cobra', 'java'})\n"
     ]
    }
   ],
   "source": [
    "# frozen-set operations: union, intersection, difference, symmetric difference\n",
    "snakes = frozenset({'viper', 'python', 'cobra'})\n",
    "languages = frozenset({'java', 'c++', 'python'})\n",
    "result = snakes.union(languages)\n",
    "print (result)\n",
    "result = snakes | languages\n",
    "print (result)\n",
    "result = snakes.intersection(languages)\n",
    "print (result)\n",
    "result = snakes & languages\n",
    "print (result)\n",
    "result = snakes.difference(languages)\n",
    "print (result)\n",
    "result = snakes - languages\n",
    "print (result)\n",
    "result = snakes.symmetric_difference(languages)\n",
    "print (result)\n",
    "result = snakes ^ languages\n",
    "print (result)"
   ]
  },
  {
   "cell_type": "code",
   "execution_count": 49,
   "id": "8fb2df19-e108-4290-bc72-7c5f7f68a241",
   "metadata": {},
   "outputs": [
    {
     "name": "stdout",
     "output_type": "stream",
     "text": [
      "False True False\n",
      "False False True\n",
      "True False False\n"
     ]
    }
   ],
   "source": [
    "set1 = frozenset({100, 200, 300})\n",
    "set2 = frozenset({400, 500, 600, 700, 800})\n",
    "set3 = frozenset({600, 700, 800})\n",
    "print (set1.issuperset(set2), set2.issuperset(set3), set3.issuperset(set2))\n",
    "print (set1.issubset(set2), set2.issubset(set3), set3.issubset(set2))\n",
    "print (set1.isdisjoint(set2), set2.isdisjoint(set3), set3.isdisjoint(set2))"
   ]
  },
  {
   "cell_type": "code",
   "execution_count": 50,
   "id": "0ede816d-1861-44c1-88ea-94645be83550",
   "metadata": {},
   "outputs": [
    {
     "name": "stdout",
     "output_type": "stream",
     "text": [
      "frozenset({200, 100, 300}) 2586444198432 frozenset({200, 100, 300}) 2586444198432\n"
     ]
    }
   ],
   "source": [
    "set1 = frozenset({100, 200, 300})\n",
    "set2 = set1.copy()\n",
    "print (set1, id(set1), set2, id(set2))"
   ]
  },
  {
   "cell_type": "code",
   "execution_count": null,
   "id": "088f5ca1-e9f0-47d7-84f1-a60678db1ac7",
   "metadata": {},
   "outputs": [],
   "source": []
  }
 ],
 "metadata": {
  "kernelspec": {
   "display_name": "Python 3 (ipykernel)",
   "language": "python",
   "name": "python3"
  },
  "language_info": {
   "codemirror_mode": {
    "name": "ipython",
    "version": 3
   },
   "file_extension": ".py",
   "mimetype": "text/x-python",
   "name": "python",
   "nbconvert_exporter": "python",
   "pygments_lexer": "ipython3",
   "version": "3.10.9"
  }
 },
 "nbformat": 4,
 "nbformat_minor": 5
}
