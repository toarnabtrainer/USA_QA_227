{
 "cells": [
  {
   "cell_type": "markdown",
   "id": "d555f0e4-dba9-4eb3-b8c6-c52f266987f0",
   "metadata": {},
   "source": [
    "## **Intriduction to Python Script**"
   ]
  },
  {
   "cell_type": "markdown",
   "id": "f2a30dfc-20ed-4442-a144-7054f97fb03e",
   "metadata": {},
   "source": [
    "### Comment Line and Block Comment"
   ]
  },
  {
   "cell_type": "code",
   "execution_count": null,
   "id": "c87f7563-7438-43e4-a96e-c7a420930b8d",
   "metadata": {},
   "outputs": [],
   "source": [
    "# This is a comment line\n",
    "# This is another comment line\n",
    "# this is the last comment line"
   ]
  },
  {
   "cell_type": "markdown",
   "id": "bce1fcbe-868c-4e32-bb2b-48b260754b36",
   "metadata": {},
   "source": [
    "### Input and Output in Python"
   ]
  },
  {
   "cell_type": "code",
   "execution_count": 2,
   "id": "546da56b-7798-44fb-824a-70cda53bcf36",
   "metadata": {},
   "outputs": [
    {
     "name": "stdin",
     "output_type": "stream",
     "text": [
      "Please enter the first number:  111\n",
      "Please enter the second number:  222\n"
     ]
    },
    {
     "name": "stdout",
     "output_type": "stream",
     "text": [
      "Input numbers are 111 and 222\n"
     ]
    }
   ],
   "source": [
    "num1 = input(\"Please enter the first number: \")\n",
    "num2 = input(\"Please enter the second number: \")\n",
    "print (\"Input numbers are\", num1, \"and\", num2)"
   ]
  },
  {
   "cell_type": "code",
   "execution_count": 10,
   "id": "7d50a524-bb20-4e0c-b547-56abd1efa43d",
   "metadata": {},
   "outputs": [
    {
     "name": "stdin",
     "output_type": "stream",
     "text": [
      "Please enter the first number:  200\n",
      "Please enter the second number:  300\n"
     ]
    },
    {
     "name": "stdout",
     "output_type": "stream",
     "text": [
      "200 <class 'str'> 300 <class 'str'>\n",
      "200300\n"
     ]
    }
   ],
   "source": [
    "num1 = input(\"Please enter the first number: \")\n",
    "num2 = input(\"Please enter the second number: \")\n",
    "print (num1, type(num1), num2, type(num2))\n",
    "total = num1 + num2    # string concatenation\n",
    "print (total)"
   ]
  },
  {
   "cell_type": "code",
   "execution_count": 12,
   "id": "063f8f3a-c837-4af0-a305-78442f20e65f",
   "metadata": {},
   "outputs": [
    {
     "name": "stdin",
     "output_type": "stream",
     "text": [
      "Please enter the first number:  200\n",
      "Please enter the second number:  300\n"
     ]
    },
    {
     "name": "stdout",
     "output_type": "stream",
     "text": [
      "200 <class 'int'> 300 <class 'int'>\n",
      "500\n"
     ]
    }
   ],
   "source": [
    "num1 = int(input(\"Please enter the first number: \"))\n",
    "num2 = int(input(\"Please enter the second number: \"))\n",
    "print (num1, type(num1), num2, type(num2))\n",
    "total = num1 + num2    # algebraic addition\n",
    "print (total)"
   ]
  },
  {
   "cell_type": "code",
   "execution_count": 24,
   "id": "646d1c82-b1bf-4384-93f5-d914c3099059",
   "metadata": {},
   "outputs": [
    {
     "name": "stdout",
     "output_type": "stream",
     "text": [
      "So 200 + 300 = 500\n",
      "So 200 + 300 = 500\n",
      "So 200 + 300 = 500\n",
      "So 200 + 300 = 500\n",
      "So 200 + 300 = 500\n",
      "So 200 + 300 = 500\n",
      "So 200 + 300 = 500\n",
      "So 200 + 300 = 500\n",
      "So 200 + 300.000000 = 500\n",
      "So 200 +   300.00 = 500\n",
      "So 200 + 300 = 500\n"
     ]
    }
   ],
   "source": [
    "print (\"So\", num1, \"+\", num2, \"=\", total)\n",
    "print (\"So \" + str(num1) + \" + \" + str(num2) + \" = \" + str(total))\n",
    "print (\"So {} + {} = {}\".format(num1, num2, total))   # {} stands for statement placeholder\n",
    "print (\"So {0} + {1} = {2}\".format(num1, num2, total))    # variable placeholder\n",
    "print (\"So {2} + {1} = {0}\".format(total, num2, num1))    # indexed placeholder\n",
    "print (\"So {fnum} + {snum} = {tot}\".format(fnum = num1, snum = num2, tot = total))    # labelled placeholder\n",
    "print (\"So {fnum} + {snum} = {tot}\".format(tot = total, fnum = num1, snum = num2))    # labelled placeholder\n",
    "print (\"So %d + %d = %d\"%(num1, num2, total))\n",
    "print (\"So %d + %f = %d\"%(num1, num2, total))\n",
    "print (\"So %d + %8.2f = %d\"%(num1, num2, total))\n",
    "print (f\"So {num1} + {num2} = {total}\")   # f stands for smart formatting"
   ]
  },
  {
   "cell_type": "markdown",
   "id": "e73253e0-8e92-477e-a6f4-88f86c2bfea7",
   "metadata": {},
   "source": [
    "### Python Operators"
   ]
  },
  {
   "cell_type": "code",
   "execution_count": 25,
   "id": "98c2baed-fdd9-478f-8a41-3e8ede9bfc1b",
   "metadata": {},
   "outputs": [
    {
     "name": "stdout",
     "output_type": "stream",
     "text": [
      "140\n",
      "60\n",
      "4000\n",
      "2.5\n",
      "2\n",
      "20\n",
      "100000000\n"
     ]
    }
   ],
   "source": [
    "# arithmetic operators: + - * / // % **\n",
    "print (100 + 40)\n",
    "print (100 - 40)\n",
    "print (100 * 40)\n",
    "print (100 / 40)   # float division\n",
    "print (100 // 40)  # integer division\n",
    "print (100 % 40)   # remainder of the division\n",
    "print (100 ** 4)   # exponentiation"
   ]
  },
  {
   "cell_type": "code",
   "execution_count": 27,
   "id": "3a3b5ce3-41d3-431f-8b53-c10bdd4c7e8c",
   "metadata": {},
   "outputs": [
    {
     "name": "stdout",
     "output_type": "stream",
     "text": [
      "True True False True\n",
      "False False\n"
     ]
    }
   ],
   "source": [
    "# relational operators: > >= < <= == !=\n",
    "print (100 > 20, 100 >= 20, 100 == 20, 100 != 20)\n",
    "print (100 < 20, 100 <= 20)"
   ]
  },
  {
   "cell_type": "code",
   "execution_count": 30,
   "id": "92a6462d-7746-4091-9194-c2a2c83775f1",
   "metadata": {},
   "outputs": [
    {
     "name": "stdout",
     "output_type": "stream",
     "text": [
      "True True True False\n",
      "True False False False\n",
      "False True\n"
     ]
    }
   ],
   "source": [
    "# logical operators: and or not\n",
    "print (True or True, True or False, False or True, False or False)\n",
    "print (True and True, True and False, False and True, False and False)\n",
    "print (not True, not False)"
   ]
  },
  {
   "cell_type": "code",
   "execution_count": 32,
   "id": "932eeaf2-8d98-4388-a0fc-b9149d7a204a",
   "metadata": {},
   "outputs": [
    {
     "name": "stdout",
     "output_type": "stream",
     "text": [
      "So 100 is an EVEN number...\n",
      "So 105 is an ODD number...\n"
     ]
    }
   ],
   "source": [
    "# operators can be divided in three categories:\n",
    "# category - 1: Unary operator (operator operand), -10, +10\n",
    "# category - 2: Binary operator (operand operator operand), 100 + 40, 100 - 40, 100 % 40\n",
    "# category - 3: Ternary operator (operator and three operands)\n",
    "num1 = 100\n",
    "result = \"EVEN\" if (num1 % 2 == 0) else \"ODD\"\n",
    "print (f\"So {num1} is an {result} number...\")\n",
    "\n",
    "num1 = 105\n",
    "result = \"EVEN\" if (num1 % 2 == 0) else \"ODD\"\n",
    "print (f\"So {num1} is an {result} number...\")"
   ]
  },
  {
   "cell_type": "code",
   "execution_count": 50,
   "id": "61a1db15-d5f7-4a0e-8df3-2eabf448ae2e",
   "metadata": {},
   "outputs": [
    {
     "name": "stdout",
     "output_type": "stream",
     "text": [
      "100\n",
      "150\n",
      "140\n",
      "1400\n"
     ]
    }
   ],
   "source": [
    "# assignment and sepcial assignment operators\n",
    "var1 = 100\n",
    "print (var1)\n",
    "var1 += 50\n",
    "print (var1)\n",
    "var1 -= 10\n",
    "print (var1)\n",
    "var1 *= 10\n",
    "print (var1)"
   ]
  },
  {
   "cell_type": "markdown",
   "id": "6267c571-1bdc-4901-a042-11510384e755",
   "metadata": {},
   "source": [
    "### Conditional Statement"
   ]
  },
  {
   "cell_type": "code",
   "execution_count": 42,
   "id": "c27cbbc4-741c-4cbb-9bd9-b94bef841df6",
   "metadata": {},
   "outputs": [
    {
     "name": "stdin",
     "output_type": "stream",
     "text": [
      "Please enter the first integer number:  300\n",
      "Please enter the second integer number:  100\n",
      "Please enter the third integer number:  200\n"
     ]
    },
    {
     "name": "stdout",
     "output_type": "stream",
     "text": [
      "So the FIRST Number is the Maximum number...\n",
      "So the Maximum Number is 300...\n",
      "End of the program...\n"
     ]
    }
   ],
   "source": [
    "# find the maximum of three user given integer numbers\n",
    "num1 = int(input(\"Please enter the first integer number: \"))\n",
    "num2 = int(input(\"Please enter the second integer number: \"))\n",
    "num3 = int(input(\"Please enter the third integer number: \"))\n",
    "if (num1 > num2):\n",
    "    if (num1 > num3):\n",
    "        print (\"So the FIRST Number is the Maximum number...\")\n",
    "        print (f\"So the Maximum Number is {num1}...\")\n",
    "    else:\n",
    "        print (\"So the THIRD Number is the Maximum number...\")\n",
    "        print (f\"So the Maximum Number is {num3}...\")\n",
    "elif (num2 > num3):\n",
    "    print (\"So the SECOND Number is the Maximum number...\")\n",
    "    print (f\"So the Maximum Number is {num2}...\")\n",
    "else:\n",
    "    print (\"So the THIRD Number is the Maximum number...\")\n",
    "    print (f\"So the Maximum Number is {num3}...\")\n",
    "print (\"End of the program...\")"
   ]
  },
  {
   "cell_type": "code",
   "execution_count": 46,
   "id": "fee7deb1-bee3-490d-8178-8342276d3a7c",
   "metadata": {},
   "outputs": [
    {
     "name": "stdin",
     "output_type": "stream",
     "text": [
      "Please enter the first integer number:  200\n",
      "Please enter the second integer number:  100\n",
      "Please enter the third integer number:  300\n"
     ]
    },
    {
     "name": "stdout",
     "output_type": "stream",
     "text": [
      "So the THIRD Number is the Maximum number...\n",
      "So the Maximum Number is 300...\n",
      "End of the program...\n"
     ]
    }
   ],
   "source": [
    "# find the maximum of three user given integer numbers\n",
    "num1 = int(input(\"Please enter the first integer number: \"))\n",
    "num2 = int(input(\"Please enter the second integer number: \"))\n",
    "num3 = int(input(\"Please enter the third integer number: \"))\n",
    "if (num1 > num2 and num1 > num3):\n",
    "    print (\"So the FIRST Number is the Maximum number...\")\n",
    "    print (f\"So the Maximum Number is {num1}...\")\n",
    "elif (num2 > num3):\n",
    "    print (\"So the SECOND Number is the Maximum number...\")\n",
    "    print (f\"So the Maximum Number is {num2}...\")\n",
    "else:\n",
    "    print (\"So the THIRD Number is the Maximum number...\")\n",
    "    print (f\"So the Maximum Number is {num3}...\")\n",
    "print (\"End of the program...\")"
   ]
  },
  {
   "cell_type": "code",
   "execution_count": 48,
   "id": "d42a5353-c6d8-4070-b98e-c8aae4a258ba",
   "metadata": {},
   "outputs": [
    {
     "name": "stdout",
     "output_type": "stream",
     "text": [
      "100 <class 'int'>\n",
      "100.5 <class 'float'>\n",
      "USA <class 'str'>\n",
      "True <class 'bool'>\n",
      "I <class 'str'>\n",
      "False <class 'bool'>\n"
     ]
    }
   ],
   "source": [
    "# python supports dynamic type variables\n",
    "var = 100\n",
    "print (var, type(var))\n",
    "var = 100.50\n",
    "print (var, type(var))\n",
    "var = 'USA'\n",
    "print (var, type(var))\n",
    "var = True\n",
    "print (var, type(var))\n",
    "var = \"I\"\n",
    "print (var, type(var))\n",
    "var = False\n",
    "print (var, type(var))"
   ]
  },
  {
   "cell_type": "markdown",
   "id": "2ae24c7c-f139-4932-ae70-9f94c9b4438a",
   "metadata": {},
   "source": [
    "### Python Loop Constructs"
   ]
  },
  {
   "cell_type": "code",
   "execution_count": 1,
   "id": "8c7eed61-1503-4910-a90a-91e5ed3581df",
   "metadata": {},
   "outputs": [
    {
     "name": "stdout",
     "output_type": "stream",
     "text": [
      "i = 0...\n",
      "i = 1...\n",
      "i = 2...\n",
      "i = 3...\n",
      "i = 4...\n",
      "i = 5...\n",
      "i = 6...\n",
      "i = 7...\n",
      "i = 8...\n",
      "i = 9...\n",
      "End of the program...\n"
     ]
    }
   ],
   "source": [
    "for i in range(10):\n",
    "    print (f\"i = {i}...\")\n",
    "print (\"End of the program...\")"
   ]
  },
  {
   "cell_type": "code",
   "execution_count": 2,
   "id": "5ece1c02-0f6d-453a-82bf-623085bd33fa",
   "metadata": {},
   "outputs": [
    {
     "name": "stdout",
     "output_type": "stream",
     "text": [
      "[0, 1, 2, 3, 4, 5, 6, 7, 8, 9] 10\n"
     ]
    }
   ],
   "source": [
    "list1 = list(range(10))\n",
    "print (list1, len(list1))"
   ]
  },
  {
   "cell_type": "code",
   "execution_count": 3,
   "id": "fae96bb4-4fcb-4ca6-8dbe-bbcbdeb9ffa3",
   "metadata": {},
   "outputs": [
    {
     "name": "stdout",
     "output_type": "stream",
     "text": [
      "i = 0...\n",
      "i = 1...\n",
      "i = 2...\n",
      "i = 3...\n",
      "i = 4...\n",
      "i = 5...\n",
      "i = 6...\n",
      "i = 7...\n",
      "i = 8...\n",
      "i = 9...\n",
      "End of the program...\n"
     ]
    }
   ],
   "source": [
    "for i in range(0, 10):\n",
    "    print (f\"i = {i}...\")\n",
    "print (\"End of the program...\")"
   ]
  },
  {
   "cell_type": "code",
   "execution_count": 5,
   "id": "aef59b5c-9180-455c-a501-e67ede32a005",
   "metadata": {},
   "outputs": [
    {
     "name": "stdout",
     "output_type": "stream",
     "text": [
      "i = 0...\n",
      "i = 1...\n",
      "i = 2...\n",
      "i = 3...\n",
      "i = 4...\n",
      "i = 5...\n",
      "i = 6...\n",
      "i = 7...\n",
      "i = 8...\n",
      "i = 9...\n",
      "End of the program...\n"
     ]
    }
   ],
   "source": [
    "for i in range(0, 10, 1):   # range(10) = range(0, 10) = range(0, 0, 1)\n",
    "    print (f\"i = {i}...\")\n",
    "print (\"End of the program...\")"
   ]
  },
  {
   "cell_type": "code",
   "execution_count": 6,
   "id": "77196d3a-197c-4302-81ef-34de753f468e",
   "metadata": {},
   "outputs": [
    {
     "name": "stdout",
     "output_type": "stream",
     "text": [
      "i = 0...\n",
      "i = 2...\n",
      "i = 4...\n",
      "i = 6...\n",
      "i = 8...\n",
      "End of the program...\n"
     ]
    }
   ],
   "source": [
    "for i in range(0, 10, 2):\n",
    "    print (f\"i = {i}...\")\n",
    "print (\"End of the program...\")"
   ]
  },
  {
   "cell_type": "code",
   "execution_count": 8,
   "id": "0729936d-945d-48fe-bbc8-7f6067ba0614",
   "metadata": {},
   "outputs": [
    {
     "name": "stdout",
     "output_type": "stream",
     "text": [
      "i = 10...\n",
      "i = 8...\n",
      "i = 6...\n",
      "i = 4...\n",
      "i = 2...\n",
      "i = 0...\n",
      "i = -2...\n",
      "i = -4...\n",
      "i = -6...\n",
      "i = -8...\n",
      "Loop executed for 10 number of times...\n",
      "End of the program...\n"
     ]
    }
   ],
   "source": [
    "count = 0\n",
    "for i in range(10, -10, -2):\n",
    "    print (f\"i = {i}...\")\n",
    "    count += 1\n",
    "print (f\"Loop executed for {count} number of times...\")\n",
    "print (\"End of the program...\")"
   ]
  },
  {
   "cell_type": "code",
   "execution_count": 9,
   "id": "423226ca-ff7f-4852-a624-99b1fccb2258",
   "metadata": {},
   "outputs": [
    {
     "name": "stdout",
     "output_type": "stream",
     "text": [
      "i = -10...\n",
      "i = -9...\n",
      "i = -8...\n",
      "i = -7...\n",
      "i = -6...\n",
      "i = -5...\n",
      "i = -4...\n",
      "i = -3...\n",
      "i = -2...\n",
      "i = -1...\n",
      "i = 0...\n",
      "i = 1...\n",
      "i = 2...\n",
      "i = 3...\n",
      "i = 4...\n",
      "i = 5...\n",
      "i = 6...\n",
      "i = 7...\n",
      "i = 8...\n",
      "i = 9...\n",
      "Loop executed for 20 number of times...\n",
      "End of the program...\n"
     ]
    }
   ],
   "source": [
    "count = 0\n",
    "for i in range(-10, 10, 1):\n",
    "    print (f\"i = {i}...\")\n",
    "    count += 1\n",
    "print (f\"Loop executed for {count} number of times...\")\n",
    "print (\"End of the program...\")"
   ]
  },
  {
   "cell_type": "code",
   "execution_count": 12,
   "id": "5e11eafa-9892-4393-8755-bb157fe9472d",
   "metadata": {},
   "outputs": [
    {
     "name": "stdout",
     "output_type": "stream",
     "text": [
      "Looping for i = 0...\n",
      "Looping for i = 1...\n",
      "Looping for i = 2...\n",
      "Looping for i = 3...\n",
      "Looping for i = 4...\n",
      "Looping for i = 5...\n",
      "Looping for i = 6...\n",
      "Looping for i = 7...\n",
      "Looping for i = 8...\n",
      "Looping for i = 9...\n",
      "Had a smooth iteration...\n",
      "End of the looping...\n"
     ]
    }
   ],
   "source": [
    "for i in range(10):\n",
    "    print (f\"Looping for i = {i}...\")\n",
    "else:\n",
    "    print (\"Had a smooth iteration...\")\n",
    "print (\"End of the looping...\")"
   ]
  },
  {
   "cell_type": "code",
   "execution_count": 16,
   "id": "520135b2-a967-42b2-b406-37e1a98da031",
   "metadata": {},
   "outputs": [
    {
     "name": "stdout",
     "output_type": "stream",
     "text": [
      "Looping for i = 0...\n",
      "Looping for i = 1...\n",
      "Looping for i = 2...\n",
      "Looping for i = 3...\n",
      "Looping for i = 4...\n",
      "Looping for i = 5...\n",
      "Looping for i = 6...\n",
      "End of the looping...\n"
     ]
    }
   ],
   "source": [
    "for i in range(10):\n",
    "    print (f\"Looping for i = {i}...\")\n",
    "    if (i == 6): break\n",
    "else:\n",
    "    print (\"Had a smooth iteration...\")\n",
    "print (\"End of the looping...\")"
   ]
  },
  {
   "cell_type": "code",
   "execution_count": 20,
   "id": "a9e409ca-9ffe-478c-b7b9-f1d438760198",
   "metadata": {},
   "outputs": [
    {
     "name": "stdin",
     "output_type": "stream",
     "text": [
      "Please enter one integer number: 101\n"
     ]
    },
    {
     "name": "stdout",
     "output_type": "stream",
     "text": [
      "101 is a PRIME Number...\n",
      "End of the execution...\n"
     ]
    }
   ],
   "source": [
    "num = int(input(\"Please enter one integer number:\"))\n",
    "for i in range(2, num):\n",
    "    if (num % i == 0):\n",
    "        print (f\"{num} is NOT a PRIME Number...\")\n",
    "        break\n",
    "else:\n",
    "    print (f\"{num} is a PRIME Number...\")\n",
    "print (\"End of the execution...\")"
   ]
  },
  {
   "cell_type": "code",
   "execution_count": 24,
   "id": "9453289e-9ef1-4182-9a39-667b3d46b575",
   "metadata": {},
   "outputs": [
    {
     "name": "stdin",
     "output_type": "stream",
     "text": [
      "Please enter one integer number: 100\n"
     ]
    },
    {
     "name": "stdout",
     "output_type": "stream",
     "text": [
      "100 is NOT a PRIME Number...\n",
      "End of the execution...\n"
     ]
    }
   ],
   "source": [
    "num = int(input(\"Please enter one integer number:\"))\n",
    "i = 2\n",
    "while (i < num):\n",
    "    if (num % i == 0):\n",
    "        print (f\"{num} is NOT a PRIME Number...\")\n",
    "        break\n",
    "    i += 1\n",
    "else:\n",
    "    print (f\"{num} is a PRIME Number...\")\n",
    "print (\"End of the execution...\")"
   ]
  },
  {
   "cell_type": "code",
   "execution_count": 3,
   "id": "d8b38e50-376e-4a7c-8cad-3a1550bbc056",
   "metadata": {},
   "outputs": [
    {
     "name": "stdout",
     "output_type": "stream",
     "text": [
      "Looping for i = 1...\n",
      "Looping for i = 2...\n",
      "Continue again with i = 3...\n",
      "Looping for i = 4...\n",
      "Looping for i = 5...\n",
      "Continue again with i = 6...\n",
      "Looping for i = 7...\n",
      "Looping for i = 8...\n",
      "Looping for i = 9...\n",
      "Else block is executing...\n",
      "End of the execution...\n"
     ]
    }
   ],
   "source": [
    "for i in range(1, 10):\n",
    "    if (i == 3 or i == 6):\n",
    "        print (f\"Continue again with i = {i}...\")\n",
    "        continue\n",
    "    print (f\"Looping for i = {i}...\")\n",
    "else:\n",
    "    print (f\"Else block is executing...\")\n",
    "print (\"End of the execution...\")"
   ]
  },
  {
   "cell_type": "code",
   "execution_count": 2,
   "id": "adb1fcf4-ba78-4e93-b729-f117c1762e64",
   "metadata": {},
   "outputs": [
    {
     "name": "stdout",
     "output_type": "stream",
     "text": [
      "Looping for i = 1...\n",
      "Looping for i = 2...\n",
      "Continue again with i = 3...\n",
      "Looping for i = 4...\n",
      "Looping for i = 5...\n",
      "Continue again with i = 6...\n",
      "Looping for i = 7...\n",
      "Looping for i = 8...\n",
      "Looping for i = 9...\n",
      "Else block is executing...\n",
      "End of the execution...\n"
     ]
    }
   ],
   "source": [
    "i = 1\n",
    "while (i < 10):\n",
    "    if (i == 3 or i == 6):\n",
    "        print (f\"Continue again with i = {i}...\")\n",
    "        i += 1\n",
    "        continue\n",
    "    print (f\"Looping for i = {i}...\")\n",
    "    i += 1\n",
    "else:\n",
    "    print (f\"Else block is executing...\")\n",
    "print (\"End of the execution...\")"
   ]
  },
  {
   "cell_type": "code",
   "execution_count": 7,
   "id": "e1e05fe7-46c0-4ea6-86d5-a685d78e5ee3",
   "metadata": {},
   "outputs": [
    {
     "name": "stdout",
     "output_type": "stream",
     "text": [
      "Looping for i = 1...\n",
      "Looping for i = 2...\n",
      "Continue again with i = 3...\n",
      "Looping for i = 4...\n",
      "Looping for i = 5...\n",
      "Continue again with i = 6...\n",
      "Looping for i = 7...\n",
      "Looping for i = 8...\n",
      "Looping for i = 9...\n",
      "Else block is executing...\n",
      "End of the execution...\n"
     ]
    }
   ],
   "source": [
    "i = 1\n",
    "while (i < 10):\n",
    "    if (i == 3 or i == 6):\n",
    "        print (f\"Continue again with i = {i}...\")\n",
    "        i += 1\n",
    "        continue\n",
    "    else:\n",
    "        pass   # pass is a statement placeholder\n",
    "    print (f\"Looping for i = {i}...\")\n",
    "    i += 1\n",
    "else:\n",
    "    print (f\"Else block is executing...\")\n",
    "print (\"End of the execution...\")"
   ]
  },
  {
   "cell_type": "code",
   "execution_count": 10,
   "id": "261fec9e-14cd-4bbd-8b6a-381591204c4d",
   "metadata": {},
   "outputs": [
    {
     "name": "stdout",
     "output_type": "stream",
     "text": [
      "Visit DOCTOR...\n",
      "Good Morning...\n",
      "Day Number = 1 and Medicine Number = 1...\n",
      "Day Number = 1 and Medicine Number = 2...\n",
      "Day Number = 1 and Medicine Number = 3...\n",
      "Good Night...\n",
      "----------------------------------------------------------\n",
      "Good Morning...\n",
      "Day Number = 2 and Medicine Number = 1...\n",
      "Day Number = 2 and Medicine Number = 2...\n",
      "Day Number = 2 and Medicine Number = 3...\n",
      "Good Night...\n",
      "----------------------------------------------------------\n",
      "Good Morning...\n",
      "Day Number = 3 and Medicine Number = 1...\n",
      "Day Number = 3 and Medicine Number = 2...\n",
      "Day Number = 3 and Medicine Number = 3...\n",
      "Good Night...\n",
      "----------------------------------------------------------\n",
      "Good Morning...\n",
      "Day Number = 4 and Medicine Number = 1...\n",
      "Day Number = 4 and Medicine Number = 2...\n",
      "Day Number = 4 and Medicine Number = 3...\n",
      "Good Night...\n",
      "----------------------------------------------------------\n",
      "Good Morning...\n",
      "Day Number = 5 and Medicine Number = 1...\n",
      "Day Number = 5 and Medicine Number = 2...\n",
      "Day Number = 5 and Medicine Number = 3...\n",
      "Good Night...\n",
      "----------------------------------------------------------\n",
      "So total number of medicines consumed is 15...\n",
      "Thanks to DOCTOR...\n"
     ]
    }
   ],
   "source": [
    "# nested for loops\n",
    "print (\"Visit DOCTOR...\")   # 1 time\n",
    "medicount = 0\n",
    "for day in range(1, 6):\n",
    "    print (\"Good Morning...\")   # 5 times\n",
    "    for medi in range(1, 4):\n",
    "        print (f\"Day Number = {day} and Medicine Number = {medi}...\")   # 15 times\n",
    "        medicount += 1\n",
    "    print (\"Good Night...\")   # 5 times\n",
    "    print (\"----------------------------------------------------------\")   # 5 times\n",
    "print (f\"So total number of medicines consumed is {medicount}...\")\n",
    "print (\"Thanks to DOCTOR...\")   # 1 time"
   ]
  },
  {
   "cell_type": "code",
   "execution_count": 13,
   "id": "029bd3ad-e481-4fa4-a6b8-f24f0acd322a",
   "metadata": {},
   "outputs": [
    {
     "name": "stdout",
     "output_type": "stream",
     "text": [
      "Visit DOCTOR...\n",
      "Good Morning...\n",
      "Day Number = 1 and Medicine Number = 1...\n",
      "Day Number = 1 and Medicine Number = 2...\n",
      "Day Number = 1 and Medicine Number = 3...\n",
      "Good Night...\n",
      "----------------------------------------------------------\n",
      "Good Morning...\n",
      "Day Number = 2 and Medicine Number = 1...\n",
      "Day Number = 2 and Medicine Number = 2...\n",
      "Day Number = 2 and Medicine Number = 3...\n",
      "Good Night...\n",
      "----------------------------------------------------------\n",
      "Good Morning...\n",
      "Day Number = 3 and Medicine Number = 1...\n",
      "Day Number = 3 and Medicine Number = 2...\n",
      "Day Number = 3 and Medicine Number = 3...\n",
      "Good Night...\n",
      "----------------------------------------------------------\n",
      "Good Morning...\n",
      "Day Number = 4 and Medicine Number = 1...\n",
      "Day Number = 4 and Medicine Number = 2...\n",
      "Day Number = 4 and Medicine Number = 3...\n",
      "Good Night...\n",
      "----------------------------------------------------------\n",
      "Good Morning...\n",
      "Day Number = 5 and Medicine Number = 1...\n",
      "Day Number = 5 and Medicine Number = 2...\n",
      "Day Number = 5 and Medicine Number = 3...\n",
      "Good Night...\n",
      "----------------------------------------------------------\n",
      "So total number of medicines consumed is 15...\n",
      "Thanks to DOCTOR...\n"
     ]
    }
   ],
   "source": [
    "# nested while loops\n",
    "print (\"Visit DOCTOR...\")   # 1 time\n",
    "medicount = 0\n",
    "day = 1\n",
    "while day < 6:\n",
    "    print (\"Good Morning...\")   # 5 times\n",
    "    medi = 1\n",
    "    while medi <= 3:\n",
    "        print (f\"Day Number = {day} and Medicine Number = {medi}...\")   # 15 times\n",
    "        medicount += 1\n",
    "        medi += 1\n",
    "    print (\"Good Night...\")   # 5 times\n",
    "    print (\"----------------------------------------------------------\")   # 5 times\n",
    "    day += 1\n",
    "print (f\"So total number of medicines consumed is {medicount}...\")\n",
    "print (\"Thanks to DOCTOR...\")   # 1 time"
   ]
  },
  {
   "cell_type": "code",
   "execution_count": 15,
   "id": "e3d11911-5de2-4df7-b732-807297a15f8c",
   "metadata": {},
   "outputs": [
    {
     "name": "stdout",
     "output_type": "stream",
     "text": [
      "Hello Hello Hello Hello Hello \n",
      "Welcome Welcome Welcome Welcome Welcome Welcome \n"
     ]
    }
   ],
   "source": [
    "print (\"Hello \" * 5)\n",
    "print (\"Welcome \" * 6)"
   ]
  },
  {
   "cell_type": "code",
   "execution_count": null,
   "id": "5da56dde-d836-4526-b1a4-cd9407b13b19",
   "metadata": {},
   "outputs": [],
   "source": [
    "n = 6 (user given number)\n",
    "               i    .    *\n",
    "             ---------------\n",
    ".....*         1    5    1         (i, n)\n",
    "....***        2    4    3    . => (n - i)\n",
    "...*****       3    3    5\n",
    "..*******      4    2    7    * => (2 * i - 1)\n",
    ".*********     5    1    9\n",
    "***********    6    0   11\n",
    "             ---------------\n",
    "             Tracing Table"
   ]
  },
  {
   "cell_type": "code",
   "execution_count": 18,
   "id": "6ebcccc8-9663-4145-8b16-b0cea5d9fd1a",
   "metadata": {},
   "outputs": [
    {
     "name": "stdin",
     "output_type": "stream",
     "text": [
      "Please enter the number of terms:  9\n"
     ]
    },
    {
     "name": "stdout",
     "output_type": "stream",
     "text": [
      "........*\n",
      ".......***\n",
      "......*****\n",
      ".....*******\n",
      "....*********\n",
      "...***********\n",
      "..*************\n",
      ".***************\n",
      "*****************\n",
      "End of the pattern printing...\n"
     ]
    }
   ],
   "source": [
    "n = int(input(\"Please enter the number of terms: \"))\n",
    "for i in range(1, n + 1):\n",
    "    print (\".\" * (n - i) + \"*\" * (2 * i - 1))\n",
    "print (\"End of the pattern printing...\")"
   ]
  },
  {
   "cell_type": "code",
   "execution_count": null,
   "id": "59f799d9-60ad-4220-83cd-613de0a79b3c",
   "metadata": {},
   "outputs": [],
   "source": [
    "n = 11 (user given ODD number)\n",
    "               i    .    *\n",
    "             ---------------  m = (n + 1) // 2 = 6\n",
    "***********    1    0   11         (i, n, m)\n",
    ".*********     2    1    9    . => (i - 1)\n",
    "..*******      3    2    7\n",
    "...*****       4    3    5    * => (2 * (m - i) + 1)\n",
    "....***        5    4    3\n",
    ".....*       __6____5____1__\n",
    "....***        7    4    3\n",
    "...*****       8    3    5    . => (n - i)\n",
    "..*******      9    2    7\n",
    ".*********    10    1    9    * => (2 * (i - m) + 1)\n",
    "***********   11    0   11\n",
    "             ---------------\n",
    "             Tracing Table"
   ]
  },
  {
   "cell_type": "code",
   "execution_count": 22,
   "id": "9fce7d42-da18-459d-b2b2-aaa5a6da03ca",
   "metadata": {},
   "outputs": [
    {
     "name": "stdin",
     "output_type": "stream",
     "text": [
      "Please enter the ODD number of terms:  6\n",
      "Please enter the ODD number of terms:  12\n",
      "Please enter the ODD number of terms:  10\n",
      "Please enter the ODD number of terms:  18\n",
      "Please enter the ODD number of terms:  11\n"
     ]
    },
    {
     "name": "stdout",
     "output_type": "stream",
     "text": [
      "***********\n",
      ".*********\n",
      "..*******\n",
      "...*****\n",
      "....***\n",
      ".....*\n",
      "....***\n",
      "...*****\n",
      "..*******\n",
      ".*********\n",
      "***********\n",
      "End of the pattern printing...\n"
     ]
    }
   ],
   "source": [
    "while(True):\n",
    "    n = int(input(\"Please enter the ODD number of terms: \"))\n",
    "    if (n % 2 == 1): break\n",
    "m = (n + 1) // 2\n",
    "for i in range(1, n + 1):\n",
    "    if (i > m): b = (n - i); s = (2 * (i - m) + 1)\n",
    "    else: b = (i - 1); s = (2 * (m - i) + 1)\n",
    "    print (\".\" * b + \"*\" * s)\n",
    "print (\"End of the pattern printing...\")"
   ]
  },
  {
   "cell_type": "markdown",
   "id": "02a90b2d-175c-466a-ad16-eb7fd4c60135",
   "metadata": {},
   "source": [
    "### **User Defined Function (UDF)**"
   ]
  },
  {
   "cell_type": "code",
   "execution_count": 1,
   "id": "4e614b58-8b93-4da5-beb3-fce5f9114fca",
   "metadata": {},
   "outputs": [
    {
     "name": "stdout",
     "output_type": "stream",
     "text": [
      "<class 'function'> 2245806317648\n",
      "Welcome Welcome Welcome Welcome Welcome \n",
      "Welcome Welcome Welcome Welcome Welcome \n",
      "Welcome Welcome Welcome Welcome Welcome \n"
     ]
    }
   ],
   "source": [
    "def funct1():\n",
    "    print (\"Welcome \" * 5)\n",
    "    \n",
    "print (type(funct1), id(funct1))\n",
    "funct1()\n",
    "funct1()\n",
    "funct1()"
   ]
  },
  {
   "cell_type": "code",
   "execution_count": 2,
   "id": "6edcfdd8-d00c-4af5-aeaa-708f284c353d",
   "metadata": {},
   "outputs": [
    {
     "name": "stdout",
     "output_type": "stream",
     "text": [
      "Hello Hello Hello Hello Hello Hello Hello Hello Hello Hello \n",
      "Welcome Welcome Welcome Welcome Welcome \n"
     ]
    }
   ],
   "source": [
    "def funct2(msg, times):   # msg and times are called as positional parameters\n",
    "    print (msg * times)\n",
    "    \n",
    "funct2 (\"Hello \", 10)     # \"Hello \" and 10 are called as positional arguments\n",
    "funct2 (\"Welcome \", 5) "
   ]
  },
  {
   "cell_type": "code",
   "execution_count": 4,
   "id": "535cf761-562e-40fd-bf98-9f9d79c7856d",
   "metadata": {},
   "outputs": [
    {
     "name": "stdout",
     "output_type": "stream",
     "text": [
      "Hello Hello Hello \n",
      "Hi !!!  Hi !!!  Hi !!!  Hi !!!  Hi !!!  \n",
      "Hi !!!  Hi !!!  Hi !!!  Hi !!!  Hi !!!  \n"
     ]
    }
   ],
   "source": [
    "def funct3(msg, times):\n",
    "    return msg * times\n",
    "\n",
    "result = funct3(\"Hello \", 3)\n",
    "print (result)\n",
    "result = funct3(\"Hi !!!  \", 5)\n",
    "print (result)\n",
    "print (funct3(\"Hi !!!  \", 5))"
   ]
  },
  {
   "cell_type": "code",
   "execution_count": 13,
   "id": "017b2422-667c-4b05-a9f1-6e6a00988d35",
   "metadata": {},
   "outputs": [
    {
     "name": "stdout",
     "output_type": "stream",
     "text": [
      "par1 = 100, par2 = 200 and par3 = 300...\n",
      "par1 = 100, par2 = 200 and par3 = 333...\n",
      "par1 = 100, par2 = 222 and par3 = 333...\n",
      "par1 = 111, par2 = 222 and par3 = 333...\n",
      "par1 = 100, par2 = 222 and par3 = 300...\n",
      "par1 = 111, par2 = 200 and par3 = 300...\n"
     ]
    }
   ],
   "source": [
    "# function with default arguments\n",
    "def funct4(par1 = 111, par2 = 222, par3 = 333):\n",
    "    print (f\"par1 = {par1}, par2 = {par2} and par3 = {par3}...\")\n",
    "    \n",
    "funct4(100, 200, 300)\n",
    "funct4(100, 200)\n",
    "funct4(100)\n",
    "funct4()\n",
    "funct4(par1 = 100, par3 = 300)\n",
    "funct4(par3 = 300, par2 = 200)"
   ]
  },
  {
   "cell_type": "code",
   "execution_count": 14,
   "id": "d7169ec5-307f-43b5-b153-d7ce3a096878",
   "metadata": {},
   "outputs": [
    {
     "name": "stdout",
     "output_type": "stream",
     "text": [
      "500\n",
      "200\n"
     ]
    }
   ],
   "source": [
    "def funct5(num1, num2 = None):\n",
    "    # if (num2 == None):\n",
    "    if (num2 is None):\n",
    "        return 2 * num1\n",
    "    else:\n",
    "        return num1 + num2\n",
    "    \n",
    "print (funct5(100, 400))\n",
    "print (funct5(100))"
   ]
  },
  {
   "cell_type": "code",
   "execution_count": 16,
   "id": "764cd1bf-ae7e-46e4-b7a0-da7bb1b44204",
   "metadata": {},
   "outputs": [
    {
     "name": "stdout",
     "output_type": "stream",
     "text": [
      "Total = 140, Difference = 60, Product = 4000 and Quotient = 2.5...\n",
      "(140, 60, 4000, 2.5) <class 'tuple'> 4\n",
      "Total = 140, Difference = 60, Product = 4000 and Quotient = 2.5...\n"
     ]
    }
   ],
   "source": [
    "# function returning multiple arguments\n",
    "def funct6(num1, num2): \n",
    "    total = num1 + num2\n",
    "    difference = num1 - num2\n",
    "    product = num1 * num2\n",
    "    quotient = num1 / num2\n",
    "    return total, difference, product, quotient\n",
    "\n",
    "tt, dd, pp, qq = funct6(100, 40)\n",
    "print (f\"Total = {tt}, Difference = {dd}, Product = {pp} and Quotient = {qq}...\")\n",
    "\n",
    "result = funct6(100, 40)\n",
    "print (result, type(result), len(result))\n",
    "print (f\"Total = {result[0]}, Difference = {result[1]}, Product = {result[2]} and Quotient = {result[3]}...\")"
   ]
  },
  {
   "cell_type": "code",
   "execution_count": 17,
   "id": "83d3f55c-2f6d-4faf-8467-5c2b333a54da",
   "metadata": {},
   "outputs": [
    {
     "name": "stdout",
     "output_type": "stream",
     "text": [
      "('Amitava', 'Developer', 65000) 3 <class 'tuple'> 2245835330816\n",
      "('Amitava', 'Developer', 65000, 'Pune') 4 <class 'tuple'> 2245835268688\n",
      "('Amitava', 'Developer', 65000, 'Pune', 'Masters') 5 <class 'tuple'> 2245835266608\n"
     ]
    }
   ],
   "source": [
    "# function with variable number of arguments\n",
    "def funct7(*arg):    # *arg means forcefully defining arg as a tuple type collection object\n",
    "    print (arg, len(arg), type(arg), id(arg))\n",
    "    \n",
    "funct7(\"Amitava\", \"Developer\", 65000)\n",
    "funct7(\"Amitava\", \"Developer\", 65000, \"Pune\")\n",
    "funct7(\"Amitava\", \"Developer\", 65000, \"Pune\", \"Masters\")"
   ]
  },
  {
   "cell_type": "code",
   "execution_count": 18,
   "id": "095d3465-65af-451d-aeaf-9c97e7b28a21",
   "metadata": {},
   "outputs": [
    {
     "name": "stdout",
     "output_type": "stream",
     "text": [
      "{'name': 'Amitava', 'job': 'Developer', 'salary': 65000, 'location': 'Pune'} 4 <class 'dict'> 2245835218880\n",
      "{'name': 'Amitava', 'job': 'Developer', 'salary': 65000, 'location': 'Pune', 'qualification': 'ME'} 5 <class 'dict'> 2245835219072\n"
     ]
    }
   ],
   "source": [
    "# function with variable number of arguments\n",
    "def funct8(**kwarg):     # **kwarg means forcefully defining kwarg as a dictionary type key-word argument\n",
    "    print (kwarg, len(kwarg), type(kwarg), id(kwarg))\n",
    "    \n",
    "funct8(name = \"Amitava\", job = \"Developer\", salary = 65000, location = \"Pune\")\n",
    "funct8(name = \"Amitava\", job = \"Developer\", salary = 65000, location = \"Pune\", qualification = \"ME\")"
   ]
  },
  {
   "cell_type": "code",
   "execution_count": 19,
   "id": "c877fb79-8dd7-401d-bae4-8c1e296c309e",
   "metadata": {},
   "outputs": [
    {
     "name": "stdout",
     "output_type": "stream",
     "text": [
      "('Amitava', 'Developer', 65000) 3 <class 'tuple'> 2245835030784\n",
      "{'location': 'Pune', 'qualification': 'Masters', 'hobby': 'drawing'} 3 <class 'dict'> 2245835215744\n",
      "\n",
      "('Amitava', 'Developer', 65000) 3 <class 'tuple'> 2245835331328\n",
      "{} 0 <class 'dict'> 2245835214208\n",
      "\n",
      "() 0 <class 'tuple'> 2245719703664\n",
      "{'location': 'Pune', 'qualification': 'Masters', 'hobby': 'drawing'} 3 <class 'dict'> 2245833883520\n"
     ]
    }
   ],
   "source": [
    "# function with variable number of arguments\n",
    "def funct9(*arg, **kwarg):\n",
    "    print (arg, len(arg), type(arg), id(arg))\n",
    "    print (kwarg, len(kwarg), type(kwarg), id(kwarg))\n",
    "    \n",
    "funct9(\"Amitava\", \"Developer\", 65000, location = \"Pune\", qualification = \"Masters\", hobby='drawing')\n",
    "print ()\n",
    "funct9(\"Amitava\", \"Developer\", 65000)\n",
    "print ()\n",
    "funct9(location = \"Pune\", qualification = \"Masters\", hobby = 'drawing')"
   ]
  },
  {
   "cell_type": "code",
   "execution_count": 20,
   "id": "4a1b710e-0a61-4e4f-b6e9-980e3b6c3dfb",
   "metadata": {},
   "outputs": [
    {
     "name": "stdout",
     "output_type": "stream",
     "text": [
      "Executing for i = 2...\n",
      "Executing for i = 3...\n",
      "Executing for i = 4...\n",
      "So factorial of 5 is 120...\n"
     ]
    }
   ],
   "source": [
    "# non-recursive factorial calculating function\n",
    "# 5! = 1 * 2 * 3 * 4 * 5 = 5 * 4 * 3 * 2 * 1 = 120\n",
    "def factorial_nr(num):\n",
    "    if (num == 0 or num == 1): return 1\n",
    "    fact = num\n",
    "    for i in range(2, num):\n",
    "        print (f\"Executing for i = {i}...\")\n",
    "        fact *= i\n",
    "    return fact\n",
    "\n",
    "n = 5\n",
    "result = factorial_nr(n)\n",
    "print (f\"So factorial of {n} is {result}...\")"
   ]
  },
  {
   "cell_type": "code",
   "execution_count": 21,
   "id": "3fd1685f-49ca-4944-b68a-9af6bf4f69b8",
   "metadata": {},
   "outputs": [
    {
     "name": "stdout",
     "output_type": "stream",
     "text": [
      "So factorial of 5 is 120...\n"
     ]
    }
   ],
   "source": [
    "# recursive factorial calculating function\n",
    "# 5! = 1 * 2 * 3 * 4 * 5 = 5 * 4 * 3 * 2 * 1 = 120\n",
    "def factorial_r(num):\n",
    "    if (num == 0 or num == 1): return 1  # base case: for certain input values outputs are pre-known, and where recursion terminates\n",
    "    return num * factorial_r(num - 1)    # reursive case: the function will call itself, n! = n * (n - 1)!\n",
    "\n",
    "n = 5\n",
    "result = factorial_r(n)\n",
    "print (f\"So factorial of {n} is {result}...\")"
   ]
  },
  {
   "cell_type": "code",
   "execution_count": null,
   "id": "8b60a2fd-37f4-4573-bb10-c01cb22e1f39",
   "metadata": {},
   "outputs": [],
   "source": [
    "5! = 5 * 4!\n",
    "         4 * 3!\n",
    "             3 * 2!\n",
    "                 2 * 1!\n",
    "                     1\n",
    "                 2\n",
    "             6\n",
    "         24\n",
    "     120"
   ]
  },
  {
   "cell_type": "markdown",
   "id": "c2c8e6ac-ff29-46f2-8a70-9fd37861ce92",
   "metadata": {},
   "source": [
    "#### Lambda Function\n",
    "> In Python programming, a lambda function is a small anonymous function that can have any number of arguments, but can only have one expression. The expression is evaluated and returned as the function result. Lambda functions are commonly used in combination with higher-order functions such as map(), filter(), and reduce().\n",
    "\n",
    "Some of the properties of lambda functions in Python programming include:\n",
    "* **Anonymous:** Lambda functions are anonymous, meaning they do not have a name like regular functions. They are defined using the keyword \"lambda\" followed by the arguments and the expression.\n",
    "* **Single Expression:** A lambda function can only contain a single expression that is evaluated and returned as the function result. This means that it cannot contain multiple statements or control flow structures.\n",
    "* **Concise:** Lambda functions are concise and can be defined in a single line of code. This makes them useful for defining simple functions on-the-fly.\n",
    "* **Immutable:** Lambda functions are immutable, meaning they cannot be modified once defined. This means that you cannot change the behavior of a lambda function after it has been defined.\n",
    "* **Higher-order Functions:** Lambda functions are often used in combination with higher-order functions such as map(), filter(), and reduce(). These functions take other functions as arguments and return new functions as results.\n",
    "* **Memory-efficient:** Lambda functions are memory-efficient since they are defined on-the-fly and do not require a separate function definition. This can be useful when working with large data sets or when memory usage is a concern."
   ]
  },
  {
   "cell_type": "code",
   "execution_count": 22,
   "id": "a5ac680c-1087-460d-aaff-5d21b99c2129",
   "metadata": {},
   "outputs": [
    {
     "name": "stdout",
     "output_type": "stream",
     "text": [
      "25 <function <lambda> at 0x0000020AE61C3640> <class 'function'> 2245833537088\n",
      "36\n"
     ]
    }
   ],
   "source": [
    "# lambda function\n",
    "my_square = lambda num: num * num\n",
    "\n",
    "print (my_square(5), my_square, type(my_square), id(my_square))\n",
    "result = my_square(6)\n",
    "print (result)"
   ]
  },
  {
   "cell_type": "code",
   "execution_count": 23,
   "id": "a1267af1-dc0c-47ec-a1b0-fdb747afeb03",
   "metadata": {},
   "outputs": [
    {
     "name": "stdout",
     "output_type": "stream",
     "text": [
      "900 <function <lambda> at 0x0000020AE61C1FC0> <class 'function'> 2245833531328\n",
      "800\n"
     ]
    }
   ],
   "source": [
    "my_addition = lambda num1, num2: num1 + num2\n",
    "\n",
    "print (my_addition(500, 400), my_addition, type(my_addition), id(my_addition))\n",
    "result = my_addition(300, 500)\n",
    "print (result)"
   ]
  },
  {
   "cell_type": "code",
   "execution_count": 24,
   "id": "091d4319-76b2-481c-bb1d-6833435d649e",
   "metadata": {},
   "outputs": [
    {
     "name": "stdout",
     "output_type": "stream",
     "text": [
      "120 <function <lambda> at 0x0000020AE61C27A0> <class 'function'> 2245833533344\n",
      "720\n"
     ]
    }
   ],
   "source": [
    "# recursive factorial calculation with lambda function\n",
    "my_factorial = lambda num1: 1 if (num1 == 0 or num1 == 1) else num1 * my_factorial(num1 - 1)\n",
    "print (my_factorial(5), my_factorial, type(my_factorial), id(my_factorial))\n",
    "result = my_factorial(6)\n",
    "print (result)"
   ]
  },
  {
   "cell_type": "code",
   "execution_count": 25,
   "id": "fe0b840a-e637-4ac0-8ccb-2341fc2a4e95",
   "metadata": {},
   "outputs": [
    {
     "name": "stdout",
     "output_type": "stream",
     "text": [
      "30\n",
      "80\n",
      "150\n"
     ]
    }
   ],
   "source": [
    "def funct10(num):\n",
    "    myproduct = lambda n: n * num\n",
    "    return myproduct\n",
    "\n",
    "var10 = funct10(10)\n",
    "var20 = funct10(20)\n",
    "print (var10(3))\n",
    "print (var20(4))\n",
    "print (funct10(30)(5))"
   ]
  },
  {
   "cell_type": "code",
   "execution_count": 27,
   "id": "28e2bc70-ad17-4bb7-a328-73aaea58770c",
   "metadata": {},
   "outputs": [
    {
     "name": "stdout",
     "output_type": "stream",
     "text": [
      "500 2245833845808\n",
      "100 2245719690576\n",
      "500 2245833845808\n"
     ]
    }
   ],
   "source": [
    "# using the 'global' keyword\n",
    "def funct11():\n",
    "    i = 100\n",
    "    print (i, id(i))\n",
    "    \n",
    "i = 500\n",
    "print (i, id(i))\n",
    "funct11()\n",
    "print (i, id(i))"
   ]
  },
  {
   "cell_type": "code",
   "execution_count": 28,
   "id": "ecff0ec0-cf5e-4c7d-a411-525cb350a640",
   "metadata": {},
   "outputs": [
    {
     "name": "stdout",
     "output_type": "stream",
     "text": [
      "500 2245833848656\n",
      "100 2245719690576\n",
      "100 2245719690576\n"
     ]
    }
   ],
   "source": [
    "# using the 'global' keyword\n",
    "def funct11():\n",
    "    global i\n",
    "    i = 100\n",
    "    print (i, id(i))\n",
    "    \n",
    "i = 500\n",
    "print (i, id(i))\n",
    "funct11()\n",
    "print (i, id(i))"
   ]
  },
  {
   "cell_type": "code",
   "execution_count": null,
   "id": "867e9849-2fb5-4c03-885a-ef47f2bceb6c",
   "metadata": {},
   "outputs": [],
   "source": []
  },
  {
   "cell_type": "code",
   "execution_count": null,
   "id": "bc1d81c3-fffa-40e2-8d78-38b9a3440695",
   "metadata": {},
   "outputs": [],
   "source": []
  },
  {
   "cell_type": "code",
   "execution_count": null,
   "id": "61d8694d-903d-47bf-ba79-62b35d39f57a",
   "metadata": {},
   "outputs": [],
   "source": []
  },
  {
   "cell_type": "code",
   "execution_count": null,
   "id": "d0fe92ed-f168-468b-b5fc-5f793e20a62f",
   "metadata": {},
   "outputs": [],
   "source": []
  },
  {
   "cell_type": "code",
   "execution_count": null,
   "id": "95ea2288-b43d-475a-8974-7c0d5f80cf10",
   "metadata": {},
   "outputs": [],
   "source": []
  },
  {
   "cell_type": "code",
   "execution_count": null,
   "id": "9f05670a-b5eb-421e-80e8-010e2edbb9ef",
   "metadata": {},
   "outputs": [],
   "source": []
  },
  {
   "cell_type": "code",
   "execution_count": null,
   "id": "e7410147-1177-4bd8-aabf-b038af80b3c8",
   "metadata": {},
   "outputs": [],
   "source": []
  },
  {
   "cell_type": "code",
   "execution_count": null,
   "id": "1a0f1b40-fe17-4064-bbb0-2ef2634d3ce7",
   "metadata": {},
   "outputs": [],
   "source": []
  },
  {
   "cell_type": "code",
   "execution_count": null,
   "id": "3f3b443f-415b-4b03-9de0-4c751c7e3e47",
   "metadata": {},
   "outputs": [],
   "source": []
  },
  {
   "cell_type": "code",
   "execution_count": null,
   "id": "a1cc87f3-6655-4479-b446-f2c705205f18",
   "metadata": {},
   "outputs": [],
   "source": []
  },
  {
   "cell_type": "code",
   "execution_count": null,
   "id": "e41a72da-b0cf-427f-ae18-8e10f9e565bb",
   "metadata": {},
   "outputs": [],
   "source": []
  },
  {
   "cell_type": "code",
   "execution_count": null,
   "id": "7ba6dff4-d734-4d1a-969b-a722709d364a",
   "metadata": {},
   "outputs": [],
   "source": []
  },
  {
   "cell_type": "code",
   "execution_count": null,
   "id": "191a7714-784f-4991-8289-2846716a37da",
   "metadata": {},
   "outputs": [],
   "source": []
  },
  {
   "cell_type": "code",
   "execution_count": null,
   "id": "c5e89a13-e186-4b2d-abcd-1253866fb680",
   "metadata": {},
   "outputs": [],
   "source": []
  }
 ],
 "metadata": {
  "kernelspec": {
   "display_name": "Python 3 (ipykernel)",
   "language": "python",
   "name": "python3"
  },
  "language_info": {
   "codemirror_mode": {
    "name": "ipython",
    "version": 3
   },
   "file_extension": ".py",
   "mimetype": "text/x-python",
   "name": "python",
   "nbconvert_exporter": "python",
   "pygments_lexer": "ipython3",
   "version": "3.10.9"
  }
 },
 "nbformat": 4,
 "nbformat_minor": 5
}
